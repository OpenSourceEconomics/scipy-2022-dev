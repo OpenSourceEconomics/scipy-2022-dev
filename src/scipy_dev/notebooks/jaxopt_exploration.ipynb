{
 "cells": [
  {
   "cell_type": "code",
   "execution_count": 1,
   "id": "843dba34",
   "metadata": {},
   "outputs": [],
   "source": [
    "from jax import config \n",
    "config.update(\"jax_enable_x64\", True)\n",
    "import jax.numpy as jnp\n",
    "from jax import jit, vmap\n",
    "from scipy.optimize import minimize\n",
    "import jaxopt as jo\n",
    "import numpy as np\n",
    "import jax\n",
    "from numpy.testing import assert_array_almost_equal"
   ]
  },
  {
   "cell_type": "markdown",
   "id": "870e16ee",
   "metadata": {},
   "source": [
    "## Define criterion and params"
   ]
  },
  {
   "cell_type": "code",
   "execution_count": 2,
   "id": "c9db0bd3",
   "metadata": {},
   "outputs": [],
   "source": [
    "import numpy as np\n",
    "import jax.numpy as jnp\n",
    "import pytest"
   ]
  },
  {
   "cell_type": "code",
   "execution_count": 18,
   "id": "94e952b6",
   "metadata": {},
   "outputs": [],
   "source": [
    "def distance(x, y):\n",
    "    return np.sum((x - y) ** 2)\n",
    "\n",
    "\n",
    "def distance_jax(x, y):\n",
    "    return jnp.sum((x - y) ** 2)\n",
    "\n",
    "\n",
    "params = np.arange(5).astype(float)\n",
    "np.random.seed(1234)\n",
    "y_arr = np.random.uniform(size=(100, 5)) \n",
    "\n",
    "\n",
    "params_jax = jnp.array(params)\n",
    "y_arr_jax = jnp.array(y_arr)"
   ]
  },
  {
   "cell_type": "markdown",
   "id": "056192d2",
   "metadata": {},
   "source": [
    "## Scipy"
   ]
  },
  {
   "cell_type": "code",
   "execution_count": 19,
   "id": "3ced2264",
   "metadata": {},
   "outputs": [],
   "source": [
    "from scipy.optimize import minimize"
   ]
  },
  {
   "cell_type": "code",
   "execution_count": 21,
   "id": "2463e75b",
   "metadata": {},
   "outputs": [],
   "source": [
    "def batched_optimization_scipy():\n",
    "    result = []\n",
    "    for y in y_arr:\n",
    "        res = minimize(fun=distance2, x0=params, method=\"L-BFGS-B\", args=(y,))\n",
    "        result.append(res.x)\n",
    "    return np.stack(result)"
   ]
  },
  {
   "cell_type": "code",
   "execution_count": 9,
   "id": "f81260be",
   "metadata": {},
   "outputs": [],
   "source": [
    "result = batched_optimization_scipy()\n",
    "\n",
    "assert_array_almost_equal(result, y_arr, decimal=5)"
   ]
  },
  {
   "cell_type": "code",
   "execution_count": 22,
   "id": "90b10eff",
   "metadata": {},
   "outputs": [
    {
     "name": "stdout",
     "output_type": "stream",
     "text": [
      "138 ms ± 614 µs per loop (mean ± std. dev. of 7 runs, 10 loops each)\n"
     ]
    }
   ],
   "source": [
    "%timeit batched_optimization_scipy()"
   ]
  },
  {
   "cell_type": "markdown",
   "id": "b7d0adc3",
   "metadata": {},
   "source": [
    "## JAXopt"
   ]
  },
  {
   "cell_type": "code",
   "execution_count": 8,
   "id": "b009b3ed",
   "metadata": {},
   "outputs": [],
   "source": [
    "def batched_optimization_jax_loop(solver):\n",
    "    results = []\n",
    "    for y in y_arr_jax:\n",
    "        res = solver.run(init_params=params, y=y)\n",
    "        results.append(res.params)\n",
    "    return jnp.stack(results)"
   ]
  },
  {
   "cell_type": "markdown",
   "id": "9f3f9e33",
   "metadata": {},
   "source": [
    "## JAXopt Scipy"
   ]
  },
  {
   "cell_type": "code",
   "execution_count": 12,
   "id": "9b029dae",
   "metadata": {},
   "outputs": [],
   "source": [
    "from jaxopt import ScipyMinimize"
   ]
  },
  {
   "cell_type": "code",
   "execution_count": 13,
   "id": "8db90226",
   "metadata": {},
   "outputs": [],
   "source": [
    "solver = ScipyMinimize(method=\"L-BFGS-B\", fun=distance_jax)"
   ]
  },
  {
   "cell_type": "code",
   "execution_count": 14,
   "id": "a04d29cd",
   "metadata": {},
   "outputs": [],
   "source": [
    "results = batched_optimization_jax_loop(solver)\n",
    "\n",
    "assert_array_almost_equal(results, y_arr_jax)"
   ]
  },
  {
   "cell_type": "code",
   "execution_count": 15,
   "id": "0daeec0e",
   "metadata": {},
   "outputs": [
    {
     "name": "stdout",
     "output_type": "stream",
     "text": [
      "291 ms ± 12.4 ms per loop (mean ± std. dev. of 7 runs, 1 loop each)\n"
     ]
    }
   ],
   "source": [
    "%timeit batched_optimization_jax_loop(solver)"
   ]
  },
  {
   "cell_type": "markdown",
   "id": "56f9b2e0",
   "metadata": {},
   "source": [
    "## JAXopt"
   ]
  },
  {
   "cell_type": "code",
   "execution_count": 5,
   "id": "a4f1def9",
   "metadata": {},
   "outputs": [],
   "source": [
    "from jaxopt import LBFGS"
   ]
  },
  {
   "cell_type": "code",
   "execution_count": 6,
   "id": "d83d371a",
   "metadata": {},
   "outputs": [],
   "source": [
    "solver = LBFGS(fun=distance_jax)"
   ]
  },
  {
   "cell_type": "code",
   "execution_count": 9,
   "id": "4ecc6e45",
   "metadata": {},
   "outputs": [
    {
     "name": "stderr",
     "output_type": "stream",
     "text": [
      "\n",
      "KeyboardInterrupt\n",
      "\n"
     ]
    }
   ],
   "source": [
    "results = batched_optimization_jax_loop(solver)\n",
    "\n",
    "assert_array_almost_equal(results, y_arr_jax)"
   ]
  },
  {
   "cell_type": "markdown",
   "id": "b6a85df1",
   "metadata": {},
   "source": [
    "### GradientDescent"
   ]
  },
  {
   "cell_type": "code",
   "execution_count": null,
   "id": "0dea9f6f",
   "metadata": {},
   "outputs": [],
   "source": [
    "from jaxopt import GradientDescent\n",
    "\n",
    "solver = GradientDescent(fun=distance_jax)"
   ]
  },
  {
   "cell_type": "code",
   "execution_count": null,
   "id": "2e242786",
   "metadata": {},
   "outputs": [],
   "source": [
    "results = batched_optimization_jax_loop(solver)\n",
    "\n",
    "assert_array_almost_equal(results, y_arr_jax, decimal=4)"
   ]
  },
  {
   "cell_type": "code",
   "execution_count": null,
   "id": "18ade2c2",
   "metadata": {},
   "outputs": [],
   "source": [
    "# %timeit batched_optimization_jax_loop(solver)"
   ]
  },
  {
   "cell_type": "markdown",
   "id": "8e934a5e",
   "metadata": {},
   "source": [
    "### NonlinearCG"
   ]
  },
  {
   "cell_type": "code",
   "execution_count": null,
   "id": "55b2293d",
   "metadata": {},
   "outputs": [],
   "source": [
    "from jaxopt import NonlinearCG"
   ]
  },
  {
   "cell_type": "code",
   "execution_count": null,
   "id": "ef2d455b",
   "metadata": {},
   "outputs": [],
   "source": [
    "solver = NonlinearCG(fun=distance_jax)"
   ]
  },
  {
   "cell_type": "code",
   "execution_count": null,
   "id": "f9866177",
   "metadata": {},
   "outputs": [],
   "source": [
    "results = batched_optimization_jax_loop(solver)"
   ]
  },
  {
   "cell_type": "code",
   "execution_count": null,
   "id": "d18e6d69",
   "metadata": {},
   "outputs": [],
   "source": [
    "assert_array_almost_equal(results, y_arr_jax, decimal=3)"
   ]
  },
  {
   "cell_type": "markdown",
   "id": "16d5869f",
   "metadata": {},
   "source": [
    "### Proper batching"
   ]
  },
  {
   "cell_type": "code",
   "execution_count": 14,
   "id": "00edd656",
   "metadata": {},
   "outputs": [],
   "source": [
    "solver = jo.LBFGS(fun=distance_jax2)\n",
    "\n",
    "def solve(x, y):\n",
    "    return solver.run(init_params=x, y=y)[0]\n",
    "\n",
    "batch_solve = jit(vmap(solve, in_axes=(None, 0)))"
   ]
  },
  {
   "cell_type": "code",
   "execution_count": 15,
   "id": "4b741e62",
   "metadata": {},
   "outputs": [],
   "source": [
    "result = batch_solve(params_jax, y_arr_jax)"
   ]
  },
  {
   "cell_type": "code",
   "execution_count": 16,
   "id": "178403de",
   "metadata": {},
   "outputs": [],
   "source": [
    "assert_array_almost_equal(result, y_arr_jax)"
   ]
  },
  {
   "cell_type": "code",
   "execution_count": 17,
   "id": "4dea3b30",
   "metadata": {},
   "outputs": [
    {
     "name": "stdout",
     "output_type": "stream",
     "text": [
      "117 µs ± 3.86 µs per loop (mean ± std. dev. of 7 runs, 10,000 loops each)\n"
     ]
    }
   ],
   "source": [
    "%timeit batch_solve(params_jax, y_arr_jax)"
   ]
  }
 ],
 "metadata": {
  "kernelspec": {
   "display_name": "Python 3 (ipykernel)",
   "language": "python",
   "name": "python3"
  },
  "language_info": {
   "codemirror_mode": {
    "name": "ipython",
    "version": 3
   },
   "file_extension": ".py",
   "mimetype": "text/x-python",
   "name": "python",
   "nbconvert_exporter": "python",
   "pygments_lexer": "ipython3",
   "version": "3.9.0"
  }
 },
 "nbformat": 4,
 "nbformat_minor": 5
}
