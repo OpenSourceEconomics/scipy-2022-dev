{
 "cells": [
  {
   "cell_type": "code",
   "execution_count": 33,
   "id": "843dba34",
   "metadata": {},
   "outputs": [],
   "source": [
    "from jax import config \n",
    "config.update(\"jax_enable_x64\", True)\n",
    "import jax.numpy as jnp\n",
    "from jax import jit, vmap\n",
    "from scipy.optimize import minimize\n",
    "import jaxopt as jo\n",
    "import numpy as np\n",
    "import jax"
   ]
  },
  {
   "cell_type": "code",
   "execution_count": 30,
   "id": "94e952b6",
   "metadata": {},
   "outputs": [],
   "source": [
    "def distance(x, y):\n",
    "    return np.linalg.norm(x - y)\n",
    "\n",
    "\n",
    "def distance_jax(x, y):\n",
    "    return jnp.linalg.norm(x - y)\n",
    "\n",
    "\n",
    "params = np.arange(5).astype(float)\n",
    "np.random.seed(1234)\n",
    "y_arr = np.random.uniform(size=(100, 5)) \n",
    "\n",
    "\n",
    "params_jax = jnp.array(params)\n",
    "y_arr_jax = jnp.array(y_arr)\n",
    "\n"
   ]
  },
  {
   "cell_type": "code",
   "execution_count": 57,
   "id": "4dea3b30",
   "metadata": {},
   "outputs": [
    {
     "name": "stdout",
     "output_type": "stream",
     "text": [
      "17.1 ms ± 25.4 µs per loop (mean ± std. dev. of 7 runs, 1 loop each)\n"
     ]
    }
   ],
   "source": [
    "solver = jo.LBFGS(fun=distance_jax)\n",
    "\n",
    "def solve(x, y):\n",
    "    return solver.run(init_params=x, y=y)[0]\n",
    "\n",
    "batch_solve = jit(vmap(solve, in_axes=(None, 0)))\n",
    "\n",
    "\n",
    "%timeit batch_solve(params_jax, y_arr_jax)\n",
    "\n"
   ]
  },
  {
   "cell_type": "code",
   "execution_count": 58,
   "id": "3b8512ae",
   "metadata": {},
   "outputs": [
    {
     "name": "stdout",
     "output_type": "stream",
     "text": [
      "721 ms ± 2.49 ms per loop (mean ± std. dev. of 7 runs, 1 loop each)\n"
     ]
    }
   ],
   "source": [
    "%%timeit \n",
    "for y in y_arr:\n",
    "    minimize(distance, params, method=\"BFGS\", args=(y,))"
   ]
  },
  {
   "cell_type": "code",
   "execution_count": null,
   "id": "6dcae37f",
   "metadata": {},
   "outputs": [],
   "source": []
  },
  {
   "cell_type": "code",
   "execution_count": null,
   "id": "5ccc9aef",
   "metadata": {},
   "outputs": [],
   "source": []
  }
 ],
 "metadata": {
  "kernelspec": {
   "display_name": "Python 3 (ipykernel)",
   "language": "python",
   "name": "python3"
  },
  "language_info": {
   "codemirror_mode": {
    "name": "ipython",
    "version": 3
   },
   "file_extension": ".py",
   "mimetype": "text/x-python",
   "name": "python",
   "nbconvert_exporter": "python",
   "pygments_lexer": "ipython3",
   "version": "3.9.13"
  }
 },
 "nbformat": 4,
 "nbformat_minor": 5
}
