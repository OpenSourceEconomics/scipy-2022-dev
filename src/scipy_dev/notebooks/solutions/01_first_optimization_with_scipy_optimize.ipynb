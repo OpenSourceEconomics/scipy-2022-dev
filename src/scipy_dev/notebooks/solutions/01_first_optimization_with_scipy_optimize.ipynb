{
 "cells": [
  {
   "cell_type": "markdown",
   "id": "a1a5cb62",
   "metadata": {},
   "source": [
    "# First Optimization\n",
    "\n",
    "In this exercise you will code a criterion function for a numerical optimization from scratch and optimize it with `scipy.optimize`.\n",
    "\n",
    "\n",
    "## Resources\n",
    "\n",
    "- [scipy Documentation](https://docs.scipy.org/doc/scipy/reference/generated/scipy.optimize.minimize.html)\n",
    "\n",
    "\n",
    "## The criterion function\n",
    "\n",
    "**Notation**:\n",
    "\n",
    "- $a$: A scalar floating point number\n",
    "- $b$: A vector of length 3\n",
    "- $C$: A 2 by 2 matrix\n",
    "- $I_n$: Is a n-dimesional identity matrix (Use `np.eye`)\n",
    "- $|| . ||$ is a vector or matrix norm. (Use `np.linalg.norm(.)`, see below for more information)\n",
    "\n",
    "**Criterion Function**:\n",
    "\n",
    "$f(a, b, C) = (a - \\pi)^2 + ||b - \\begin{pmatrix}0,1,2\\end{pmatrix}^\\top|| + ||C - I_2||$\n",
    "\n",
    "**Optimization problem**:\n",
    "\n",
    "$\\min_{a, b, C} f(a, b, C)$\n",
    "\n",
    "**Solution**:\n",
    "\n",
    "$\n",
    "a = \\pi \\\\\n",
    "b = \\begin{pmatrix}0,1,2\\end{pmatrix}^\\top \\\\\n",
    "C = I_2\n",
    "$\n",
    "\n",
    "\n",
    "*Information on norm*:\n",
    "The vector norm is the euclidean norm, the matrix norm is the Frobenius norm."
   ]
  },
  {
   "cell_type": "code",
   "execution_count": 1,
   "id": "15c2b05b",
   "metadata": {},
   "outputs": [],
   "source": [
    "import numpy as np\n",
    "from scipy.optimize import minimize"
   ]
  },
  {
   "cell_type": "markdown",
   "id": "d08582f1",
   "metadata": {},
   "source": [
    "## Task 1: Define the criterion function\n",
    "\n",
    "Note that for scipy.optimize, x has to be a 1-dimensional numpy array. Thus the first step in your criterion function is to parse the vector `x` into `a`, `b` and `C`.\n",
    "\n",
    "## Solution 1:"
   ]
  },
  {
   "cell_type": "code",
   "execution_count": 2,
   "id": "e92a0585",
   "metadata": {},
   "outputs": [],
   "source": [
    "def f(x):\n",
    "    a = x[0]\n",
    "    b = x[1:4]\n",
    "    C = x[4:].reshape(2, 2)\n",
    "\n",
    "    value = (\n",
    "        (a - np.pi) ** 2\n",
    "        + np.linalg.norm(b - np.arange(3))\n",
    "        + np.linalg.norm(C - np.eye(2))\n",
    "    )\n",
    "    return value"
   ]
  },
  {
   "cell_type": "markdown",
   "id": "a56a48f8",
   "metadata": {},
   "source": [
    "## Task 2: Set up start parameters\n",
    "\n",
    "For simplicity, set all start parameters to 0.\n",
    "\n",
    "## Solution 2:"
   ]
  },
  {
   "cell_type": "code",
   "execution_count": 3,
   "id": "5652b5df",
   "metadata": {},
   "outputs": [],
   "source": [
    "x0 = np.zeros(8)"
   ]
  },
  {
   "cell_type": "markdown",
   "id": "cc0f1975",
   "metadata": {},
   "source": [
    "## Task 3: Minimize the criterion function with scipy\n",
    "\n",
    "## Solution 3:"
   ]
  },
  {
   "cell_type": "code",
   "execution_count": 4,
   "id": "8dfdca58",
   "metadata": {},
   "outputs": [],
   "source": [
    "res = minimize(fun=f, x0=x0)"
   ]
  },
  {
   "cell_type": "code",
   "execution_count": 5,
   "id": "969978ee",
   "metadata": {},
   "outputs": [
    {
     "data": {
      "text/plain": [
       "array([ 3.14153528e+00,  1.38061916e-09,  9.99999992e-01,  1.99999999e+00,\n",
       "        9.99999994e-01, -5.30803928e-09,  1.01572911e-09,  9.99999995e-01])"
      ]
     },
     "execution_count": 5,
     "metadata": {},
     "output_type": "execute_result"
    }
   ],
   "source": [
    "res.x"
   ]
  },
  {
   "cell_type": "code",
   "execution_count": 6,
   "id": "1c8aa2b6",
   "metadata": {},
   "outputs": [],
   "source": [
    "a = res.x[0]\n",
    "b = res.x[1:4]\n",
    "C = res.x[4:].reshape(2, 2)"
   ]
  },
  {
   "cell_type": "code",
   "execution_count": 7,
   "id": "62e1aa6d",
   "metadata": {},
   "outputs": [],
   "source": [
    "from numpy.testing import assert_array_almost_equal\n",
    "\n",
    "assert_array_almost_equal(a, np.pi, decimal=4)\n",
    "assert_array_almost_equal(b, np.arange(3), decimal=4)\n",
    "assert_array_almost_equal(C, np.eye(2), decimal=4)"
   ]
  }
 ],
 "metadata": {
  "kernelspec": {
   "display_name": "Python 3 (ipykernel)",
   "language": "python",
   "name": "python3"
  },
  "language_info": {
   "codemirror_mode": {
    "name": "ipython",
    "version": 3
   },
   "file_extension": ".py",
   "mimetype": "text/x-python",
   "name": "python",
   "nbconvert_exporter": "python",
   "pygments_lexer": "ipython3",
   "version": "3.9.0"
  }
 },
 "nbformat": 4,
 "nbformat_minor": 5
}
