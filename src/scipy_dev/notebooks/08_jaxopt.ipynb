{
 "cells": [
  {
   "cell_type": "markdown",
   "metadata": {},
   "source": [
    "# Using JAXopt\n",
    "\n",
    "In this exercise you will use JAXopt to solve a *batched* version of the first and second exercise.\n",
    "\n",
    "## Resources\n",
    "\n",
    "- [JAX documentation](https://jax.readthedocs.io/en/latest/notebooks/quickstart.html)\n",
    "- [jax.numpy documentation](https://jax.readthedocs.io/en/latest/jax.numpy.html)\n",
    "- [JAXopt documentation](https://jaxopt.github.io/stable/unconstrained.html)\n",
    "\n",
    "---\n",
    "\n",
    "Lets start by defining the criterion function from the solutions of the second exercise, but this time we use jax.numpy instead of numpy, and we parametrize the function."
   ]
  },
  {
   "cell_type": "code",
   "execution_count": 1,
   "metadata": {},
   "outputs": [],
   "source": [
    "import jax\n",
    "import jax.numpy as jnp\n",
    "\n",
    "jax.config.update(\"jax_enable_x64\", True)"
   ]
  },
  {
   "cell_type": "code",
   "execution_count": 2,
   "metadata": {},
   "outputs": [
    {
     "name": "stderr",
     "output_type": "stream",
     "text": [
      "WARNING:absl:No GPU/TPU found, falling back to CPU. (Set TF_CPP_MIN_LOG_LEVEL=0 and rerun for more info.)\n"
     ]
    }
   ],
   "source": [
    "x0 = {\"a\": jnp.array(0.0), \"b\": jnp.zeros(3), \"c\": jnp.zeros((2, 2))}\n",
    "b0 = jnp.arange(3, dtype=\"float64\")\n",
    "\n",
    "\n",
    "def f(x, b0):\n",
    "    value = (\n",
    "        (x[\"a\"] - jnp.pi) ** 2\n",
    "        + jnp.sum((x[\"b\"] - b0) ** 2)\n",
    "        + jnp.sum((x[\"c\"] - jnp.eye(2)) ** 2)\n",
    "    )\n",
    "    return value"
   ]
  },
  {
   "cell_type": "markdown",
   "metadata": {},
   "source": [
    "## Task 1: Optimize using `JAXopt`\n",
    "\n",
    "- Create a solver instance of the class `LBFGS` for your problem. You need to make sure to\n",
    "    - pass the function `f`,\n",
    "    - set `tol=1e-6` for increased accuracy.\n",
    "- Run the optimization using `solver.run`. You need to make sure to\n",
    "    - pass the initial parameters,\n",
    "    - pass additional arguments of `f`.\n",
    "- Look at the output of the results. How do you access the parameters?"
   ]
  },
  {
   "cell_type": "code",
   "execution_count": 3,
   "metadata": {},
   "outputs": [],
   "source": [
    "from jaxopt import LBFGS\n",
    "\n",
    "solver = ..."
   ]
  },
  {
   "cell_type": "code",
   "execution_count": null,
   "metadata": {},
   "outputs": [],
   "source": []
  },
  {
   "cell_type": "markdown",
   "metadata": {},
   "source": [
    "## Task 2: Batched optimization\n",
    "\n",
    "Now you will optimize `f` not only for a single value of `b`, but for many.\n",
    "\n",
    "- Write a wrapper for `solver.run` that takes starting values for `x` and a single vector-valued parameter `b0`.\n",
    "- Use `vmap` and `jit` to create a vectorized and jitted version of this wrapper that allows for array-valued `b0`.\n",
    "- Execute your vectorized function on `b_arr` (this should perform 500 optimizations.)"
   ]
  },
  {
   "cell_type": "code",
   "execution_count": 4,
   "metadata": {},
   "outputs": [],
   "source": [
    "from jax import jit\n",
    "from jax import vmap\n",
    "\n",
    "\n",
    "b_arr = jnp.arange(1500, dtype=\"float64\").reshape(500, 3)"
   ]
  },
  {
   "cell_type": "code",
   "execution_count": null,
   "metadata": {},
   "outputs": [],
   "source": []
  },
  {
   "cell_type": "code",
   "execution_count": null,
   "metadata": {},
   "outputs": [],
   "source": []
  },
  {
   "cell_type": "markdown",
   "metadata": {},
   "source": [
    "## Optional: Speed comparison\n",
    "\n",
    "Lets compare the speed of `jaxopt`'s batch optimization to a loop with scipy's `minimize`.\n",
    "\n",
    "- Finish the loop in `batch_solve_scipy` using `method=\"L-BFGS-B\"` in scipy's `minimize`.\n",
    "- Time the functions (Use `%timeit func()` in a notebook cell.)"
   ]
  },
  {
   "cell_type": "code",
   "execution_count": 5,
   "metadata": {},
   "outputs": [],
   "source": [
    "import numpy as np\n",
    "from scipy.optimize import minimize\n",
    "\n",
    "\n",
    "x0_numpy = np.zeros(8)\n",
    "b_arr_numpy = np.array(b_arr)\n",
    "\n",
    "\n",
    "def f_numpy(x, b0):\n",
    "    a = x[0]\n",
    "    b = x[1:4]\n",
    "    c = x[4:].reshape(2, 2)\n",
    "\n",
    "    value = (a - np.pi) ** 2 + np.sum((b - b0) ** 2) + np.sum((c - np.eye(2)) ** 2)\n",
    "    return value"
   ]
  },
  {
   "cell_type": "code",
   "execution_count": 6,
   "metadata": {},
   "outputs": [],
   "source": [
    "def batch_solve_scipy(x0, b_arr):\n",
    "\n",
    "    results = []\n",
    "    for b in b_arr:\n",
    "\n",
    "        res = ...\n",
    "\n",
    "        b = res.x[1:4]\n",
    "        results.append(b)\n",
    "\n",
    "    return np.stack(results)"
   ]
  },
  {
   "cell_type": "markdown",
   "metadata": {},
   "source": [
    "### Timing"
   ]
  },
  {
   "cell_type": "code",
   "execution_count": 7,
   "metadata": {},
   "outputs": [
    {
     "name": "stdout",
     "output_type": "stream",
     "text": [
      "7.83 ns ± 0.163 ns per loop (mean ± std. dev. of 7 runs, 100,000,000 loops each)\n"
     ]
    }
   ],
   "source": [
    "%timeit ..."
   ]
  }
 ],
 "metadata": {
  "kernelspec": {
   "display_name": "Python 3",
   "language": "python",
   "name": "python3"
  },
  "language_info": {
   "codemirror_mode": {
    "name": "ipython",
    "version": 3
   },
   "file_extension": ".py",
   "mimetype": "text/x-python",
   "name": "python",
   "nbconvert_exporter": "python",
   "pygments_lexer": "ipython3",
   "version": "3.8.5"
  }
 },
 "nbformat": 4,
 "nbformat_minor": 5
}
