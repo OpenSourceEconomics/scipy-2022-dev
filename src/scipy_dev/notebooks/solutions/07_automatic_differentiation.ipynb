{
 "cells": [
  {
   "cell_type": "markdown",
   "id": "70edf8ff",
   "metadata": {},
   "source": [
    "# Automatic differentiation\n",
    "\n",
    "In this exercise you will use automatic differentiation in JAX and estimagic to solve the previous problem.\n",
    "\n",
    "## Resources\n",
    "\n",
    "- https://jax.readthedocs.io/en/latest/jax.numpy.html\n",
    "- https://jax.readthedocs.io/en/latest/notebooks/autodiff_cookbook.html"
   ]
  },
  {
   "cell_type": "code",
   "execution_count": 1,
   "id": "2bd1c359",
   "metadata": {},
   "outputs": [],
   "source": [
    "import jax \n",
    "import jax.numpy as jnp\n",
    "import estimagic as em\n",
    "\n",
    "jax.config.update(\"jax_enable_x64\", True)"
   ]
  },
  {
   "cell_type": "markdown",
   "id": "a64b4fd5",
   "metadata": {},
   "source": [
    "## Task 1:  Switch to JAX\n",
    "\n",
    "- Use the code from exercise 2, task 2, and convert the criterion function and the parameters to JAX. Hint: look at the `jax.numpy` documentation."
   ]
  },
  {
   "cell_type": "code",
   "execution_count": 2,
   "id": "5c765083",
   "metadata": {},
   "outputs": [
    {
     "name": "stderr",
     "output_type": "stream",
     "text": [
      "WARNING:absl:No GPU/TPU found, falling back to CPU. (Set TF_CPP_MIN_LOG_LEVEL=0 and rerun for more info.)\n"
     ]
    }
   ],
   "source": [
    "def criterion(x):\n",
    "    first = (x[\"a\"] - jnp.pi) ** 4 \n",
    "    second =  jnp.sum((x[\"b\"] - jnp.arange(3)) ** 2)\n",
    "    third = jnp.sum((x[\"c\"] - jnp.eye(2)) ** 2)\n",
    "    return first + second + third\n",
    "    \n",
    "    \n",
    "start_params = {\n",
    "    \"a\": 1.,\n",
    "    \"b\": jnp.ones(3).astype(float),\n",
    "    \"c\": jnp.ones((2, 2)).astype(float)\n",
    "}"
   ]
  },
  {
   "cell_type": "code",
   "execution_count": 3,
   "id": "2fba3f5e",
   "metadata": {},
   "outputs": [
    {
     "data": {
      "text/plain": [
       "DeviceArray(25.0352401, dtype=float64)"
      ]
     },
     "execution_count": 3,
     "metadata": {},
     "output_type": "execute_result"
    }
   ],
   "source": [
    "criterion(start_params)"
   ]
  },
  {
   "cell_type": "markdown",
   "id": "3d53d4fb",
   "metadata": {},
   "source": [
    "## Task 2: Gradient\n",
    "\n",
    "- Compute the gradient of the criterion (the whole function). Hint: look at the `autodiff_cookbook` documentation "
   ]
  },
  {
   "cell_type": "code",
   "execution_count": 4,
   "id": "944bd112",
   "metadata": {},
   "outputs": [
    {
     "data": {
      "text/plain": [
       "{'a': DeviceArray(-39.28896575, dtype=float64, weak_type=True),\n",
       " 'b': DeviceArray([ 2.,  0., -2.], dtype=float64),\n",
       " 'c': DeviceArray([[0., 2.],\n",
       "              [2., 0.]], dtype=float64)}"
      ]
     },
     "execution_count": 4,
     "metadata": {},
     "output_type": "execute_result"
    }
   ],
   "source": [
    "gradient = jax.grad(criterion)\n",
    "gradient(start_params)"
   ]
  },
  {
   "cell_type": "markdown",
   "id": "c6136f2c",
   "metadata": {},
   "source": [
    "## Task 3: Minimize\n",
    "\n",
    "- Use estimagic to minimize the criterion\n",
    "    - pass the gradient function you computed above to the minimize call\n",
    "    - use the `\"scipy_lbfgsb\"` algorithm"
   ]
  },
  {
   "cell_type": "code",
   "execution_count": 5,
   "id": "cfea9978",
   "metadata": {},
   "outputs": [
    {
     "data": {
      "text/plain": [
       "{'a': 3.129255066950777,\n",
       " 'b': DeviceArray([-4.86427302e-06,  1.00000000e+00,  1.99999782e+00], dtype=float64),\n",
       " 'c': DeviceArray([[ 1.00000000e+00, -4.86427302e-06],\n",
       "              [-4.86427302e-06,  1.00000000e+00]], dtype=float64)}"
      ]
     },
     "execution_count": 5,
     "metadata": {},
     "output_type": "execute_result"
    }
   ],
   "source": [
    "res = em.minimize(\n",
    "    criterion=criterion,\n",
    "    derivative=gradient,\n",
    "    params=start_params,\n",
    "    algorithm=\"scipy_lbfgsb\",\n",
    ")\n",
    "\n",
    "res.params"
   ]
  }
 ],
 "metadata": {
  "kernelspec": {
   "display_name": "Python 3 (ipykernel)",
   "language": "python",
   "name": "python3"
  },
  "language_info": {
   "codemirror_mode": {
    "name": "ipython",
    "version": 3
   },
   "file_extension": ".py",
   "mimetype": "text/x-python",
   "name": "python",
   "nbconvert_exporter": "python",
   "pygments_lexer": "ipython3",
   "version": "3.9.0"
  }
 },
 "nbformat": 4,
 "nbformat_minor": 5
}
