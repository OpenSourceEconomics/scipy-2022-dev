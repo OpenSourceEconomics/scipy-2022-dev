{
 "cells": [
  {
   "cell_type": "markdown",
   "id": "749bb281",
   "metadata": {},
   "source": [
    "# Using JAXopt\n",
    "\n",
    "In this exercise you will use JAXopt to solve a *batched* version of the first and second exercise.\n",
    "\n",
    "## Resources\n",
    "\n",
    "- [JAX documentation](https://jax.readthedocs.io/en/latest/notebooks/quickstart.html)\n",
    "- [jax.numpy documentation](https://jax.readthedocs.io/en/latest/jax.numpy.html)\n",
    "- [JAXopt documentation](https://jaxopt.github.io/stable/unconstrained.html)\n",
    "\n",
    "---\n",
    "\n",
    "Lets start by defining the criterion function from the solutions of the second exercise, but this time we use jax.numpy instead of numpy, and we parametrize the function."
   ]
  },
  {
   "cell_type": "code",
   "execution_count": 1,
   "id": "2a2c352d",
   "metadata": {},
   "outputs": [],
   "source": [
    "import jax\n",
    "import jax.numpy as jnp\n",
    "\n",
    "jax.config.update(\"jax_enable_x64\", True)"
   ]
  },
  {
   "cell_type": "code",
   "execution_count": 2,
   "id": "b887acb6",
   "metadata": {},
   "outputs": [],
   "source": [
    "x0 = {\"a\": jnp.array(0.0), \"b\": jnp.zeros(3), \"c\": jnp.zeros((2, 2))}\n",
    "b0 = jnp.arange(3, dtype=\"float64\")\n",
    "\n",
    "\n",
    "def f(x, b0):\n",
    "    value = (\n",
    "        (x[\"a\"] - jnp.pi) ** 2\n",
    "        + jnp.sum((x[\"b\"] - b0) ** 2)\n",
    "        + jnp.sum((x[\"c\"] - jnp.eye(2)) ** 2)\n",
    "    )\n",
    "    return value"
   ]
  },
  {
   "cell_type": "markdown",
   "id": "300e82c5",
   "metadata": {},
   "source": [
    "## Task 1: Optimize using `JAXopt`\n",
    "\n",
    "- Create a solver instance of the class `LBFGS` for your problem. You need to make sure to\n",
    "    - pass the function `f`,\n",
    "    - set `tol=1e-6` for increased accuracy.\n",
    "- Run the optimization using `solver.run`. You need to make sure to\n",
    "    - pass the initial parameters,\n",
    "    - pass additional arguments of `f`.\n",
    "- Look at the output of the results. How do you access the parameters?"
   ]
  },
  {
   "cell_type": "code",
   "execution_count": 3,
   "id": "36c70848",
   "metadata": {},
   "outputs": [],
   "source": [
    "from jaxopt import LBFGS\n",
    "\n",
    "solver = LBFGS(fun=f, tol=1e-6)\n",
    "\n",
    "res = solver.run(init_params=x0, b0=b0)"
   ]
  },
  {
   "cell_type": "code",
   "execution_count": 4,
   "id": "1ef505af",
   "metadata": {},
   "outputs": [],
   "source": [
    "from numpy.testing import assert_array_almost_equal\n",
    "import numpy as np\n",
    "\n",
    "assert_array_almost_equal(res.params[\"a\"], np.pi)\n",
    "assert_array_almost_equal(res.params[\"b\"], np.arange(3))\n",
    "assert_array_almost_equal(res.params[\"c\"], np.eye(2))"
   ]
  },
  {
   "cell_type": "markdown",
   "id": "11a8775f",
   "metadata": {},
   "source": [
    "## Task 2: Batched optimization\n",
    "\n",
    "Now you will optimize `f` not only for a single value of `b`, but for many.\n",
    "\n",
    "- Write a wrapper for `solver.run` that takes starting values for `x` and a single vector-valued parameter `b0`.\n",
    "- Use `vmap` and `jit` to create a vectorized and jitted version of this wrapper that allows for array-valued `b0`.\n",
    "- Execute your vectorized function on `b_arr` (this should perform 500 optimizations.)"
   ]
  },
  {
   "cell_type": "code",
   "execution_count": 5,
   "id": "b3180c08",
   "metadata": {},
   "outputs": [],
   "source": [
    "from jax import jit\n",
    "from jax import vmap\n",
    "\n",
    "\n",
    "b_arr = jnp.arange(1500, dtype=\"float64\").reshape(500, 3)\n",
    "\n",
    "\n",
    "def solve(x, b0):\n",
    "    return solver.run(init_params=x, b0=b0)"
   ]
  },
  {
   "cell_type": "code",
   "execution_count": 6,
   "id": "b3080dca",
   "metadata": {},
   "outputs": [],
   "source": [
    "batch_solve = jit(vmap(solve, in_axes=(None, 0)))"
   ]
  },
  {
   "cell_type": "code",
   "execution_count": 7,
   "id": "5f4f8710",
   "metadata": {},
   "outputs": [],
   "source": [
    "result = batch_solve(x0, b_arr)\n",
    "\n",
    "assert_array_almost_equal(result.params[\"b\"], b_arr)"
   ]
  },
  {
   "cell_type": "markdown",
   "id": "775a46e5",
   "metadata": {},
   "source": [
    "## Optional: Speed comparison\n",
    "\n",
    "Lets compare the speed of `jaxopt`'s batch optimization to a loop with scipy's `minimize`.\n",
    "\n",
    "- Finish the loop in `batch_solve_scipy` using `method=\"L-BFGS-B\"` in scipy's `minimize`.\n",
    "- Time the functions (Use `%timeit func()` in a notebook cell.)"
   ]
  },
  {
   "cell_type": "code",
   "execution_count": 8,
   "id": "114f8ad3",
   "metadata": {},
   "outputs": [],
   "source": [
    "import numpy as np\n",
    "from scipy.optimize import minimize\n",
    "\n",
    "\n",
    "x0_numpy = np.zeros(8)\n",
    "b_arr_numpy = np.array(b_arr)\n",
    "\n",
    "\n",
    "def f_numpy(x, b0):\n",
    "    a = x[0]\n",
    "    b = x[1:4]\n",
    "    C = x[4:].reshape(2, 2)\n",
    "\n",
    "    value = (a - np.pi) ** 2 + np.sum((b - b0) ** 2) + np.sum((C - np.eye(2)) ** 2)\n",
    "    return value"
   ]
  },
  {
   "cell_type": "code",
   "execution_count": 9,
   "id": "618c9e1e",
   "metadata": {},
   "outputs": [],
   "source": [
    "def batch_solve_scipy(x0, b_arr):\n",
    "\n",
    "    results = []\n",
    "    for b0 in b_arr:\n",
    "        res = minimize(f_numpy, x0, method=\"L-BFGS-B\", args=(b0,))\n",
    "        results.append(res.x[1:4])\n",
    "\n",
    "    return np.stack(results)"
   ]
  },
  {
   "cell_type": "code",
   "execution_count": 10,
   "id": "6993143e",
   "metadata": {},
   "outputs": [],
   "source": [
    "results = batch_solve_scipy(x0_numpy, b_arr_numpy)\n",
    "\n",
    "assert_array_almost_equal(results, b_arr_numpy, decimal=5)"
   ]
  },
  {
   "cell_type": "markdown",
   "id": "570eef91",
   "metadata": {},
   "source": [
    "### Timing"
   ]
  },
  {
   "cell_type": "code",
   "execution_count": 11,
   "id": "1299716a",
   "metadata": {},
   "outputs": [
    {
     "name": "stdout",
     "output_type": "stream",
     "text": [
      "6.4 ms ± 655 µs per loop (mean ± std. dev. of 7 runs, 100 loops each)\n"
     ]
    }
   ],
   "source": [
    "%timeit batch_solve(x0, b_arr)"
   ]
  },
  {
   "cell_type": "code",
   "execution_count": 12,
   "id": "2f9e4a7a",
   "metadata": {},
   "outputs": [
    {
     "name": "stdout",
     "output_type": "stream",
     "text": [
      "1.87 s ± 65 ms per loop (mean ± std. dev. of 7 runs, 1 loop each)\n"
     ]
    }
   ],
   "source": [
    "%timeit batch_solve_scipy(x0_numpy, b_arr_numpy)"
   ]
  }
 ],
 "metadata": {
  "kernelspec": {
   "display_name": "Python 3 (ipykernel)",
   "language": "python",
   "name": "python3"
  },
  "language_info": {
   "codemirror_mode": {
    "name": "ipython",
    "version": 3
   },
   "file_extension": ".py",
   "mimetype": "text/x-python",
   "name": "python",
   "nbconvert_exporter": "python",
   "pygments_lexer": "ipython3",
   "version": "3.9.0"
  }
 },
 "nbformat": 4,
 "nbformat_minor": 5
}
