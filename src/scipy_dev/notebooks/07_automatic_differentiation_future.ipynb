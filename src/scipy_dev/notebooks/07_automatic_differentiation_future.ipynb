{
 "cells": [
  {
   "cell_type": "markdown",
   "id": "9737d768",
   "metadata": {},
   "source": [
    "# Automatic differentiation"
   ]
  },
  {
   "cell_type": "code",
   "execution_count": 1,
   "id": "14ba0a38",
   "metadata": {},
   "outputs": [
    {
     "name": "stderr",
     "output_type": "stream",
     "text": [
      "WARNING:absl:No GPU/TPU found, falling back to CPU. (Set TF_CPP_MIN_LOG_LEVEL=0 and rerun for more info.)\n"
     ]
    }
   ],
   "source": [
    "import jax.numpy as jnp\n",
    "import jax \n",
    "import estimagic as em\n",
    "\n",
    "def criterion(x):\n",
    "    first = (x[\"a\"] - jnp.pi) ** 4 \n",
    "    second =  jnp.linalg.norm(x[\"b\"] - jnp.arange(3))\n",
    "    third = jnp.linalg.norm(x[\"c\"] - jnp.eye(2))\n",
    "    return first + second + third\n",
    "    \n",
    "    \n",
    "start_params = {\n",
    "    \"a\": 1.,\n",
    "    \"b\": jnp.ones(3).astype(float),\n",
    "    \"c\": jnp.ones((2, 2)).astype(float)\n",
    "}"
   ]
  },
  {
   "cell_type": "code",
   "execution_count": 2,
   "id": "565974a9",
   "metadata": {},
   "outputs": [
    {
     "data": {
      "text/plain": [
       "{'a': DeviceArray(-39.28897, dtype=float32, weak_type=True),\n",
       " 'b': DeviceArray([ 0.70710677,  0.        , -0.70710677], dtype=float32),\n",
       " 'c': DeviceArray([[0.        , 0.70710677],\n",
       "              [0.70710677, 0.        ]], dtype=float32)}"
      ]
     },
     "execution_count": 2,
     "metadata": {},
     "output_type": "execute_result"
    }
   ],
   "source": [
    "gradient = jax.grad(criterion)\n",
    "gradient(start_params)"
   ]
  },
  {
   "cell_type": "code",
   "execution_count": 8,
   "id": "bb55b6d2",
   "metadata": {},
   "outputs": [],
   "source": [
    "res = em.minimize(\n",
    "    criterion=criterion,\n",
    "    derivative=gradient,\n",
    "    params=start_params,\n",
    "    algorithm=\"scipy_lbfgsb\",\n",
    ")"
   ]
  },
  {
   "cell_type": "code",
   "execution_count": 9,
   "id": "87d0af37",
   "metadata": {},
   "outputs": [
    {
     "data": {
      "text/plain": [
       "{'a': 3.146955731817973,\n",
       " 'b': DeviceArray([1.2965498e-09, 1.0000000e+00, 2.0000000e+00], dtype=float32),\n",
       " 'c': DeviceArray([[ 1.0000000e+00, -1.1685792e-09],\n",
       "              [-1.1685792e-09,  1.0000000e+00]], dtype=float32)}"
      ]
     },
     "execution_count": 9,
     "metadata": {},
     "output_type": "execute_result"
    }
   ],
   "source": [
    "res.params"
   ]
  },
  {
   "cell_type": "code",
   "execution_count": null,
   "id": "337e6e12",
   "metadata": {},
   "outputs": [],
   "source": []
  },
  {
   "cell_type": "code",
   "execution_count": null,
   "id": "e34ee56c",
   "metadata": {},
   "outputs": [],
   "source": []
  }
 ],
 "metadata": {
  "kernelspec": {
   "display_name": "Python 3 (ipykernel)",
   "language": "python",
   "name": "python3"
  },
  "language_info": {
   "codemirror_mode": {
    "name": "ipython",
    "version": 3
   },
   "file_extension": ".py",
   "mimetype": "text/x-python",
   "name": "python",
   "nbconvert_exporter": "python",
   "pygments_lexer": "ipython3",
   "version": "3.9.0"
  }
 },
 "nbformat": 4,
 "nbformat_minor": 5
}
