{
 "cells": [
  {
   "cell_type": "markdown",
   "id": "5b4c54e4",
   "metadata": {},
   "source": [
    "# Automatic differentiation\n",
    "\n",
    "In this exercise you will use automatic differentiation in JAX and estimagic to solve the previous problem.\n",
    "\n",
    "## Resources\n",
    "\n",
    "- https://jax.readthedocs.io/en/latest/jax.numpy.html\n",
    "- https://jax.readthedocs.io/en/latest/notebooks/autodiff_cookbook.html"
   ]
  },
  {
   "cell_type": "code",
   "execution_count": 1,
   "id": "b819cbd7",
   "metadata": {},
   "outputs": [],
   "source": [
    "import jax \n",
    "import jax.numpy as jnp\n",
    "import estimagic as em\n",
    "\n",
    "jax.config.update(\"jax_enable_x64\", True)"
   ]
  },
  {
   "cell_type": "markdown",
   "id": "84a4abd1",
   "metadata": {},
   "source": [
    "## Task 1:  Switch to JAX\n",
    "\n",
    "- Use the code from exercise 2, task 2, and convert the criterion function and the parameters to JAX. Hint: look at the [`jax.numpy` documentation](https://jax.readthedocs.io/en/latest/jax.numpy.html) and slides if you have any questions."
   ]
  },
  {
   "cell_type": "code",
   "execution_count": 2,
   "id": "7fe73bcd",
   "metadata": {},
   "outputs": [],
   "source": [
    "def criterion(x):\n",
    "    first = (x[\"a\"] - jnp.pi) ** 4 \n",
    "    second =  jnp.sum((x[\"b\"] - jnp.arange(3)) ** 2)\n",
    "    third = jnp.sum((x[\"c\"] - jnp.eye(2)) ** 2)\n",
    "    return first + second + third\n",
    "    \n",
    "    \n",
    "start_params = {\n",
    "    \"a\": 1.,\n",
    "    \"b\": jnp.ones(3).astype(float),\n",
    "    \"c\": jnp.ones((2, 2)).astype(float)\n",
    "}"
   ]
  },
  {
   "cell_type": "code",
   "execution_count": 3,
   "id": "910b0b5e",
   "metadata": {},
   "outputs": [
    {
     "data": {
      "text/plain": [
       "DeviceArray(25.0352401, dtype=float64)"
      ]
     },
     "execution_count": 3,
     "metadata": {},
     "output_type": "execute_result"
    }
   ],
   "source": [
    "criterion(start_params)"
   ]
  },
  {
   "cell_type": "markdown",
   "id": "9c2814c9",
   "metadata": {},
   "source": [
    "## Task 2: Gradient\n",
    "\n",
    "- Compute the gradient of the criterion (the whole function). Hint: look at the [`autodiff_cookbook` documentation](https://jax.readthedocs.io/en/latest/notebooks/autodiff_cookbook.html) and slides if you have any questions."
   ]
  },
  {
   "cell_type": "code",
   "execution_count": 4,
   "id": "122f2831",
   "metadata": {},
   "outputs": [
    {
     "data": {
      "text/plain": [
       "{'a': DeviceArray(-39.28896575, dtype=float64, weak_type=True),\n",
       " 'b': DeviceArray([ 2.,  0., -2.], dtype=float64),\n",
       " 'c': DeviceArray([[0., 2.],\n",
       "              [2., 0.]], dtype=float64)}"
      ]
     },
     "execution_count": 4,
     "metadata": {},
     "output_type": "execute_result"
    }
   ],
   "source": [
    "gradient = jax.grad(criterion)\n",
    "gradient(start_params)"
   ]
  },
  {
   "cell_type": "code",
   "execution_count": 5,
   "id": "7aefa2e9",
   "metadata": {},
   "outputs": [
    {
     "name": "stdout",
     "output_type": "stream",
     "text": [
      "8.25 ms ± 975 µs per loop (mean ± std. dev. of 7 runs, 100 loops each)\n"
     ]
    }
   ],
   "source": [
    "%timeit gradient(start_params)"
   ]
  },
  {
   "cell_type": "code",
   "execution_count": 6,
   "id": "dd8ffcc6",
   "metadata": {},
   "outputs": [
    {
     "name": "stdout",
     "output_type": "stream",
     "text": [
      "10.7 µs ± 248 ns per loop (mean ± std. dev. of 7 runs, 100,000 loops each)\n"
     ]
    }
   ],
   "source": [
    "jitted_gradient = jax.jit(gradient)\n",
    "%timeit jitted_gradient(start_params)"
   ]
  },
  {
   "cell_type": "markdown",
   "id": "e9e578b5",
   "metadata": {},
   "source": [
    "## Task 3: Minimize\n",
    "\n",
    "- Use estimagic to minimize the criterion\n",
    "    - pass the gradient function you computed above to the minimize call.\n",
    "    - use the `\"scipy_lbfgsb\"` algorithm."
   ]
  },
  {
   "cell_type": "code",
   "execution_count": 7,
   "id": "f23ead7a",
   "metadata": {},
   "outputs": [
    {
     "data": {
      "text/plain": [
       "{'a': 3.1292550669508072,\n",
       " 'b': DeviceArray([-4.86427306e-06,  1.00000000e+00,  1.99999782e+00], dtype=float64),\n",
       " 'c': DeviceArray([[ 1.00000000e+00, -4.86427306e-06],\n",
       "              [-4.86427306e-06,  1.00000000e+00]], dtype=float64)}"
      ]
     },
     "execution_count": 7,
     "metadata": {},
     "output_type": "execute_result"
    }
   ],
   "source": [
    "res = em.minimize(\n",
    "    criterion=criterion,\n",
    "    derivative=jitted_gradient,\n",
    "    params=start_params,\n",
    "    algorithm=\"scipy_lbfgsb\",\n",
    ")\n",
    "\n",
    "res.params"
   ]
  }
 ],
 "metadata": {
  "kernelspec": {
   "display_name": "Python 3 (ipykernel)",
   "language": "python",
   "name": "python3"
  },
  "language_info": {
   "codemirror_mode": {
    "name": "ipython",
    "version": 3
   },
   "file_extension": ".py",
   "mimetype": "text/x-python",
   "name": "python",
   "nbconvert_exporter": "python",
   "pygments_lexer": "ipython3",
   "version": "3.9.0"
  }
 },
 "nbformat": 4,
 "nbformat_minor": 5
}
