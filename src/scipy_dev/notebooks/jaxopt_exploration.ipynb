{
 "cells": [
  {
   "cell_type": "code",
   "execution_count": 1,
   "id": "843dba34",
   "metadata": {},
   "outputs": [],
   "source": [
    "from jax import config \n",
    "config.update(\"jax_enable_x64\", True)\n",
    "import jax.numpy as jnp\n",
    "from jax import jit, vmap\n",
    "from scipy.optimize import minimize\n",
    "import jaxopt as jo\n",
    "import numpy as np\n",
    "import jax"
   ]
  },
  {
   "cell_type": "code",
   "execution_count": 2,
   "id": "94e952b6",
   "metadata": {},
   "outputs": [
    {
     "name": "stderr",
     "output_type": "stream",
     "text": [
      "WARNING:absl:No GPU/TPU found, falling back to CPU. (Set TF_CPP_MIN_LOG_LEVEL=0 and rerun for more info.)\n"
     ]
    }
   ],
   "source": [
    "def distance(x, y):\n",
    "    return np.linalg.norm(x - y)\n",
    "\n",
    "\n",
    "def distance_jax(x, y):\n",
    "    return jnp.linalg.norm(x - y)\n",
    "\n",
    "\n",
    "params = np.arange(5).astype(float)\n",
    "np.random.seed(1234)\n",
    "y_arr = np.random.uniform(size=(100, 5)) \n",
    "\n",
    "\n",
    "params_jax = jnp.array(params)\n",
    "y_arr_jax = jnp.array(y_arr)\n",
    "\n"
   ]
  },
  {
   "cell_type": "code",
   "execution_count": 3,
   "id": "4dea3b30",
   "metadata": {},
   "outputs": [
    {
     "name": "stdout",
     "output_type": "stream",
     "text": [
      "6.5 ms ± 87 µs per loop (mean ± std. dev. of 7 runs, 1 loop each)\n"
     ]
    }
   ],
   "source": [
    "solver = jo.LBFGS(fun=distance_jax)\n",
    "\n",
    "def solve(x, y):\n",
    "    return solver.run(init_params=x, y=y)[0]\n",
    "\n",
    "batch_solve = jit(vmap(solve, in_axes=(None, 0)))\n",
    "\n",
    "\n",
    "%timeit batch_solve(params_jax, y_arr_jax)\n",
    "\n"
   ]
  },
  {
   "cell_type": "code",
   "execution_count": 4,
   "id": "3b8512ae",
   "metadata": {},
   "outputs": [
    {
     "name": "stdout",
     "output_type": "stream",
     "text": [
      "2.11 s ± 30.1 ms per loop (mean ± std. dev. of 7 runs, 1 loop each)\n"
     ]
    }
   ],
   "source": [
    "%%timeit \n",
    "for y in y_arr:\n",
    "    minimize(distance, params, method=\"BFGS\", args=(y,))"
   ]
  },
  {
   "cell_type": "code",
   "execution_count": 5,
   "id": "6dcae37f",
   "metadata": {},
   "outputs": [],
   "source": [
    "res_jax = batch_solve(params_jax, y_arr_jax)"
   ]
  },
  {
   "cell_type": "code",
   "execution_count": 13,
   "id": "5ccc9aef",
   "metadata": {},
   "outputs": [],
   "source": [
    "res_scipy = np.stack(\n",
    "    [minimize(distance, params, method=\"BFGS\", args=(y,)).x\n",
    "    for y in y_arr],\n",
    ")"
   ]
  },
  {
   "cell_type": "code",
   "execution_count": 17,
   "id": "ba82584d",
   "metadata": {},
   "outputs": [],
   "source": [
    "from numpy.testing import assert_array_almost_equal"
   ]
  },
  {
   "cell_type": "code",
   "execution_count": 18,
   "id": "b04cc869",
   "metadata": {},
   "outputs": [],
   "source": [
    "assert_array_almost_equal(res_scipy, y_arr)"
   ]
  },
  {
   "cell_type": "code",
   "execution_count": 19,
   "id": "2501bf6d",
   "metadata": {},
   "outputs": [
    {
     "ename": "AssertionError",
     "evalue": "\nArrays are not almost equal to 6 decimals\n\nMismatched elements: 500 / 500 (100%)\nMax absolute difference: 1.8668777e+164\nMax relative difference: 1.37190048e+165\n x: array([[-3.998883e+154,  7.870015e+154,  3.293105e+155,  7.617420e+155,\n         1.103644e+156],\n       [ 5.120822e+157, -1.247023e+158, -8.499112e+157, -1.495049e+158,...\n y: array([[0.191519, 0.622109, 0.437728, 0.785359, 0.779976],\n       [0.272593, 0.276464, 0.801872, 0.958139, 0.875933],\n       [0.357817, 0.500995, 0.683463, 0.712702, 0.370251],...",
     "output_type": "error",
     "traceback": [
      "\u001b[0;31m---------------------------------------------------------------------------\u001b[0m",
      "\u001b[0;31mAssertionError\u001b[0m                            Traceback (most recent call last)",
      "Input \u001b[0;32mIn [19]\u001b[0m, in \u001b[0;36m<cell line: 1>\u001b[0;34m()\u001b[0m\n\u001b[0;32m----> 1\u001b[0m \u001b[43massert_array_almost_equal\u001b[49m\u001b[43m(\u001b[49m\u001b[43mres_jax\u001b[49m\u001b[43m,\u001b[49m\u001b[43m \u001b[49m\u001b[43my_arr_jax\u001b[49m\u001b[43m)\u001b[49m\n",
      "    \u001b[0;31m[... skipping hidden 1 frame]\u001b[0m\n",
      "File \u001b[0;32m~/miniconda3/envs/scipy_dev/lib/python3.9/site-packages/numpy/testing/_private/utils.py:844\u001b[0m, in \u001b[0;36massert_array_compare\u001b[0;34m(comparison, x, y, err_msg, verbose, header, precision, equal_nan, equal_inf)\u001b[0m\n\u001b[1;32m    840\u001b[0m         err_msg \u001b[38;5;241m+\u001b[39m\u001b[38;5;241m=\u001b[39m \u001b[38;5;124m'\u001b[39m\u001b[38;5;130;01m\\n\u001b[39;00m\u001b[38;5;124m'\u001b[39m \u001b[38;5;241m+\u001b[39m \u001b[38;5;124m'\u001b[39m\u001b[38;5;130;01m\\n\u001b[39;00m\u001b[38;5;124m'\u001b[39m\u001b[38;5;241m.\u001b[39mjoin(remarks)\n\u001b[1;32m    841\u001b[0m         msg \u001b[38;5;241m=\u001b[39m build_err_msg([ox, oy], err_msg,\n\u001b[1;32m    842\u001b[0m                             verbose\u001b[38;5;241m=\u001b[39mverbose, header\u001b[38;5;241m=\u001b[39mheader,\n\u001b[1;32m    843\u001b[0m                             names\u001b[38;5;241m=\u001b[39m(\u001b[38;5;124m'\u001b[39m\u001b[38;5;124mx\u001b[39m\u001b[38;5;124m'\u001b[39m, \u001b[38;5;124m'\u001b[39m\u001b[38;5;124my\u001b[39m\u001b[38;5;124m'\u001b[39m), precision\u001b[38;5;241m=\u001b[39mprecision)\n\u001b[0;32m--> 844\u001b[0m         \u001b[38;5;28;01mraise\u001b[39;00m \u001b[38;5;167;01mAssertionError\u001b[39;00m(msg)\n\u001b[1;32m    845\u001b[0m \u001b[38;5;28;01mexcept\u001b[39;00m \u001b[38;5;167;01mValueError\u001b[39;00m:\n\u001b[1;32m    846\u001b[0m     \u001b[38;5;28;01mimport\u001b[39;00m \u001b[38;5;21;01mtraceback\u001b[39;00m\n",
      "\u001b[0;31mAssertionError\u001b[0m: \nArrays are not almost equal to 6 decimals\n\nMismatched elements: 500 / 500 (100%)\nMax absolute difference: 1.8668777e+164\nMax relative difference: 1.37190048e+165\n x: array([[-3.998883e+154,  7.870015e+154,  3.293105e+155,  7.617420e+155,\n         1.103644e+156],\n       [ 5.120822e+157, -1.247023e+158, -8.499112e+157, -1.495049e+158,...\n y: array([[0.191519, 0.622109, 0.437728, 0.785359, 0.779976],\n       [0.272593, 0.276464, 0.801872, 0.958139, 0.875933],\n       [0.357817, 0.500995, 0.683463, 0.712702, 0.370251],..."
     ]
    }
   ],
   "source": [
    "assert_array_almost_equal(res_jax, y_arr_jax)"
   ]
  }
 ],
 "metadata": {
  "kernelspec": {
   "display_name": "Python 3 (ipykernel)",
   "language": "python",
   "name": "python3"
  },
  "language_info": {
   "codemirror_mode": {
    "name": "ipython",
    "version": 3
   },
   "file_extension": ".py",
   "mimetype": "text/x-python",
   "name": "python",
   "nbconvert_exporter": "python",
   "pygments_lexer": "ipython3",
   "version": "3.9.0"
  }
 },
 "nbformat": 4,
 "nbformat_minor": 5
}
