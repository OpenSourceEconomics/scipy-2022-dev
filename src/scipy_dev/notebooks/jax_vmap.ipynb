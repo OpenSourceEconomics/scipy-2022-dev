{
 "cells": [
  {
   "cell_type": "code",
   "execution_count": 2,
   "id": "db524c93",
   "metadata": {},
   "outputs": [],
   "source": [
    "import jax.numpy as jnp\n",
    "import jax.scipy as jsp\n",
    "\n",
    "import numpy as np\n",
    "import scipy as sp\n",
    "\n",
    "from numpy import vectorize\n",
    "from numpy.testing import assert_array_equal\n",
    "from jax import vmap\n",
    "from jax import jit\n",
    "from jax import config\n",
    "\n",
    "config.update(\"jax_enable_x64\", True)"
   ]
  },
  {
   "cell_type": "code",
   "execution_count": null,
   "id": "3215c5b3",
   "metadata": {},
   "outputs": [],
   "source": []
  },
  {
   "cell_type": "code",
   "execution_count": 6,
   "id": "d3e9ac31",
   "metadata": {},
   "outputs": [],
   "source": [
    "batch_size = 10_000\n",
    "\n",
    "dim = (5, 10)"
   ]
  },
  {
   "cell_type": "code",
   "execution_count": 7,
   "id": "74a0d9ef",
   "metadata": {},
   "outputs": [
    {
     "data": {
      "text/plain": [
       "(10000, 5, 10)"
      ]
     },
     "execution_count": 7,
     "metadata": {},
     "output_type": "execute_result"
    }
   ],
   "source": [
    "a = np.random.uniform(size=(batch_size, *dim))\n",
    "\n",
    "a.shape"
   ]
  },
  {
   "cell_type": "code",
   "execution_count": 8,
   "id": "b97d35f6",
   "metadata": {},
   "outputs": [],
   "source": [
    "a_jax = jnp.array(a)"
   ]
  },
  {
   "cell_type": "markdown",
   "id": "eaae95f7",
   "metadata": {},
   "source": [
    "## Test equivalence"
   ]
  },
  {
   "cell_type": "code",
   "execution_count": 9,
   "id": "a55b93f9",
   "metadata": {},
   "outputs": [],
   "source": [
    "_lu = sp.linalg.lu(a[0])\n",
    "\n",
    "_lu_jax = jsp.linalg.lu(a[0])\n",
    "\n",
    "for arrs in zip(_lu, _lu_jax):\n",
    "    assert_array_equal(*arrs)"
   ]
  },
  {
   "cell_type": "markdown",
   "id": "6c73ed76",
   "metadata": {},
   "source": [
    "## Without VMAP"
   ]
  },
  {
   "cell_type": "code",
   "execution_count": 10,
   "id": "489af8e6",
   "metadata": {},
   "outputs": [
    {
     "ename": "ValueError",
     "evalue": "expected matrix",
     "output_type": "error",
     "traceback": [
      "\u001b[0;31m---------------------------------------------------------------------------\u001b[0m",
      "\u001b[0;31mValueError\u001b[0m                                Traceback (most recent call last)",
      "Input \u001b[0;32mIn [10]\u001b[0m, in \u001b[0;36m<cell line: 1>\u001b[0;34m()\u001b[0m\n\u001b[0;32m----> 1\u001b[0m \u001b[43msp\u001b[49m\u001b[38;5;241;43m.\u001b[39;49m\u001b[43mlinalg\u001b[49m\u001b[38;5;241;43m.\u001b[39;49m\u001b[43mlu\u001b[49m\u001b[43m(\u001b[49m\u001b[43ma\u001b[49m\u001b[43m)\u001b[49m\n",
      "File \u001b[0;32m~/miniconda3/envs/scipy_dev/lib/python3.9/site-packages/scipy/linalg/_decomp_lu.py:213\u001b[0m, in \u001b[0;36mlu\u001b[0;34m(a, permute_l, overwrite_a, check_finite)\u001b[0m\n\u001b[1;32m    211\u001b[0m     a1 \u001b[38;5;241m=\u001b[39m asarray(a)\n\u001b[1;32m    212\u001b[0m \u001b[38;5;28;01mif\u001b[39;00m \u001b[38;5;28mlen\u001b[39m(a1\u001b[38;5;241m.\u001b[39mshape) \u001b[38;5;241m!=\u001b[39m \u001b[38;5;241m2\u001b[39m:\n\u001b[0;32m--> 213\u001b[0m     \u001b[38;5;28;01mraise\u001b[39;00m \u001b[38;5;167;01mValueError\u001b[39;00m(\u001b[38;5;124m'\u001b[39m\u001b[38;5;124mexpected matrix\u001b[39m\u001b[38;5;124m'\u001b[39m)\n\u001b[1;32m    214\u001b[0m overwrite_a \u001b[38;5;241m=\u001b[39m overwrite_a \u001b[38;5;129;01mor\u001b[39;00m (_datacopied(a1, a))\n\u001b[1;32m    215\u001b[0m flu, \u001b[38;5;241m=\u001b[39m get_flinalg_funcs((\u001b[38;5;124m'\u001b[39m\u001b[38;5;124mlu\u001b[39m\u001b[38;5;124m'\u001b[39m,), (a1,))\n",
      "\u001b[0;31mValueError\u001b[0m: expected matrix"
     ]
    }
   ],
   "source": [
    "sp.linalg.lu(a)"
   ]
  },
  {
   "cell_type": "code",
   "execution_count": 11,
   "id": "7bf81aa0",
   "metadata": {},
   "outputs": [
    {
     "ename": "ValueError",
     "evalue": "too many values to unpack (expected 2)",
     "output_type": "error",
     "traceback": [
      "\u001b[0;31m---------------------------------------------------------------------------\u001b[0m",
      "\u001b[0;31mValueError\u001b[0m                                Traceback (most recent call last)",
      "Input \u001b[0;32mIn [11]\u001b[0m, in \u001b[0;36m<cell line: 1>\u001b[0;34m()\u001b[0m\n\u001b[0;32m----> 1\u001b[0m \u001b[43mjsp\u001b[49m\u001b[38;5;241;43m.\u001b[39;49m\u001b[43mlinalg\u001b[49m\u001b[38;5;241;43m.\u001b[39;49m\u001b[43mlu\u001b[49m\u001b[43m(\u001b[49m\u001b[43ma\u001b[49m\u001b[43m)\u001b[49m\n",
      "    \u001b[0;31m[... skipping hidden 14 frame]\u001b[0m\n",
      "File \u001b[0;32m~/miniconda3/envs/scipy_dev/lib/python3.9/site-packages/jax/_src/scipy/linalg.py:180\u001b[0m, in \u001b[0;36mlu\u001b[0;34m(***failed resolving arguments***)\u001b[0m\n\u001b[1;32m    175\u001b[0m \u001b[38;5;129m@_wraps\u001b[39m(scipy\u001b[38;5;241m.\u001b[39mlinalg\u001b[38;5;241m.\u001b[39mlu, update_doc\u001b[38;5;241m=\u001b[39m\u001b[38;5;28;01mFalse\u001b[39;00m,\n\u001b[1;32m    176\u001b[0m         lax_description\u001b[38;5;241m=\u001b[39m_no_overwrite_and_chkfinite_doc, skip_params\u001b[38;5;241m=\u001b[39m(\u001b[38;5;124m'\u001b[39m\u001b[38;5;124moverwrite_a\u001b[39m\u001b[38;5;124m'\u001b[39m, \u001b[38;5;124m'\u001b[39m\u001b[38;5;124mcheck_finite\u001b[39m\u001b[38;5;124m'\u001b[39m))\n\u001b[1;32m    177\u001b[0m \u001b[38;5;129m@partial\u001b[39m(jit, static_argnames\u001b[38;5;241m=\u001b[39m(\u001b[38;5;124m'\u001b[39m\u001b[38;5;124mpermute_l\u001b[39m\u001b[38;5;124m'\u001b[39m, \u001b[38;5;124m'\u001b[39m\u001b[38;5;124moverwrite_a\u001b[39m\u001b[38;5;124m'\u001b[39m, \u001b[38;5;124m'\u001b[39m\u001b[38;5;124mcheck_finite\u001b[39m\u001b[38;5;124m'\u001b[39m))\n\u001b[1;32m    178\u001b[0m \u001b[38;5;28;01mdef\u001b[39;00m \u001b[38;5;21mlu\u001b[39m(a, permute_l\u001b[38;5;241m=\u001b[39m\u001b[38;5;28;01mFalse\u001b[39;00m, overwrite_a\u001b[38;5;241m=\u001b[39m\u001b[38;5;28;01mFalse\u001b[39;00m, check_finite\u001b[38;5;241m=\u001b[39m\u001b[38;5;28;01mTrue\u001b[39;00m):\n\u001b[1;32m    179\u001b[0m   \u001b[38;5;28;01mdel\u001b[39;00m overwrite_a, check_finite\n\u001b[0;32m--> 180\u001b[0m   \u001b[38;5;28;01mreturn\u001b[39;00m \u001b[43m_lu\u001b[49m\u001b[43m(\u001b[49m\u001b[43ma\u001b[49m\u001b[43m,\u001b[49m\u001b[43m \u001b[49m\u001b[43mpermute_l\u001b[49m\u001b[43m)\u001b[49m\n",
      "    \u001b[0;31m[... skipping hidden 7 frame]\u001b[0m\n",
      "File \u001b[0;32m~/miniconda3/envs/scipy_dev/lib/python3.9/site-packages/jax/_src/scipy/linalg.py:165\u001b[0m, in \u001b[0;36m_lu\u001b[0;34m(a, permute_l)\u001b[0m\n\u001b[1;32m    163\u001b[0m lu, pivots, permutation \u001b[38;5;241m=\u001b[39m lax_linalg\u001b[38;5;241m.\u001b[39mlu(a)\n\u001b[1;32m    164\u001b[0m dtype \u001b[38;5;241m=\u001b[39m lax\u001b[38;5;241m.\u001b[39mdtype(a)\n\u001b[0;32m--> 165\u001b[0m m, n \u001b[38;5;241m=\u001b[39m jnp\u001b[38;5;241m.\u001b[39mshape(a)\n\u001b[1;32m    166\u001b[0m p \u001b[38;5;241m=\u001b[39m jnp\u001b[38;5;241m.\u001b[39mreal(jnp\u001b[38;5;241m.\u001b[39marray(permutation[\u001b[38;5;28;01mNone\u001b[39;00m, :] \u001b[38;5;241m==\u001b[39m jnp\u001b[38;5;241m.\u001b[39marange(m)[:, \u001b[38;5;28;01mNone\u001b[39;00m], dtype\u001b[38;5;241m=\u001b[39mdtype))\n\u001b[1;32m    167\u001b[0m k \u001b[38;5;241m=\u001b[39m \u001b[38;5;28mmin\u001b[39m(m, n)\n",
      "\u001b[0;31mValueError\u001b[0m: too many values to unpack (expected 2)"
     ]
    }
   ],
   "source": [
    "jsp.linalg.lu(a)"
   ]
  },
  {
   "cell_type": "markdown",
   "id": "5b2171f4",
   "metadata": {},
   "source": [
    "## With VMAP"
   ]
  },
  {
   "cell_type": "code",
   "execution_count": 12,
   "id": "ae5b5208",
   "metadata": {},
   "outputs": [],
   "source": [
    "_lu = list(map(sp.linalg.lu, list(a)))"
   ]
  },
  {
   "cell_type": "code",
   "execution_count": 13,
   "id": "6fed7373",
   "metadata": {},
   "outputs": [],
   "source": [
    "jax_lu = jit(vmap(jsp.linalg.lu))\n",
    "\n",
    "_lu_jax = jax_lu(a)"
   ]
  },
  {
   "cell_type": "code",
   "execution_count": 14,
   "id": "4961a2ba",
   "metadata": {},
   "outputs": [],
   "source": [
    "for arrs in zip(_lu[0], (_lu_jax[0][0], _lu_jax[1][0], _lu_jax[2][0])):\n",
    "    assert_array_equal(*arrs)"
   ]
  },
  {
   "cell_type": "code",
   "execution_count": null,
   "id": "8ad9226a",
   "metadata": {},
   "outputs": [],
   "source": []
  },
  {
   "cell_type": "code",
   "execution_count": 15,
   "id": "e8036c22",
   "metadata": {},
   "outputs": [
    {
     "name": "stdout",
     "output_type": "stream",
     "text": [
      "336 ms ± 15.5 ms per loop (mean ± std. dev. of 7 runs, 1 loop each)\n"
     ]
    }
   ],
   "source": [
    "%timeit list(map(sp.linalg.lu, list(a)))"
   ]
  },
  {
   "cell_type": "code",
   "execution_count": 16,
   "id": "4532e9a5",
   "metadata": {},
   "outputs": [
    {
     "name": "stdout",
     "output_type": "stream",
     "text": [
      "13 ms ± 451 µs per loop (mean ± std. dev. of 7 runs, 100 loops each)\n"
     ]
    }
   ],
   "source": [
    "%timeit jax_lu(a)"
   ]
  },
  {
   "cell_type": "code",
   "execution_count": null,
   "id": "80c65e31",
   "metadata": {},
   "outputs": [],
   "source": []
  },
  {
   "cell_type": "code",
   "execution_count": null,
   "id": "b614986f",
   "metadata": {},
   "outputs": [],
   "source": []
  },
  {
   "cell_type": "code",
   "execution_count": null,
   "id": "9e0ec6aa",
   "metadata": {},
   "outputs": [],
   "source": []
  },
  {
   "cell_type": "markdown",
   "id": "aa62b8d5",
   "metadata": {},
   "source": [
    "## Presentation"
   ]
  },
  {
   "cell_type": "code",
   "execution_count": 7,
   "id": "839c114b",
   "metadata": {},
   "outputs": [],
   "source": [
    "a = jnp.ones((1, 2, 2))"
   ]
  },
  {
   "cell_type": "code",
   "execution_count": 8,
   "id": "c45707b7",
   "metadata": {},
   "outputs": [
    {
     "ename": "ValueError",
     "evalue": "too many values to unpack (expected 2)",
     "output_type": "error",
     "traceback": [
      "\u001b[0;31m---------------------------------------------------------------------------\u001b[0m",
      "\u001b[0;31mValueError\u001b[0m                                Traceback (most recent call last)",
      "Input \u001b[0;32mIn [8]\u001b[0m, in \u001b[0;36m<cell line: 1>\u001b[0;34m()\u001b[0m\n\u001b[0;32m----> 1\u001b[0m \u001b[43mjsp\u001b[49m\u001b[38;5;241;43m.\u001b[39;49m\u001b[43mlinalg\u001b[49m\u001b[38;5;241;43m.\u001b[39;49m\u001b[43mlu\u001b[49m\u001b[43m(\u001b[49m\u001b[43ma\u001b[49m\u001b[43m)\u001b[49m\n",
      "    \u001b[0;31m[... skipping hidden 14 frame]\u001b[0m\n",
      "File \u001b[0;32m~/miniconda3/envs/scipy_dev/lib/python3.9/site-packages/jax/_src/scipy/linalg.py:180\u001b[0m, in \u001b[0;36mlu\u001b[0;34m(***failed resolving arguments***)\u001b[0m\n\u001b[1;32m    175\u001b[0m \u001b[38;5;129m@_wraps\u001b[39m(scipy\u001b[38;5;241m.\u001b[39mlinalg\u001b[38;5;241m.\u001b[39mlu, update_doc\u001b[38;5;241m=\u001b[39m\u001b[38;5;28;01mFalse\u001b[39;00m,\n\u001b[1;32m    176\u001b[0m         lax_description\u001b[38;5;241m=\u001b[39m_no_overwrite_and_chkfinite_doc, skip_params\u001b[38;5;241m=\u001b[39m(\u001b[38;5;124m'\u001b[39m\u001b[38;5;124moverwrite_a\u001b[39m\u001b[38;5;124m'\u001b[39m, \u001b[38;5;124m'\u001b[39m\u001b[38;5;124mcheck_finite\u001b[39m\u001b[38;5;124m'\u001b[39m))\n\u001b[1;32m    177\u001b[0m \u001b[38;5;129m@partial\u001b[39m(jit, static_argnames\u001b[38;5;241m=\u001b[39m(\u001b[38;5;124m'\u001b[39m\u001b[38;5;124mpermute_l\u001b[39m\u001b[38;5;124m'\u001b[39m, \u001b[38;5;124m'\u001b[39m\u001b[38;5;124moverwrite_a\u001b[39m\u001b[38;5;124m'\u001b[39m, \u001b[38;5;124m'\u001b[39m\u001b[38;5;124mcheck_finite\u001b[39m\u001b[38;5;124m'\u001b[39m))\n\u001b[1;32m    178\u001b[0m \u001b[38;5;28;01mdef\u001b[39;00m \u001b[38;5;21mlu\u001b[39m(a, permute_l\u001b[38;5;241m=\u001b[39m\u001b[38;5;28;01mFalse\u001b[39;00m, overwrite_a\u001b[38;5;241m=\u001b[39m\u001b[38;5;28;01mFalse\u001b[39;00m, check_finite\u001b[38;5;241m=\u001b[39m\u001b[38;5;28;01mTrue\u001b[39;00m):\n\u001b[1;32m    179\u001b[0m   \u001b[38;5;28;01mdel\u001b[39;00m overwrite_a, check_finite\n\u001b[0;32m--> 180\u001b[0m   \u001b[38;5;28;01mreturn\u001b[39;00m \u001b[43m_lu\u001b[49m\u001b[43m(\u001b[49m\u001b[43ma\u001b[49m\u001b[43m,\u001b[49m\u001b[43m \u001b[49m\u001b[43mpermute_l\u001b[49m\u001b[43m)\u001b[49m\n",
      "    \u001b[0;31m[... skipping hidden 7 frame]\u001b[0m\n",
      "File \u001b[0;32m~/miniconda3/envs/scipy_dev/lib/python3.9/site-packages/jax/_src/scipy/linalg.py:165\u001b[0m, in \u001b[0;36m_lu\u001b[0;34m(a, permute_l)\u001b[0m\n\u001b[1;32m    163\u001b[0m lu, pivots, permutation \u001b[38;5;241m=\u001b[39m lax_linalg\u001b[38;5;241m.\u001b[39mlu(a)\n\u001b[1;32m    164\u001b[0m dtype \u001b[38;5;241m=\u001b[39m lax\u001b[38;5;241m.\u001b[39mdtype(a)\n\u001b[0;32m--> 165\u001b[0m m, n \u001b[38;5;241m=\u001b[39m jnp\u001b[38;5;241m.\u001b[39mshape(a)\n\u001b[1;32m    166\u001b[0m p \u001b[38;5;241m=\u001b[39m jnp\u001b[38;5;241m.\u001b[39mreal(jnp\u001b[38;5;241m.\u001b[39marray(permutation[\u001b[38;5;28;01mNone\u001b[39;00m, :] \u001b[38;5;241m==\u001b[39m jnp\u001b[38;5;241m.\u001b[39marange(m)[:, \u001b[38;5;28;01mNone\u001b[39;00m], dtype\u001b[38;5;241m=\u001b[39mdtype))\n\u001b[1;32m    167\u001b[0m k \u001b[38;5;241m=\u001b[39m \u001b[38;5;28mmin\u001b[39m(m, n)\n",
      "\u001b[0;31mValueError\u001b[0m: too many values to unpack (expected 2)"
     ]
    }
   ],
   "source": [
    "jsp.linalg.lu(a)"
   ]
  },
  {
   "cell_type": "code",
   "execution_count": 9,
   "id": "a826d1ed",
   "metadata": {},
   "outputs": [],
   "source": [
    "jax_lu = jit(vmap(jsp.linalg.lu))"
   ]
  },
  {
   "cell_type": "code",
   "execution_count": 10,
   "id": "24ee8b1a",
   "metadata": {},
   "outputs": [
    {
     "data": {
      "text/plain": [
       "(DeviceArray([[[1., 0.],\n",
       "               [0., 1.]]], dtype=float64),\n",
       " DeviceArray([[[1., 0.],\n",
       "               [1., 1.]]], dtype=float64),\n",
       " DeviceArray([[[1., 1.],\n",
       "               [0., 0.]]], dtype=float64))"
      ]
     },
     "execution_count": 10,
     "metadata": {},
     "output_type": "execute_result"
    }
   ],
   "source": [
    "jax_lu(a)"
   ]
  },
  {
   "cell_type": "code",
   "execution_count": null,
   "id": "ca2d57e9",
   "metadata": {},
   "outputs": [],
   "source": []
  },
  {
   "cell_type": "code",
   "execution_count": null,
   "id": "5be3cf3b",
   "metadata": {},
   "outputs": [],
   "source": []
  },
  {
   "cell_type": "code",
   "execution_count": null,
   "id": "702a1c20",
   "metadata": {},
   "outputs": [],
   "source": []
  },
  {
   "cell_type": "code",
   "execution_count": null,
   "id": "7a621264",
   "metadata": {},
   "outputs": [],
   "source": []
  },
  {
   "cell_type": "code",
   "execution_count": null,
   "id": "ed9833cd",
   "metadata": {},
   "outputs": [],
   "source": []
  },
  {
   "cell_type": "code",
   "execution_count": null,
   "id": "a8ac869a",
   "metadata": {},
   "outputs": [],
   "source": []
  }
 ],
 "metadata": {
  "kernelspec": {
   "display_name": "Python 3 (ipykernel)",
   "language": "python",
   "name": "python3"
  },
  "language_info": {
   "codemirror_mode": {
    "name": "ipython",
    "version": 3
   },
   "file_extension": ".py",
   "mimetype": "text/x-python",
   "name": "python",
   "nbconvert_exporter": "python",
   "pygments_lexer": "ipython3",
   "version": "3.9.0"
  }
 },
 "nbformat": 4,
 "nbformat_minor": 5
}
