{
 "cells": [
  {
   "cell_type": "markdown",
   "id": "59c9c954",
   "metadata": {},
   "source": [
    "# Switch to estimagic\n",
    "\n",
    "In this exercise you will use estimagic to solve the previous exercise.\n",
    "\n",
    "## Resources\n",
    "\n",
    "- [Optimization tutorial](https://estimagic.readthedocs.io/en/stable/getting_started/first_optimization_with_estimagic.html)"
   ]
  },
  {
   "cell_type": "code",
   "execution_count": 2,
   "id": "6a2434e5",
   "metadata": {},
   "outputs": [],
   "source": [
    "import estimagic as em\n",
    "import numpy as np"
   ]
  },
  {
   "cell_type": "markdown",
   "id": "fbc76c17",
   "metadata": {},
   "source": [
    "## Task 1: Simple switch\n",
    "\n",
    "- Copy your criterion function and start parameters from the previous example without any changes. \n",
    "- Use `em.minimize` to solve the optimization problem. For reasons you will learn later, estimagic has no default algorithm. You can set `algorithm=\"scipy_neldermead\"` for now and will learn how to pick algorithms later. \n",
    "- Look at `res.params` and `res.criterion` to make sure the optimization succeeded"
   ]
  },
  {
   "cell_type": "code",
   "execution_count": null,
   "id": "f6f484d0",
   "metadata": {},
   "outputs": [],
   "source": []
  },
  {
   "cell_type": "markdown",
   "id": "f29d5776",
   "metadata": {},
   "source": [
    "## Task 2: More flexible `params`\n",
    "\n",
    "In estimagic, parameters can be arbitrary [pytrees](https://jax.readthedocs.io/en/latest/pytrees.html). In the current example, a dictionary with the keys `\"a\"`, `\"b\"` and `\"c\"` would be a good choice. \n",
    "\n",
    "- Adjust your function such that it takes a dictionary of parameters instead of a flat numpy array.\n",
    "- re-run the optimization with `em.minimize` with the start parameters given below\n",
    "- Look at `res.params` and `res.criterion` to make sure that the optimization worked. "
   ]
  },
  {
   "cell_type": "code",
   "execution_count": 5,
   "id": "32c8c7ce",
   "metadata": {},
   "outputs": [],
   "source": [
    "start_params = {\n",
    "    \"a\": 0,\n",
    "    \"b\": np.zeros(3),\n",
    "    \"c\": np.zeros((2, 2))\n",
    "}\n",
    "\n",
    "def new_f(x):\n",
    "    pass"
   ]
  },
  {
   "cell_type": "markdown",
   "id": "e3cbb803",
   "metadata": {},
   "source": [
    "## Task 3: Plotting\n",
    "\n",
    "Use `em.criterion_plot` and `em.params_plot` to visualize the convergence of your optimization. Use the `selector` argument of `em.params_plot` to visualize only a subset of the parameters. Example: `selector=lambda params: params[\"b\"]`."
   ]
  },
  {
   "cell_type": "code",
   "execution_count": null,
   "id": "8b201c8e",
   "metadata": {},
   "outputs": [],
   "source": []
  }
 ],
 "metadata": {
  "kernelspec": {
   "display_name": "Python 3 (ipykernel)",
   "language": "python",
   "name": "python3"
  },
  "language_info": {
   "codemirror_mode": {
    "name": "ipython",
    "version": 3
   },
   "file_extension": ".py",
   "mimetype": "text/x-python",
   "name": "python",
   "nbconvert_exporter": "python",
   "pygments_lexer": "ipython3",
   "version": "3.9.0"
  }
 },
 "nbformat": 4,
 "nbformat_minor": 5
}
