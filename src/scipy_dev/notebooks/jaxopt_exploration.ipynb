{
 "cells": [
  {
   "cell_type": "code",
   "execution_count": 1,
   "id": "843dba34",
   "metadata": {},
   "outputs": [],
   "source": [
    "from jax import config \n",
    "config.update(\"jax_enable_x64\", True)\n",
    "import jax.numpy as jnp\n",
    "from jax import jit, vmap\n",
    "from scipy.optimize import minimize\n",
    "import jaxopt as jo\n",
    "import numpy as np\n",
    "import jax\n",
    "from numpy.testing import assert_array_almost_equal"
   ]
  },
  {
   "cell_type": "markdown",
   "id": "870e16ee",
   "metadata": {},
   "source": [
    "## Define criterion and params"
   ]
  },
  {
   "cell_type": "code",
   "execution_count": 2,
   "id": "c9db0bd3",
   "metadata": {},
   "outputs": [
    {
     "ename": "ModuleNotFoundError",
     "evalue": "No module named 'pytest'",
     "output_type": "error",
     "traceback": [
      "\u001b[0;31m---------------------------------------------------------------------------\u001b[0m",
      "\u001b[0;31mModuleNotFoundError\u001b[0m                       Traceback (most recent call last)",
      "Input \u001b[0;32mIn [2]\u001b[0m, in \u001b[0;36m<cell line: 3>\u001b[0;34m()\u001b[0m\n\u001b[1;32m      1\u001b[0m \u001b[38;5;28;01mimport\u001b[39;00m \u001b[38;5;21;01mnumpy\u001b[39;00m \u001b[38;5;28;01mas\u001b[39;00m \u001b[38;5;21;01mnp\u001b[39;00m\n\u001b[1;32m      2\u001b[0m \u001b[38;5;28;01mimport\u001b[39;00m \u001b[38;5;21;01mjax\u001b[39;00m\u001b[38;5;21;01m.\u001b[39;00m\u001b[38;5;21;01mnumpy\u001b[39;00m \u001b[38;5;28;01mas\u001b[39;00m \u001b[38;5;21;01mjnp\u001b[39;00m\n\u001b[0;32m----> 3\u001b[0m \u001b[38;5;28;01mimport\u001b[39;00m \u001b[38;5;21;01mpytest\u001b[39;00m\n",
      "\u001b[0;31mModuleNotFoundError\u001b[0m: No module named 'pytest'"
     ]
    }
   ],
   "source": [
    "import numpy as np\n",
    "import jax.numpy as jnp\n",
    "import pytest"
   ]
  },
  {
   "cell_type": "code",
   "execution_count": null,
   "id": "94e952b6",
   "metadata": {},
   "outputs": [],
   "source": [
    "def distance(x, y):\n",
    "    return np.sum((x - y) ** 2)\n",
    "\n",
    "\n",
    "def distance_jax(x, y):\n",
    "    return jnp.sum((x - y) ** 2)\n",
    "\n",
    "\n",
    "params = np.arange(5).astype(float)\n",
    "np.random.seed(1234)\n",
    "y_arr = np.random.uniform(size=(100, 5)) \n",
    "\n",
    "\n",
    "params_jax = jnp.array(params)\n",
    "y_arr_jax = jnp.array(y_arr)"
   ]
  },
  {
   "cell_type": "markdown",
   "id": "056192d2",
   "metadata": {},
   "source": [
    "## Scipy"
   ]
  },
  {
   "cell_type": "code",
   "execution_count": 3,
   "id": "3ced2264",
   "metadata": {},
   "outputs": [],
   "source": [
    "from scipy.optimize import minimize"
   ]
  },
  {
   "cell_type": "code",
   "execution_count": 4,
   "id": "2463e75b",
   "metadata": {},
   "outputs": [],
   "source": [
    "def batched_optimization_scipy():\n",
    "    result = []\n",
    "    for y in y_arr:\n",
    "        res = minimize(fun=distance2, x0=params, method=\"L-BFGS-B\", args=(y,))\n",
    "        result.append(res.x)\n",
    "    return np.stack(result)"
   ]
  },
  {
   "cell_type": "code",
   "execution_count": 5,
   "id": "f81260be",
   "metadata": {},
   "outputs": [
    {
     "ename": "NameError",
     "evalue": "name 'y_arr' is not defined",
     "output_type": "error",
     "traceback": [
      "\u001b[0;31m---------------------------------------------------------------------------\u001b[0m",
      "\u001b[0;31mNameError\u001b[0m                                 Traceback (most recent call last)",
      "Input \u001b[0;32mIn [5]\u001b[0m, in \u001b[0;36m<cell line: 1>\u001b[0;34m()\u001b[0m\n\u001b[0;32m----> 1\u001b[0m result \u001b[38;5;241m=\u001b[39m \u001b[43mbatched_optimization_scipy\u001b[49m\u001b[43m(\u001b[49m\u001b[43m)\u001b[49m\n\u001b[1;32m      3\u001b[0m assert_array_almost_equal(result, y_arr, decimal\u001b[38;5;241m=\u001b[39m\u001b[38;5;241m5\u001b[39m)\n",
      "Input \u001b[0;32mIn [4]\u001b[0m, in \u001b[0;36mbatched_optimization_scipy\u001b[0;34m()\u001b[0m\n\u001b[1;32m      1\u001b[0m \u001b[38;5;28;01mdef\u001b[39;00m \u001b[38;5;21mbatched_optimization_scipy\u001b[39m():\n\u001b[1;32m      2\u001b[0m     result \u001b[38;5;241m=\u001b[39m []\n\u001b[0;32m----> 3\u001b[0m     \u001b[38;5;28;01mfor\u001b[39;00m y \u001b[38;5;129;01min\u001b[39;00m \u001b[43my_arr\u001b[49m:\n\u001b[1;32m      4\u001b[0m         res \u001b[38;5;241m=\u001b[39m minimize(fun\u001b[38;5;241m=\u001b[39mdistance2, x0\u001b[38;5;241m=\u001b[39mparams, method\u001b[38;5;241m=\u001b[39m\u001b[38;5;124m\"\u001b[39m\u001b[38;5;124mL-BFGS-B\u001b[39m\u001b[38;5;124m\"\u001b[39m, args\u001b[38;5;241m=\u001b[39m(y,))\n\u001b[1;32m      5\u001b[0m         result\u001b[38;5;241m.\u001b[39mappend(res\u001b[38;5;241m.\u001b[39mx)\n",
      "\u001b[0;31mNameError\u001b[0m: name 'y_arr' is not defined"
     ]
    }
   ],
   "source": [
    "result = batched_optimization_scipy()\n",
    "\n",
    "assert_array_almost_equal(result, y_arr, decimal=5)"
   ]
  },
  {
   "cell_type": "code",
   "execution_count": 6,
   "id": "90b10eff",
   "metadata": {},
   "outputs": [
    {
     "ename": "NameError",
     "evalue": "name 'y_arr' is not defined",
     "output_type": "error",
     "traceback": [
      "\u001b[0;31m---------------------------------------------------------------------------\u001b[0m",
      "\u001b[0;31mNameError\u001b[0m                                 Traceback (most recent call last)",
      "Input \u001b[0;32mIn [6]\u001b[0m, in \u001b[0;36m<cell line: 1>\u001b[0;34m()\u001b[0m\n\u001b[0;32m----> 1\u001b[0m \u001b[43mget_ipython\u001b[49m\u001b[43m(\u001b[49m\u001b[43m)\u001b[49m\u001b[38;5;241;43m.\u001b[39;49m\u001b[43mrun_line_magic\u001b[49m\u001b[43m(\u001b[49m\u001b[38;5;124;43m'\u001b[39;49m\u001b[38;5;124;43mtimeit\u001b[39;49m\u001b[38;5;124;43m'\u001b[39;49m\u001b[43m,\u001b[49m\u001b[43m \u001b[49m\u001b[38;5;124;43m'\u001b[39;49m\u001b[38;5;124;43mbatched_optimization_scipy()\u001b[39;49m\u001b[38;5;124;43m'\u001b[39;49m\u001b[43m)\u001b[49m\n",
      "File \u001b[0;32m~/miniconda3/envs/scipy-estimagic/lib/python3.9/site-packages/IPython/core/interactiveshell.py:2305\u001b[0m, in \u001b[0;36mInteractiveShell.run_line_magic\u001b[0;34m(self, magic_name, line, _stack_depth)\u001b[0m\n\u001b[1;32m   2303\u001b[0m     kwargs[\u001b[38;5;124m'\u001b[39m\u001b[38;5;124mlocal_ns\u001b[39m\u001b[38;5;124m'\u001b[39m] \u001b[38;5;241m=\u001b[39m \u001b[38;5;28mself\u001b[39m\u001b[38;5;241m.\u001b[39mget_local_scope(stack_depth)\n\u001b[1;32m   2304\u001b[0m \u001b[38;5;28;01mwith\u001b[39;00m \u001b[38;5;28mself\u001b[39m\u001b[38;5;241m.\u001b[39mbuiltin_trap:\n\u001b[0;32m-> 2305\u001b[0m     result \u001b[38;5;241m=\u001b[39m \u001b[43mfn\u001b[49m\u001b[43m(\u001b[49m\u001b[38;5;241;43m*\u001b[39;49m\u001b[43margs\u001b[49m\u001b[43m,\u001b[49m\u001b[43m \u001b[49m\u001b[38;5;241;43m*\u001b[39;49m\u001b[38;5;241;43m*\u001b[39;49m\u001b[43mkwargs\u001b[49m\u001b[43m)\u001b[49m\n\u001b[1;32m   2306\u001b[0m \u001b[38;5;28;01mreturn\u001b[39;00m result\n",
      "File \u001b[0;32m~/miniconda3/envs/scipy-estimagic/lib/python3.9/site-packages/IPython/core/magics/execution.py:1162\u001b[0m, in \u001b[0;36mExecutionMagics.timeit\u001b[0;34m(self, line, cell, local_ns)\u001b[0m\n\u001b[1;32m   1160\u001b[0m \u001b[38;5;28;01mfor\u001b[39;00m index \u001b[38;5;129;01min\u001b[39;00m \u001b[38;5;28mrange\u001b[39m(\u001b[38;5;241m0\u001b[39m, \u001b[38;5;241m10\u001b[39m):\n\u001b[1;32m   1161\u001b[0m     number \u001b[38;5;241m=\u001b[39m \u001b[38;5;241m10\u001b[39m \u001b[38;5;241m*\u001b[39m\u001b[38;5;241m*\u001b[39m index\n\u001b[0;32m-> 1162\u001b[0m     time_number \u001b[38;5;241m=\u001b[39m \u001b[43mtimer\u001b[49m\u001b[38;5;241;43m.\u001b[39;49m\u001b[43mtimeit\u001b[49m\u001b[43m(\u001b[49m\u001b[43mnumber\u001b[49m\u001b[43m)\u001b[49m\n\u001b[1;32m   1163\u001b[0m     \u001b[38;5;28;01mif\u001b[39;00m time_number \u001b[38;5;241m>\u001b[39m\u001b[38;5;241m=\u001b[39m \u001b[38;5;241m0.2\u001b[39m:\n\u001b[1;32m   1164\u001b[0m         \u001b[38;5;28;01mbreak\u001b[39;00m\n",
      "File \u001b[0;32m~/miniconda3/envs/scipy-estimagic/lib/python3.9/site-packages/IPython/core/magics/execution.py:156\u001b[0m, in \u001b[0;36mTimer.timeit\u001b[0;34m(self, number)\u001b[0m\n\u001b[1;32m    154\u001b[0m gc\u001b[38;5;241m.\u001b[39mdisable()\n\u001b[1;32m    155\u001b[0m \u001b[38;5;28;01mtry\u001b[39;00m:\n\u001b[0;32m--> 156\u001b[0m     timing \u001b[38;5;241m=\u001b[39m \u001b[38;5;28;43mself\u001b[39;49m\u001b[38;5;241;43m.\u001b[39;49m\u001b[43minner\u001b[49m\u001b[43m(\u001b[49m\u001b[43mit\u001b[49m\u001b[43m,\u001b[49m\u001b[43m \u001b[49m\u001b[38;5;28;43mself\u001b[39;49m\u001b[38;5;241;43m.\u001b[39;49m\u001b[43mtimer\u001b[49m\u001b[43m)\u001b[49m\n\u001b[1;32m    157\u001b[0m \u001b[38;5;28;01mfinally\u001b[39;00m:\n\u001b[1;32m    158\u001b[0m     \u001b[38;5;28;01mif\u001b[39;00m gcold:\n",
      "File \u001b[0;32m<magic-timeit>:1\u001b[0m, in \u001b[0;36minner\u001b[0;34m(_it, _timer)\u001b[0m\n",
      "Input \u001b[0;32mIn [4]\u001b[0m, in \u001b[0;36mbatched_optimization_scipy\u001b[0;34m()\u001b[0m\n\u001b[1;32m      1\u001b[0m \u001b[38;5;28;01mdef\u001b[39;00m \u001b[38;5;21mbatched_optimization_scipy\u001b[39m():\n\u001b[1;32m      2\u001b[0m     result \u001b[38;5;241m=\u001b[39m []\n\u001b[0;32m----> 3\u001b[0m     \u001b[38;5;28;01mfor\u001b[39;00m y \u001b[38;5;129;01min\u001b[39;00m \u001b[43my_arr\u001b[49m:\n\u001b[1;32m      4\u001b[0m         res \u001b[38;5;241m=\u001b[39m minimize(fun\u001b[38;5;241m=\u001b[39mdistance2, x0\u001b[38;5;241m=\u001b[39mparams, method\u001b[38;5;241m=\u001b[39m\u001b[38;5;124m\"\u001b[39m\u001b[38;5;124mL-BFGS-B\u001b[39m\u001b[38;5;124m\"\u001b[39m, args\u001b[38;5;241m=\u001b[39m(y,))\n\u001b[1;32m      5\u001b[0m         result\u001b[38;5;241m.\u001b[39mappend(res\u001b[38;5;241m.\u001b[39mx)\n",
      "\u001b[0;31mNameError\u001b[0m: name 'y_arr' is not defined"
     ]
    }
   ],
   "source": [
    "%timeit batched_optimization_scipy()"
   ]
  },
  {
   "cell_type": "markdown",
   "id": "b7d0adc3",
   "metadata": {},
   "source": [
    "## JAXopt"
   ]
  },
  {
   "cell_type": "code",
   "execution_count": 8,
   "id": "b009b3ed",
   "metadata": {},
   "outputs": [],
   "source": [
    "def batched_optimization_jax_loop(solver):\n",
    "    results = []\n",
    "    for y in y_arr_jax:\n",
    "        res = solver.run(init_params=params, y=y)\n",
    "        results.append(res.params)\n",
    "    return jnp.stack(results)"
   ]
  },
  {
   "cell_type": "markdown",
   "id": "9f3f9e33",
   "metadata": {},
   "source": [
    "## JAXopt Scipy"
   ]
  },
  {
   "cell_type": "code",
   "execution_count": 12,
   "id": "9b029dae",
   "metadata": {},
   "outputs": [],
   "source": [
    "from jaxopt import ScipyMinimize"
   ]
  },
  {
   "cell_type": "code",
   "execution_count": 13,
   "id": "8db90226",
   "metadata": {},
   "outputs": [],
   "source": [
    "solver = ScipyMinimize(method=\"L-BFGS-B\", fun=distance_jax)"
   ]
  },
  {
   "cell_type": "code",
   "execution_count": 14,
   "id": "a04d29cd",
   "metadata": {},
   "outputs": [],
   "source": [
    "results = batched_optimization_jax_loop(solver)\n",
    "\n",
    "assert_array_almost_equal(results, y_arr_jax)"
   ]
  },
  {
   "cell_type": "code",
   "execution_count": 15,
   "id": "0daeec0e",
   "metadata": {},
   "outputs": [
    {
     "name": "stdout",
     "output_type": "stream",
     "text": [
      "291 ms ± 12.4 ms per loop (mean ± std. dev. of 7 runs, 1 loop each)\n"
     ]
    }
   ],
   "source": [
    "%timeit batched_optimization_jax_loop(solver)"
   ]
  },
  {
   "cell_type": "markdown",
   "id": "56f9b2e0",
   "metadata": {},
   "source": [
    "## JAXopt"
   ]
  },
  {
   "cell_type": "code",
   "execution_count": 5,
   "id": "a4f1def9",
   "metadata": {},
   "outputs": [],
   "source": [
    "from jaxopt import LBFGS"
   ]
  },
  {
   "cell_type": "code",
   "execution_count": 6,
   "id": "d83d371a",
   "metadata": {},
   "outputs": [],
   "source": [
    "solver = LBFGS(fun=distance_jax)"
   ]
  },
  {
   "cell_type": "code",
   "execution_count": 9,
   "id": "4ecc6e45",
   "metadata": {},
   "outputs": [
    {
     "name": "stderr",
     "output_type": "stream",
     "text": [
      "\n",
      "KeyboardInterrupt\n",
      "\n"
     ]
    }
   ],
   "source": [
    "results = batched_optimization_jax_loop(solver)\n",
    "\n",
    "assert_array_almost_equal(results, y_arr_jax)"
   ]
  },
  {
   "cell_type": "markdown",
   "id": "b6a85df1",
   "metadata": {},
   "source": [
    "### GradientDescent"
   ]
  },
  {
   "cell_type": "code",
   "execution_count": null,
   "id": "0dea9f6f",
   "metadata": {},
   "outputs": [],
   "source": [
    "from jaxopt import GradientDescent\n",
    "\n",
    "solver = GradientDescent(fun=distance_jax)"
   ]
  },
  {
   "cell_type": "code",
   "execution_count": null,
   "id": "2e242786",
   "metadata": {},
   "outputs": [],
   "source": [
    "results = batched_optimization_jax_loop(solver)\n",
    "\n",
    "assert_array_almost_equal(results, y_arr_jax, decimal=4)"
   ]
  },
  {
   "cell_type": "code",
   "execution_count": null,
   "id": "18ade2c2",
   "metadata": {},
   "outputs": [],
   "source": [
    "# %timeit batched_optimization_jax_loop(solver)"
   ]
  },
  {
   "cell_type": "markdown",
   "id": "8e934a5e",
   "metadata": {},
   "source": [
    "### NonlinearCG"
   ]
  },
  {
   "cell_type": "code",
   "execution_count": null,
   "id": "55b2293d",
   "metadata": {},
   "outputs": [],
   "source": [
    "from jaxopt import NonlinearCG"
   ]
  },
  {
   "cell_type": "code",
   "execution_count": null,
   "id": "ef2d455b",
   "metadata": {},
   "outputs": [],
   "source": [
    "solver = NonlinearCG(fun=distance_jax)"
   ]
  },
  {
   "cell_type": "code",
   "execution_count": null,
   "id": "f9866177",
   "metadata": {},
   "outputs": [],
   "source": [
    "results = batched_optimization_jax_loop(solver)"
   ]
  },
  {
   "cell_type": "code",
   "execution_count": null,
   "id": "d18e6d69",
   "metadata": {},
   "outputs": [],
   "source": [
    "assert_array_almost_equal(results, y_arr_jax, decimal=3)"
   ]
  },
  {
   "cell_type": "markdown",
   "id": "16d5869f",
   "metadata": {},
   "source": [
    "### Proper batching"
   ]
  },
  {
   "cell_type": "code",
   "execution_count": 14,
   "id": "00edd656",
   "metadata": {},
   "outputs": [],
   "source": [
    "solver = jo.LBFGS(fun=distance_jax2)\n",
    "\n",
    "def solve(x, y):\n",
    "    return solver.run(init_params=x, y=y)[0]\n",
    "\n",
    "batch_solve = jit(vmap(solve, in_axes=(None, 0)))"
   ]
  },
  {
   "cell_type": "code",
   "execution_count": 15,
   "id": "4b741e62",
   "metadata": {},
   "outputs": [],
   "source": [
    "result = batch_solve(params_jax, y_arr_jax)"
   ]
  },
  {
   "cell_type": "code",
   "execution_count": 16,
   "id": "178403de",
   "metadata": {},
   "outputs": [],
   "source": [
    "assert_array_almost_equal(result, y_arr_jax)"
   ]
  },
  {
   "cell_type": "code",
   "execution_count": 17,
   "id": "4dea3b30",
   "metadata": {},
   "outputs": [
    {
     "name": "stdout",
     "output_type": "stream",
     "text": [
      "117 µs ± 3.86 µs per loop (mean ± std. dev. of 7 runs, 10,000 loops each)\n"
     ]
    }
   ],
   "source": [
    "%timeit batch_solve(params_jax, y_arr_jax)"
   ]
  },
  {
   "cell_type": "code",
   "execution_count": null,
   "id": "d7b1574d",
   "metadata": {},
   "outputs": [],
   "source": []
  },
  {
   "cell_type": "code",
   "execution_count": null,
   "id": "30311067",
   "metadata": {},
   "outputs": [],
   "source": []
  },
  {
   "cell_type": "code",
   "execution_count": 7,
   "id": "4d1c569c",
   "metadata": {},
   "outputs": [],
   "source": [
    "import jax"
   ]
  },
  {
   "cell_type": "code",
   "execution_count": 11,
   "id": "844ae549",
   "metadata": {},
   "outputs": [],
   "source": [
    "import jax.numpy as jnp"
   ]
  },
  {
   "cell_type": "code",
   "execution_count": 8,
   "id": "4b41e18b",
   "metadata": {},
   "outputs": [],
   "source": [
    "import jaxopt"
   ]
  },
  {
   "cell_type": "code",
   "execution_count": 9,
   "id": "9fba8b97",
   "metadata": {},
   "outputs": [],
   "source": [
    "from jaxopt import LBFGS"
   ]
  },
  {
   "cell_type": "code",
   "execution_count": null,
   "id": "4734a769",
   "metadata": {},
   "outputs": [],
   "source": []
  },
  {
   "cell_type": "code",
   "execution_count": 25,
   "id": "0ce29561",
   "metadata": {},
   "outputs": [],
   "source": [
    "import jax.numpy as jnp\n",
    "\n",
    "x0 = jnp.arange(3, dtype=float) + 1\n",
    "\n",
    "shift = x0.copy()\n",
    "\n",
    "def criterion(x, shift):\n",
    "    return jnp.vdot(x, x + shift)"
   ]
  },
  {
   "cell_type": "code",
   "execution_count": 26,
   "id": "49d8176a",
   "metadata": {},
   "outputs": [],
   "source": [
    "solver = LBFGS(fun=criterion)"
   ]
  },
  {
   "cell_type": "code",
   "execution_count": 27,
   "id": "96cfd9bb",
   "metadata": {},
   "outputs": [],
   "source": [
    "res = solver.run(init_params=x0, shift=shift)"
   ]
  },
  {
   "cell_type": "code",
   "execution_count": 29,
   "id": "33c4a6d6",
   "metadata": {},
   "outputs": [
    {
     "data": {
      "text/plain": [
       "DeviceArray([-0.5, -1. , -1.5], dtype=float64)"
      ]
     },
     "execution_count": 29,
     "metadata": {},
     "output_type": "execute_result"
    }
   ],
   "source": [
    "res.params"
   ]
  },
  {
   "cell_type": "code",
   "execution_count": null,
   "id": "3f56a80b",
   "metadata": {},
   "outputs": [],
   "source": []
  },
  {
   "cell_type": "code",
   "execution_count": null,
   "id": "a28f7d87",
   "metadata": {},
   "outputs": [],
   "source": []
  },
  {
   "cell_type": "code",
   "execution_count": null,
   "id": "6c617a4b",
   "metadata": {},
   "outputs": [],
   "source": []
  },
  {
   "cell_type": "code",
   "execution_count": 18,
   "id": "ebba9ad4",
   "metadata": {},
   "outputs": [],
   "source": [
    "import numpy as np\n",
    "\n",
    "x0 = np.arange(3, dtype=float) + 1\n",
    "\n",
    "shift = x0.copy()\n",
    "\n",
    "def criterion(x, shift):\n",
    "    return np.vdot(x, x + shift)"
   ]
  },
  {
   "cell_type": "code",
   "execution_count": 23,
   "id": "0b771389",
   "metadata": {},
   "outputs": [],
   "source": [
    "from scipy.optimize import minimize"
   ]
  },
  {
   "cell_type": "code",
   "execution_count": 24,
   "id": "708195eb",
   "metadata": {},
   "outputs": [
    {
     "data": {
      "text/plain": [
       "      fun: -3.499999999998926\n",
       " hess_inv: array([[ 0.96428578, -0.0714285 , -0.10714278],\n",
       "       [-0.0714285 ,  0.85714289, -0.21428571],\n",
       "       [-0.10714278, -0.21428571,  0.67857135]])\n",
       "      jac: array([-1.84774399e-06, -5.66244125e-07,  7.74860382e-07])\n",
       "  message: 'Optimization terminated successfully.'\n",
       "     nfev: 16\n",
       "      nit: 3\n",
       "     njev: 4\n",
       "   status: 0\n",
       "  success: True\n",
       "        x: array([-0.50000092, -1.00000028, -1.49999962])"
      ]
     },
     "execution_count": 24,
     "metadata": {},
     "output_type": "execute_result"
    }
   ],
   "source": [
    "minimize(criterion, x0, args=(shift,))"
   ]
  },
  {
   "cell_type": "code",
   "execution_count": null,
   "id": "90743a36",
   "metadata": {},
   "outputs": [],
   "source": []
  },
  {
   "cell_type": "code",
   "execution_count": null,
   "id": "121aa122",
   "metadata": {},
   "outputs": [],
   "source": []
  },
  {
   "cell_type": "code",
   "execution_count": null,
   "id": "f27607fb",
   "metadata": {},
   "outputs": [],
   "source": []
  },
  {
   "cell_type": "code",
   "execution_count": null,
   "id": "df606201",
   "metadata": {},
   "outputs": [],
   "source": []
  },
  {
   "cell_type": "code",
   "execution_count": null,
   "id": "73723939",
   "metadata": {},
   "outputs": [],
   "source": []
  },
  {
   "cell_type": "code",
   "execution_count": null,
   "id": "adf4f9bf",
   "metadata": {},
   "outputs": [],
   "source": []
  },
  {
   "cell_type": "code",
   "execution_count": null,
   "id": "d817eff9",
   "metadata": {},
   "outputs": [],
   "source": []
  },
  {
   "cell_type": "code",
   "execution_count": null,
   "id": "9542cabf",
   "metadata": {},
   "outputs": [],
   "source": []
  },
  {
   "cell_type": "code",
   "execution_count": null,
   "id": "912151c8",
   "metadata": {},
   "outputs": [],
   "source": []
  },
  {
   "cell_type": "code",
   "execution_count": null,
   "id": "9852268b",
   "metadata": {},
   "outputs": [],
   "source": []
  },
  {
   "cell_type": "code",
   "execution_count": null,
   "id": "989dec9b",
   "metadata": {},
   "outputs": [],
   "source": []
  },
  {
   "cell_type": "code",
   "execution_count": null,
   "id": "7c11f9ca",
   "metadata": {},
   "outputs": [],
   "source": []
  },
  {
   "cell_type": "code",
   "execution_count": null,
   "id": "73fb3a94",
   "metadata": {},
   "outputs": [],
   "source": []
  },
  {
   "cell_type": "code",
   "execution_count": null,
   "id": "fd37df6a",
   "metadata": {},
   "outputs": [],
   "source": []
  },
  {
   "cell_type": "code",
   "execution_count": null,
   "id": "5ba58614",
   "metadata": {},
   "outputs": [],
   "source": []
  },
  {
   "cell_type": "code",
   "execution_count": null,
   "id": "b13f01d5",
   "metadata": {},
   "outputs": [],
   "source": []
  }
 ],
 "metadata": {
  "kernelspec": {
   "display_name": "Python 3 (ipykernel)",
   "language": "python",
   "name": "python3"
  },
  "language_info": {
   "codemirror_mode": {
    "name": "ipython",
    "version": 3
   },
   "file_extension": ".py",
   "mimetype": "text/x-python",
   "name": "python",
   "nbconvert_exporter": "python",
   "pygments_lexer": "ipython3",
   "version": "3.9.0"
  }
 },
 "nbformat": 4,
 "nbformat_minor": 5
}
