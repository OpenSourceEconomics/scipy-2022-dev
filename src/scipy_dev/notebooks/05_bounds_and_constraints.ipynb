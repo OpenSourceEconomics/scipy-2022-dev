{
 "cells": [
  {
   "cell_type": "markdown",
   "id": "f62c4ead",
   "metadata": {},
   "source": [
    "## Bounds and constraints\n",
    "\n",
    "In this exercise you learn how to use bounds and simple constraints. \n",
    "\n",
    "Note that we will just scratch the surface of the topic. Look at the resources for more information. \n",
    "\n",
    "## Resources\n",
    "\n",
    "- How to specify bounds\n",
    "- [How to use constraints](https://estimagic.readthedocs.io/en/stable/how_to_guides/optimization/how_to_specify_constraints.html)\n",
    "- [Background: How constraints are implemented](https://estimagic.readthedocs.io/en/stable/explanations/optimization/implementation_of_constraints.html)\n",
    "\n",
    "## Example\n",
    "\n",
    "We reproduce the example from previous exercises for convenience"
   ]
  },
  {
   "cell_type": "code",
   "execution_count": 4,
   "id": "5df557e9",
   "metadata": {},
   "outputs": [],
   "source": [
    "import estimagic as em \n",
    "import numpy as np\n",
    "\n",
    "def criterion(x):\n",
    "    first = (x[\"a\"] - np.pi) ** 4 \n",
    "    second =  np.linalg.norm(x[\"b\"] - np.arange(3))\n",
    "    third = np.linalg.norm(x[\"c\"] - np.eye(2))\n",
    "    return first + second + third\n",
    "    \n",
    "    \n",
    "start_params = {\n",
    "    \"a\": 1,\n",
    "    \"b\": np.ones(3),\n",
    "    \"c\": np.ones((2, 2))\n",
    "}"
   ]
  },
  {
   "cell_type": "code",
   "execution_count": 5,
   "id": "87752daa",
   "metadata": {},
   "outputs": [],
   "source": [
    "res = em.minimize(\n",
    "    criterion=criterion,\n",
    "    params=start_params,\n",
    "    algorithm=\"nlopt_bobyqa\",\n",
    ")"
   ]
  },
  {
   "cell_type": "markdown",
   "id": "30795e3d",
   "metadata": {},
   "source": [
    "## Task 1: Bounds\n",
    "\n",
    "Repeat the optimization with an upper bounds of 2.0 on `a` and a lower bound of 0.5 on `b`"
   ]
  },
  {
   "cell_type": "code",
   "execution_count": null,
   "id": "765b90dc",
   "metadata": {},
   "outputs": [],
   "source": []
  },
  {
   "cell_type": "markdown",
   "id": "3fd70406",
   "metadata": {},
   "source": [
    "## Task 2: Fixing parameters\n",
    "\n",
    "Remove the bounds but now fix the parameter `a` as well as the top right entry in `c` (i.e. `x[\"c\"][0, 1]`) at their start value"
   ]
  },
  {
   "cell_type": "code",
   "execution_count": null,
   "id": "5fc56ea0",
   "metadata": {},
   "outputs": [],
   "source": []
  },
  {
   "cell_type": "markdown",
   "id": "5ed57659",
   "metadata": {},
   "source": [
    "## Optional: Play around with more constraints\n",
    "\n",
    "Look at the [documentation](https://estimagic.readthedocs.io/en/stable/how_to_guides/optimization/how_to_specify_constraints.html) and impose the constraint that the parameters in \"c\" sum to 1 via a linear constraint. "
   ]
  },
  {
   "cell_type": "code",
   "execution_count": null,
   "id": "65ad5886",
   "metadata": {},
   "outputs": [],
   "source": []
  }
 ],
 "metadata": {
  "kernelspec": {
   "display_name": "Python 3 (ipykernel)",
   "language": "python",
   "name": "python3"
  },
  "language_info": {
   "codemirror_mode": {
    "name": "ipython",
    "version": 3
   },
   "file_extension": ".py",
   "mimetype": "text/x-python",
   "name": "python",
   "nbconvert_exporter": "python",
   "pygments_lexer": "ipython3",
   "version": "3.9.0"
  }
 },
 "nbformat": 4,
 "nbformat_minor": 5
}
