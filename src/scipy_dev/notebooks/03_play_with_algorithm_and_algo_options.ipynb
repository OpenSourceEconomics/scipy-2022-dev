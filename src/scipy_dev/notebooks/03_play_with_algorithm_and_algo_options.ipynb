{
 "cells": [
  {
   "cell_type": "markdown",
   "id": "7c5258f1",
   "metadata": {},
   "source": [
    "# Picking Algorithms\n",
    "\n",
    "In this exercise you get code snippets for two optimizations that fail silently. You need to fix them by selecting a different optimization algorithm.\n",
    "\n",
    "If you find one that works, continue to search for one that works better. "
   ]
  },
  {
   "cell_type": "code",
   "execution_count": 33,
   "id": "1af49522",
   "metadata": {},
   "outputs": [],
   "source": [
    "import numpy as np\n",
    "import estimagic as em"
   ]
  },
  {
   "cell_type": "markdown",
   "id": "16f85ba3",
   "metadata": {},
   "source": [
    "## Problem 1\n",
    "\n",
    "This is a modified version of the `powell_singular` function from the More and Wild set of test functions. "
   ]
  },
  {
   "cell_type": "code",
   "execution_count": 37,
   "id": "44d59e10",
   "metadata": {},
   "outputs": [],
   "source": [
    "def powell_steps(x):\n",
    "    x = x.round(4)\n",
    "    fvec = np.zeros(4)\n",
    "    fvec[0] = x[0] + 10 * x[1]\n",
    "    fvec[1] = np.sqrt(5.0) * (x[2] - x[3])\n",
    "    fvec[2] = (x[1] - 2 * x[2]) ** 2\n",
    "    fvec[3] = np.sqrt(10.0) * (x[0] - x[3]) ** 2\n",
    "    out = {\"root_contributions\": fvec, \"value\": fvec @ fvec}\n",
    "    return out\n",
    "\n",
    "powell_start = np.array([3, -1, 0, 1])\n",
    "# correct parameters\n",
    "powell_params = np.zeros(4)\n",
    "# correct criterion value\n",
    "powell_criterion = 0"
   ]
  },
  {
   "cell_type": "code",
   "execution_count": 38,
   "id": "b40c964d",
   "metadata": {},
   "outputs": [
    {
     "data": {
      "text/plain": [
       "array([ 3., -1.,  0.,  1.])"
      ]
     },
     "execution_count": 38,
     "metadata": {},
     "output_type": "execute_result"
    }
   ],
   "source": [
    "res_powell = em.minimize(\n",
    "    criterion=powell_steps,\n",
    "    params=powell_start,\n",
    "    algorithm=\"scipy_lbfgsb\",\n",
    ")\n",
    "res_powell.params"
   ]
  },
  {
   "cell_type": "markdown",
   "id": "69b3ca59",
   "metadata": {},
   "source": [
    "The optimization thinks it terminated \"successfully\" but when you look at `res.params` you see that it actually got stuck at the start values. "
   ]
  },
  {
   "cell_type": "markdown",
   "id": "6a99a5c2",
   "metadata": {},
   "source": [
    "## Problem 2\n",
    "\n",
    "This is the `bratu_2d` problem from the Cartis and Roberts benchmark set. "
   ]
  },
  {
   "cell_type": "code",
   "execution_count": 42,
   "id": "c5ddc4a1",
   "metadata": {},
   "outputs": [],
   "source": [
    "def bratu(x):\n",
    "    alpha = 4.\n",
    "    x = x.reshape((int(np.sqrt(len(x))), int(np.sqrt(len(x)))))\n",
    "    p = x.shape[0] + 2\n",
    "    h = 1 / (p - 1)\n",
    "    c = h**2 * alpha\n",
    "    xvec = np.zeros((x.shape[0] + 2, x.shape[1] + 2))\n",
    "    xvec[1 : x.shape[0] + 1, 1 : x.shape[1] + 1] = x\n",
    "    fvec = np.zeros_like(x)\n",
    "    for i in range(2, p):\n",
    "        for j in range(2, p):\n",
    "            fvec[i - 2, j - 2] = (\n",
    "                4 * xvec[i - 1, j - 1]\n",
    "                - xvec[i, j - 1]\n",
    "                - xvec[i - 2, j - 1]\n",
    "                - xvec[i - 1, j]\n",
    "                - xvec[i - 1, j - 2]\n",
    "                - c * np.exp(xvec[i - 1, j - 1])\n",
    "            )\n",
    "    fvec = fvec.flatten()\n",
    "    out = {\"root_contributions\": fvec, \"value\": fvec @ fvec}\n",
    "    return out\n",
    "\n",
    "bratu_start = np.zeros(64)\n",
    "# correct criterion value\n",
    "bratu_criterion = 0\n",
    "# skip correct params because they are too long"
   ]
  },
  {
   "cell_type": "code",
   "execution_count": 43,
   "id": "4ee308be",
   "metadata": {},
   "outputs": [
    {
     "data": {
      "text/plain": [
       "Minimize with 64 free parameters terminated unsuccessfully after 4000 criterion evaluations and 3781 iterations.\n",
       "\n",
       "The value of criterion improved from 0.1560737692424935 to 0.14641530058365018.\n",
       "\n",
       "The scipy_neldermead algorithm reported: Maximum number of function evaluations has been exceeded.\n",
       "\n",
       "Independent of the convergence criteria used by scipy_neldermead, the strength of convergence can be assessed by the following criteria:\n",
       "\n",
       "                             one_step     five_steps \n",
       "relative_criterion_change  0.0003009      0.001361   \n",
       "relative_params_change       0.02078       0.04823   \n",
       "absolute_criterion_change  4.405e-05     0.0001992   \n",
       "absolute_params_change      0.002078      0.004823   \n",
       "\n",
       "(***: change <= 1e-10, **: change <= 1e-8, *: change <= 1e-5. Change refers to a change between accepted steps. The first column only considers the last step. The second column considers the last five steps.)"
      ]
     },
     "execution_count": 43,
     "metadata": {},
     "output_type": "execute_result"
    }
   ],
   "source": [
    "res_bratu = em.minimize(\n",
    "    criterion=bratu,\n",
    "    params=bratu_start,\n",
    "    algorithm=\"scipy_neldermead\",\n",
    "    algo_options={\"stopping.max_criterion_evaluations\": 5000},\n",
    ")\n",
    "\n",
    "res_bratu"
   ]
  },
  {
   "cell_type": "markdown",
   "id": "392819e0",
   "metadata": {},
   "source": [
    "The optimization will terminate because it reaches the maximum number of criterion evaluations. Of course, you could increase that number even further, but you can do better! Also: One million evaluations would not even be enough!"
   ]
  },
  {
   "cell_type": "code",
   "execution_count": null,
   "id": "84600131",
   "metadata": {},
   "outputs": [],
   "source": []
  }
 ],
 "metadata": {
  "kernelspec": {
   "display_name": "Python 3 (ipykernel)",
   "language": "python",
   "name": "python3"
  },
  "language_info": {
   "codemirror_mode": {
    "name": "ipython",
    "version": 3
   },
   "file_extension": ".py",
   "mimetype": "text/x-python",
   "name": "python",
   "nbconvert_exporter": "python",
   "pygments_lexer": "ipython3",
   "version": "3.9.0"
  }
 },
 "nbformat": 4,
 "nbformat_minor": 5
}
