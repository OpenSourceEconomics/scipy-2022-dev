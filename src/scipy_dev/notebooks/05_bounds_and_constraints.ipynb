{
 "cells": [
  {
   "cell_type": "markdown",
   "id": "634e78d2",
   "metadata": {},
   "source": [
    "## Bounds and constraints\n",
    "\n",
    "In this exercise you learn how to use bounds and simple constraints. \n",
    "\n",
    "Note that we will just scratch the surface of the topic. Look at the resources for more information. \n",
    "\n",
    "## Resources\n",
    "\n",
    "- [How to specify bounds](https://estimagic.readthedocs.io/en/stable/how_to_guides/optimization/how_to_specify_bounds.html)\n",
    "- [How to use constraints](https://estimagic.readthedocs.io/en/stable/how_to_guides/optimization/how_to_specify_constraints.html)\n",
    "- [Background: How constraints are implemented](https://estimagic.readthedocs.io/en/stable/explanations/optimization/implementation_of_constraints.html)\n",
    "\n",
    "## Example\n",
    "\n",
    "We reproduce the example from previous exercises for convenience"
   ]
  },
  {
   "cell_type": "code",
   "execution_count": 1,
   "id": "d312ee51",
   "metadata": {},
   "outputs": [],
   "source": [
    "import estimagic as em \n",
    "import numpy as np\n",
    "\n",
    "def criterion(x):\n",
    "    first = (x[\"a\"] - np.pi) ** 2\n",
    "    second =  np.sum((x[\"b\"] - np.arange(3)) ** 2)\n",
    "    third = np.sum((x[\"c\"] - np.eye(2)) ** 2)\n",
    "    return first + second + third\n",
    "    \n",
    "    \n",
    "start_params = {\n",
    "    \"a\": 1,\n",
    "    \"b\": np.ones(3),\n",
    "    \"c\": np.ones((2, 2))\n",
    "}"
   ]
  },
  {
   "cell_type": "code",
   "execution_count": 2,
   "id": "c3462ee1",
   "metadata": {},
   "outputs": [
    {
     "data": {
      "text/plain": [
       "{'a': 3.141592653589793,\n",
       " 'b': array([1.55630437e-16, 1.00000000e+00, 2.00000000e+00]),\n",
       " 'c': array([[ 1.00000000e+00, -4.50891722e-18],\n",
       "        [-4.51479888e-18,  1.00000000e+00]])}"
      ]
     },
     "execution_count": 2,
     "metadata": {},
     "output_type": "execute_result"
    }
   ],
   "source": [
    "res = em.minimize(\n",
    "    criterion=criterion,\n",
    "    params=start_params,\n",
    "    algorithm=\"nlopt_bobyqa\",\n",
    ")\n",
    "\n",
    "res.params"
   ]
  },
  {
   "cell_type": "markdown",
   "id": "eb87df22",
   "metadata": {},
   "source": [
    "## Task 1: Bounds\n",
    "\n",
    "Repeat the optimization with an upper bounds of 2.0 on `a` and a lower bound of 0.5 for all entries in `b`."
   ]
  },
  {
   "cell_type": "code",
   "execution_count": null,
   "id": "d7d30d6d",
   "metadata": {},
   "outputs": [],
   "source": []
  },
  {
   "cell_type": "markdown",
   "id": "f9c2124d",
   "metadata": {},
   "source": [
    "## Task 2: Fixing parameters\n",
    "\n",
    "Remove the bounds but now fix the parameter `a` as well as the top right entry in `c` (i.e. `x[\"c\"][0, 1]`) at their start value."
   ]
  },
  {
   "cell_type": "code",
   "execution_count": null,
   "id": "f59b5c6a",
   "metadata": {},
   "outputs": [],
   "source": []
  },
  {
   "cell_type": "markdown",
   "id": "80ac3084",
   "metadata": {},
   "source": [
    "## Optional: Play around with more constraints\n",
    "\n",
    "Look at the [documentation](https://estimagic.readthedocs.io/en/stable/how_to_guides/optimization/how_to_specify_constraints.html) and impose the constraint that the parameters in `\"c\"` sum to 1. "
   ]
  },
  {
   "cell_type": "code",
   "execution_count": null,
   "id": "efcc13ab",
   "metadata": {},
   "outputs": [],
   "source": []
  }
 ],
 "metadata": {
  "kernelspec": {
   "display_name": "Python 3 (ipykernel)",
   "language": "python",
   "name": "python3"
  },
  "language_info": {
   "codemirror_mode": {
    "name": "ipython",
    "version": 3
   },
   "file_extension": ".py",
   "mimetype": "text/x-python",
   "name": "python",
   "nbconvert_exporter": "python",
   "pygments_lexer": "ipython3",
   "version": "3.9.0"
  }
 },
 "nbformat": 4,
 "nbformat_minor": 5
}
