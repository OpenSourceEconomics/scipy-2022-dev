{
 "cells": [
  {
   "cell_type": "code",
   "execution_count": 1,
   "id": "447093c1",
   "metadata": {},
   "outputs": [],
   "source": [
    "import estimagic as em\n",
    "import warnings\n",
    "warnings.simplefilter(\"ignore\")"
   ]
  },
  {
   "cell_type": "code",
   "execution_count": 2,
   "id": "e41fa198",
   "metadata": {},
   "outputs": [
    {
     "name": "stderr",
     "output_type": "stream",
     "text": [
      "/home/janos/Dropbox/Projects/estimagic/src/estimagic/benchmarking/more_wild.py:198: RuntimeWarning: overflow encountered in exp\n",
      "  temp_array[2] = np.exp(-x[6] * (temp - x[9]) ** 2)\n",
      "/home/janos/Dropbox/Projects/estimagic/src/estimagic/benchmarking/more_wild.py:200: RuntimeWarning: overflow encountered in multiply\n",
      "  fvec = y - (temp_array.T * x[:4]).T.sum(axis=0)\n",
      "/home/janos/Dropbox/Projects/estimagic/src/estimagic/benchmarking/get_benchmark_problems.py:258: RuntimeWarning: overflow encountered in matmul\n",
      "  \"value\": noisy_critval @ noisy_critval,\n",
      "/home/janos/Dropbox/Projects/estimagic/src/estimagic/benchmarking/cartis_roberts.py:182: RuntimeWarning: invalid value encountered in true_divide\n",
      "  fvec[i] = (-0.5 * constant * w * x[i] / (x[i] + x) * h[i] * h + h[i] - 1).sum()\n"
     ]
    }
   ],
   "source": [
    "problems = em.get_benchmark_problems(\"estimagic\")\n",
    "optimizers = [\n",
    "    \"scipy_lbfgsb\", \n",
    "    \"nag_dfols\", \n",
    "    \"nlopt_bobyqa\", \n",
    "    \"scipy_neldermead\",\n",
    "]\n",
    "results = em.run_benchmark(\n",
    "    problems=problems,\n",
    "    optimize_options=optimizers,\n",
    "    n_cores=4,\n",
    "    max_criterion_evaluations=1000,\n",
    ")"
   ]
  },
  {
   "cell_type": "code",
   "execution_count": 3,
   "id": "41d1553f",
   "metadata": {},
   "outputs": [],
   "source": [
    "# fig = em.profile_plot(problems, results)\n",
    "# fig.write_image(\"../graphs/benchmark.png\", scale=5)"
   ]
  },
  {
   "cell_type": "code",
   "execution_count": 4,
   "id": "ba3b1ac8",
   "metadata": {},
   "outputs": [],
   "source": [
    "fig = em.profile_plot(problems, results, normalize_runtime=True)"
   ]
  },
  {
   "cell_type": "code",
   "execution_count": 5,
   "id": "a8aaa6db",
   "metadata": {},
   "outputs": [],
   "source": [
    "subset = [\"chebyquad_10\", \"chnrsbne\", \"penalty_1\", \"bdqrtic_8\"]\n",
    "fig = em.convergence_plot(problems, results, problem_subset=subset)\n",
    "# fig.write_image(\"../graphs/convergence_plot.png\", scale=5)"
   ]
  },
  {
   "cell_type": "code",
   "execution_count": 6,
   "id": "f25211d3",
   "metadata": {},
   "outputs": [],
   "source": [
    "problems = em.get_benchmark_problems(\n",
    "    name=\"example\",\n",
    "    additive_noise=True,\n",
    "    additive_noise_options={\n",
    "        \"distribution\": \"normal\",\n",
    "        \"std\": 0.2,\n",
    "    },\n",
    "    scaling=True,\n",
    "    scaling_options={\n",
    "        \"min_scale\": 0.1, \n",
    "        \"max_scale\": 1000,\n",
    "    }\n",
    ")\n"
   ]
  },
  {
   "cell_type": "code",
   "execution_count": null,
   "id": "a4bc5fcd",
   "metadata": {},
   "outputs": [],
   "source": []
  }
 ],
 "metadata": {
  "kernelspec": {
   "display_name": "Python 3 (ipykernel)",
   "language": "python",
   "name": "python3"
  },
  "language_info": {
   "codemirror_mode": {
    "name": "ipython",
    "version": 3
   },
   "file_extension": ".py",
   "mimetype": "text/x-python",
   "name": "python",
   "nbconvert_exporter": "python",
   "pygments_lexer": "ipython3",
   "version": "3.9.0"
  }
 },
 "nbformat": 4,
 "nbformat_minor": 5
}
