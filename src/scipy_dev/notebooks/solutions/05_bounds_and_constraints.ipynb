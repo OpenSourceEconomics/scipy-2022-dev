{
 "cells": [
  {
   "cell_type": "markdown",
   "id": "f62c4ead",
   "metadata": {},
   "source": [
    "## Bounds and constraints\n",
    "\n",
    "In this exercise you learn how to use bounds and simple constraints. \n",
    "\n",
    "Note that we will just scratch the surface of the topic. Look at the resources for more information. \n",
    "\n",
    "## Resources\n",
    "\n",
    "- [How to specify bounds](https://estimagic.readthedocs.io/en/stable/how_to_guides/optimization/how_to_specify_bounds.html)\n",
    "- [How to use constraints](https://estimagic.readthedocs.io/en/stable/how_to_guides/optimization/how_to_specify_constraints.html)\n",
    "- [Background: How constraints are implemented](https://estimagic.readthedocs.io/en/stable/explanations/optimization/implementation_of_constraints.html)\n",
    "\n",
    "## Example\n",
    "\n",
    "We reproduce the example from previous exercises for convenience"
   ]
  },
  {
   "cell_type": "code",
   "execution_count": 1,
   "id": "5df557e9",
   "metadata": {},
   "outputs": [],
   "source": [
    "import estimagic as em \n",
    "import numpy as np\n",
    "\n",
    "def criterion(x):\n",
    "    first = (x[\"a\"] - np.pi) ** 4 \n",
    "    second =  np.linalg.norm(x[\"b\"] - np.arange(3))\n",
    "    third = np.linalg.norm(x[\"c\"] - np.eye(2))\n",
    "    return first + second + third\n",
    "    \n",
    "    \n",
    "start_params = {\n",
    "    \"a\": 1,\n",
    "    \"b\": np.ones(3),\n",
    "    \"c\": np.ones((2, 2))\n",
    "}"
   ]
  },
  {
   "cell_type": "code",
   "execution_count": 2,
   "id": "87752daa",
   "metadata": {},
   "outputs": [
    {
     "data": {
      "text/plain": [
       "{'a': 2.743115791004308,\n",
       " 'b': array([7.20526405e-06, 1.00000542e+00, 1.99999951e+00]),\n",
       " 'c': array([[ 1.00000752e+00, -1.83976834e-06],\n",
       "        [ 5.75654246e-06,  1.00000339e+00]])}"
      ]
     },
     "execution_count": 2,
     "metadata": {},
     "output_type": "execute_result"
    }
   ],
   "source": [
    "res = em.minimize(\n",
    "    criterion=criterion,\n",
    "    params=start_params,\n",
    "    algorithm=\"nlopt_bobyqa\",\n",
    ")\n",
    "\n",
    "res.params"
   ]
  },
  {
   "cell_type": "markdown",
   "id": "30795e3d",
   "metadata": {},
   "source": [
    "## Task 1: Bounds\n",
    "\n",
    "Repeat the optimization with an upper bounds of 2.0 on `a` and a lower bound of 0.5 for all entries in `b`\n",
    "\n",
    "## Solution 1:"
   ]
  },
  {
   "cell_type": "code",
   "execution_count": 3,
   "id": "765b90dc",
   "metadata": {},
   "outputs": [
    {
     "data": {
      "text/plain": [
       "{'a': 2.0,\n",
       " 'b': array([0.5       , 1.11950355, 1.82926046]),\n",
       " 'c': array([[1.00000104e+00, 1.57485251e-06],\n",
       "        [5.38584210e-06, 1.00000320e+00]])}"
      ]
     },
     "execution_count": 3,
     "metadata": {},
     "output_type": "execute_result"
    }
   ],
   "source": [
    "res = em.minimize(\n",
    "    criterion=criterion,\n",
    "    params=start_params,\n",
    "    algorithm=\"nlopt_bobyqa\",\n",
    "    lower_bounds={\"b\": 0.5 * np.ones_like(start_params[\"b\"])},\n",
    "    upper_bounds={\"a\": 2.0},\n",
    ")\n",
    "\n",
    "res.params"
   ]
  },
  {
   "cell_type": "markdown",
   "id": "3fd70406",
   "metadata": {},
   "source": [
    "## Task 2: Fixing parameters\n",
    "\n",
    "Remove the bounds but now fix the parameter `a` as well as the top right entry in `c` (i.e. `x[\"c\"][0, 1]`) at their start value\n",
    "\n",
    "## Solution 2:"
   ]
  },
  {
   "cell_type": "code",
   "execution_count": 4,
   "id": "5fc56ea0",
   "metadata": {},
   "outputs": [
    {
     "data": {
      "text/plain": [
       "{'a': 1.0,\n",
       " 'b': array([1.30231301e-06, 1.00000089e+00, 2.00000549e+00]),\n",
       " 'c': array([[1.02551721, 1.        ],\n",
       "        [0.05069564, 0.9944641 ]])}"
      ]
     },
     "execution_count": 4,
     "metadata": {},
     "output_type": "execute_result"
    }
   ],
   "source": [
    "res = em.minimize(\n",
    "    criterion=criterion,\n",
    "    params=start_params,\n",
    "    algorithm=\"nlopt_bobyqa\",\n",
    "    constraints=[\n",
    "        {\"type\": \"fixed\", \"selector\": lambda x: x[\"a\"]},\n",
    "        {\"type\": \"fixed\", \"selector\": lambda x: x[\"c\"][0, 1]},\n",
    "    ],\n",
    ")\n",
    "\n",
    "res.params"
   ]
  },
  {
   "cell_type": "markdown",
   "id": "5ed57659",
   "metadata": {},
   "source": [
    "## Optional: Play around with more constraints\n",
    "\n",
    "Look at the [documentation](https://estimagic.readthedocs.io/en/stable/how_to_guides/optimization/how_to_specify_constraints.html) and impose the constraint that the parameters in `\"c\"` sum to 1.\n",
    "\n",
    "## Solution:"
   ]
  },
  {
   "cell_type": "code",
   "execution_count": 5,
   "id": "65ad5886",
   "metadata": {},
   "outputs": [
    {
     "name": "stderr",
     "output_type": "stream",
     "text": [
      "/home/tim/miniconda3/envs/scipy_dev/lib/python3.9/site-packages/pandas/core/frame.py:6248: FutureWarning: In a future version, the Index constructor will not infer numeric dtypes when passed object-dtype sequences (matching Series behavior)\n",
      "  diff = Index(subset).difference(self.columns)\n"
     ]
    },
    {
     "data": {
      "text/plain": [
       "{'a': 2.855857369098579,\n",
       " 'b': array([-1.03938095e-06,  1.00000208e+00,  1.99999922e+00]),\n",
       " 'c': array([[ 0.32051835,  0.03349061],\n",
       "        [-0.00143225,  0.64742329]])}"
      ]
     },
     "execution_count": 5,
     "metadata": {},
     "output_type": "execute_result"
    }
   ],
   "source": [
    "# start params have to fulfill the constraint\n",
    "start_params[\"c\"] = np.tile(0.25, (2, 2))\n",
    "\n",
    "res = em.minimize(\n",
    "    criterion=criterion,\n",
    "    params=start_params,\n",
    "    algorithm=\"nlopt_bobyqa\",\n",
    "    constraints=[\n",
    "        {\"type\":  \"linear\", \"selector\": lambda x: x[\"c\"], \"value\": 1, \"weights\": 1.0}\n",
    "    ],\n",
    ")\n",
    "\n",
    "res.params"
   ]
  },
  {
   "cell_type": "code",
   "execution_count": 6,
   "id": "6a7648bb",
   "metadata": {},
   "outputs": [
    {
     "data": {
      "text/plain": [
       "1.0"
      ]
     },
     "execution_count": 6,
     "metadata": {},
     "output_type": "execute_result"
    }
   ],
   "source": [
    "res.params[\"c\"].sum()"
   ]
  }
 ],
 "metadata": {
  "kernelspec": {
   "display_name": "Python 3 (ipykernel)",
   "language": "python",
   "name": "python3"
  },
  "language_info": {
   "codemirror_mode": {
    "name": "ipython",
    "version": 3
   },
   "file_extension": ".py",
   "mimetype": "text/x-python",
   "name": "python",
   "nbconvert_exporter": "python",
   "pygments_lexer": "ipython3",
   "version": "3.9.0"
  }
 },
 "nbformat": 4,
 "nbformat_minor": 5
}
