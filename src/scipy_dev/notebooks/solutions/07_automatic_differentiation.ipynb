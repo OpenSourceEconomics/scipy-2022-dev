{
 "cells": [
  {
   "cell_type": "markdown",
   "metadata": {},
   "source": [
    "# Automatic differentiation\n",
    "\n",
    "In this exercise you will use automatic differentiation in JAX and estimagic to solve the previous problem.\n",
    "\n",
    "## Resources\n",
    "\n",
    "- https://jax.readthedocs.io/en/latest/jax.numpy.html\n",
    "- https://jax.readthedocs.io/en/latest/notebooks/autodiff_cookbook.html"
   ]
  },
  {
   "cell_type": "code",
   "execution_count": 1,
   "metadata": {},
   "outputs": [],
   "source": [
    "import jax \n",
    "import jax.numpy as jnp\n",
    "import estimagic as em\n",
    "\n",
    "jax.config.update(\"jax_enable_x64\", True)"
   ]
  },
  {
   "cell_type": "markdown",
   "metadata": {},
   "source": [
    "## Task 1:  Switch to JAX\n",
    "\n",
    "- Use the code from exercise 2, task 2, and convert the criterion function and the parameters to JAX. Hint: look at the `jax.numpy` documentation."
   ]
  },
  {
   "cell_type": "code",
   "execution_count": 2,
   "metadata": {},
   "outputs": [
    {
     "name": "stderr",
     "output_type": "stream",
     "text": [
      "WARNING:absl:No GPU/TPU found, falling back to CPU. (Set TF_CPP_MIN_LOG_LEVEL=0 and rerun for more info.)\n"
     ]
    }
   ],
   "source": [
    "def criterion(x):\n",
    "    first = (x[\"a\"] - jnp.pi) ** 4 \n",
    "    second =  jnp.sum((x[\"b\"] - jnp.arange(3)) ** 2)\n",
    "    third = jnp.sum((x[\"c\"] - jnp.eye(2)) ** 2)\n",
    "    return first + second + third\n",
    "    \n",
    "    \n",
    "start_params = {\n",
    "    \"a\": 1.,\n",
    "    \"b\": jnp.ones(3).astype(float),\n",
    "    \"c\": jnp.ones((2, 2)).astype(float)\n",
    "}"
   ]
  },
  {
   "cell_type": "code",
   "execution_count": 3,
   "metadata": {},
   "outputs": [
    {
     "data": {
      "text/plain": [
       "DeviceArray(25.0352401, dtype=float64)"
      ]
     },
     "execution_count": 3,
     "metadata": {},
     "output_type": "execute_result"
    }
   ],
   "source": [
    "criterion(start_params)"
   ]
  },
  {
   "cell_type": "markdown",
   "metadata": {},
   "source": [
    "## Task 2: Gradient\n",
    "\n",
    "- Compute the gradient of the criterion (the whole function). Hint: look at the `autodiff_cookbook` documentation. "
   ]
  },
  {
   "cell_type": "code",
   "execution_count": 4,
   "metadata": {},
   "outputs": [
    {
     "data": {
      "text/plain": [
       "{'a': DeviceArray(-39.28896575, dtype=float64, weak_type=True),\n",
       " 'b': DeviceArray([ 2.,  0., -2.], dtype=float64),\n",
       " 'c': DeviceArray([[0., 2.],\n",
       "              [2., 0.]], dtype=float64)}"
      ]
     },
     "execution_count": 4,
     "metadata": {},
     "output_type": "execute_result"
    }
   ],
   "source": [
    "gradient = jax.grad(criterion)\n",
    "gradient(start_params)"
   ]
  },
  {
   "cell_type": "code",
   "execution_count": 5,
   "metadata": {},
   "outputs": [
    {
     "name": "stdout",
     "output_type": "stream",
     "text": [
      "7.01 ms ± 326 µs per loop (mean ± std. dev. of 7 runs, 100 loops each)\n"
     ]
    }
   ],
   "source": [
    "%timeit gradient(start_params)"
   ]
  },
  {
   "cell_type": "code",
   "execution_count": 6,
   "metadata": {},
   "outputs": [
    {
     "name": "stdout",
     "output_type": "stream",
     "text": [
      "9.16 µs ± 1.28 µs per loop (mean ± std. dev. of 7 runs, 100,000 loops each)\n"
     ]
    }
   ],
   "source": [
    "jitted_gradient = jax.jit(gradient)\n",
    "%timeit jitted_gradient(start_params)"
   ]
  },
  {
   "cell_type": "markdown",
   "metadata": {},
   "source": [
    "## Task 3: Minimize\n",
    "\n",
    "- Use estimagic to minimize the criterion\n",
    "    - pass the gradient function you computed above to the minimize call.\n",
    "    - use the `\"scipy_lbfgsb\"` algorithm."
   ]
  },
  {
   "cell_type": "code",
   "execution_count": 7,
   "metadata": {},
   "outputs": [
    {
     "data": {
      "text/plain": [
       "{'a': 3.129254919708684,\n",
       " 'b': DeviceArray([-4.65690423e-06,  1.00000000e+00,  1.99999844e+00], dtype=float64),\n",
       " 'c': DeviceArray([[ 1.00000000e+00, -4.65690423e-06],\n",
       "              [-4.65690423e-06,  1.00000000e+00]], dtype=float64)}"
      ]
     },
     "execution_count": 7,
     "metadata": {},
     "output_type": "execute_result"
    }
   ],
   "source": [
    "res = em.minimize(\n",
    "    criterion=criterion,\n",
    "    derivative=jitted_gradient,\n",
    "    params=start_params,\n",
    "    algorithm=\"scipy_lbfgsb\",\n",
    ")\n",
    "\n",
    "res.params"
   ]
  },
  {
   "cell_type": "code",
   "execution_count": null,
   "metadata": {},
   "outputs": [],
   "source": []
  }
 ],
 "metadata": {
  "kernelspec": {
   "display_name": "Python 3",
   "language": "python",
   "name": "python3"
  },
  "language_info": {
   "codemirror_mode": {
    "name": "ipython",
    "version": 3
   },
   "file_extension": ".py",
   "mimetype": "text/x-python",
   "name": "python",
   "nbconvert_exporter": "python",
   "pygments_lexer": "ipython3",
   "version": "3.8.5"
  }
 },
 "nbformat": 4,
 "nbformat_minor": 5
}
