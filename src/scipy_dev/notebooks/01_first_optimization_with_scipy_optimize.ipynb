{
 "cells": [
  {
   "cell_type": "markdown",
   "id": "a1a5cb62",
   "metadata": {},
   "source": [
    "# First Optimization\n",
    "\n",
    "In this exercise you will code a criterion function for a numerical optimization from scratch and optimize it with `scipy.optimize`.\n",
    "\n",
    "## Resources\n",
    "\n",
    "- [scipy Documentation](https://docs.scipy.org/doc/scipy/reference/generated/scipy.optimize.minimize.html)\n",
    "\n",
    "\n",
    "## The criterion function\n",
    "\n",
    "**Notation**:\n",
    "\n",
    "- $a$: A scalar floating point number\n",
    "- $b$: A vector of length 3\n",
    "- $C$: A 2 by 2 matrix\n",
    "- $I_n$: Is a n-dimesional identity matrix (Use `np.eye`)\n",
    "- $|| . ||$ is a vector or matrix norm. (Use `np.linalg.norm(.)`, see below for more information)\n",
    "\n",
    "**Criterion Function**:\n",
    "\n",
    "$f(a, b, C) = (a - \\pi)^2 + ||b - \\begin{pmatrix}0,1,2\\end{pmatrix}^\\top|| + ||C - I_2||$\n",
    "\n",
    "**Optimization problem**:\n",
    "\n",
    "$\\min_{a, b, C} f(a, b, C)$\n",
    "\n",
    "**Solution**:\n",
    "\n",
    "$\n",
    "a = \\pi \\\\\n",
    "b = \\begin{pmatrix}0,1,2\\end{pmatrix}^\\top \\\\\n",
    "C = I_2\n",
    "$\n",
    "\n",
    "\n",
    "*Information on norm*:\n",
    "The vector norm is the euclidean norm, the matrix norm is the Frobenius norm."
   ]
  },
  {
   "cell_type": "code",
   "execution_count": 1,
   "id": "15c2b05b",
   "metadata": {},
   "outputs": [],
   "source": [
    "import numpy as np\n",
    "from scipy.optimize import minimize"
   ]
  },
  {
   "cell_type": "markdown",
   "id": "d08582f1",
   "metadata": {},
   "source": [
    "## Task 1: Define the criterion function\n",
    "\n",
    "Note that for scipy.optimize, x has to be a 1-dimensional numpy array. Thus the first step in your criterion function is to parse the vector `x` into `alpha`, `beta` and `gamma`."
   ]
  },
  {
   "cell_type": "code",
   "execution_count": 2,
   "id": "e92a0585",
   "metadata": {},
   "outputs": [],
   "source": [
    "def f(x):\n",
    "    pass\n"
   ]
  },
  {
   "cell_type": "markdown",
   "id": "a56a48f8",
   "metadata": {},
   "source": [
    "## Task 2: Set up start parameters\n",
    "\n",
    "For simplicity, set all start parameters to 0. "
   ]
  },
  {
   "cell_type": "markdown",
   "id": "cc0f1975",
   "metadata": {},
   "source": [
    "## Task 3: Minimize the criterion function with scipy"
   ]
  },
  {
   "cell_type": "code",
   "execution_count": null,
   "id": "8dfdca58",
   "metadata": {},
   "outputs": [],
   "source": []
  }
 ],
 "metadata": {
  "kernelspec": {
   "display_name": "Python 3 (ipykernel)",
   "language": "python",
   "name": "python3"
  },
  "language_info": {
   "codemirror_mode": {
    "name": "ipython",
    "version": 3
   },
   "file_extension": ".py",
   "mimetype": "text/x-python",
   "name": "python",
   "nbconvert_exporter": "python",
   "pygments_lexer": "ipython3",
   "version": "3.9.0"
  }
 },
 "nbformat": 4,
 "nbformat_minor": 5
}
