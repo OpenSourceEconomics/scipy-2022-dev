{
 "cells": [
  {
   "cell_type": "markdown",
   "id": "2415cd79",
   "metadata": {},
   "source": [
    "# Benchmarking\n",
    "\n",
    "In this exercise you will compare a few optimizers on estimagic's built-in benchmark suites. \n",
    "\n",
    "## Resources\n",
    "\n",
    "- [Benchmarking tutorial](https://estimagic.readthedocs.io/en/stable/how_to_guides/optimization/how_to_benchmark_optimization_algorithms.html)\n",
    "- [API reference](https://estimagic.readthedocs.io/en/stable/reference_guides/index.html#benchmarks)"
   ]
  },
  {
   "cell_type": "code",
   "execution_count": 1,
   "id": "36c0ae43",
   "metadata": {},
   "outputs": [],
   "source": [
    "import estimagic as em"
   ]
  },
  {
   "cell_type": "code",
   "execution_count": 2,
   "id": "8352040f",
   "metadata": {},
   "outputs": [],
   "source": [
    "problems = em.get_benchmark_problems(name=\"example\")"
   ]
  },
  {
   "cell_type": "code",
   "execution_count": 3,
   "id": "833d1ab8",
   "metadata": {},
   "outputs": [],
   "source": [
    "optimizers = [\n",
    "    \"scipy_neldermead\",\n",
    "    \"nlopt_lbfgsb\",\n",
    "    \"fides\",\n",
    "    \"nag_dfols\",\n",
    "]"
   ]
  },
  {
   "cell_type": "markdown",
   "id": "fad97ed1",
   "metadata": {},
   "source": [
    "## Task 1:\n",
    "\n",
    "- Use `em.run_benchmark` to run the benchmark.\n",
    "- Use `em.profile_plot` to visualize the results."
   ]
  },
  {
   "cell_type": "code",
   "execution_count": null,
   "id": "d343639f",
   "metadata": {},
   "outputs": [],
   "source": []
  },
  {
   "cell_type": "markdown",
   "id": "3c628e12",
   "metadata": {},
   "source": [
    "## Task 2: \n",
    "\n",
    "- Switch to the `estimagic` problem set instead of the `example` problem set. Choose a suitable value for `n_cores` to parallelize on your laptop. Most laptops have at least 2 cores. You won't get any benefit from choosing more cores than you have. \n",
    "- Compare `scipy_neldermead` against `nlopt_neldermead`. Spoiler: They are very different!\n",
    "- Use `em.convergence_plot` to look at individual problems."
   ]
  },
  {
   "cell_type": "code",
   "execution_count": null,
   "id": "313d82a4",
   "metadata": {},
   "outputs": [],
   "source": []
  }
 ],
 "metadata": {
  "kernelspec": {
   "display_name": "Python 3 (ipykernel)",
   "language": "python",
   "name": "python3"
  },
  "language_info": {
   "codemirror_mode": {
    "name": "ipython",
    "version": 3
   },
   "file_extension": ".py",
   "mimetype": "text/x-python",
   "name": "python",
   "nbconvert_exporter": "python",
   "pygments_lexer": "ipython3",
   "version": "3.9.0"
  }
 },
 "nbformat": 4,
 "nbformat_minor": 5
}
