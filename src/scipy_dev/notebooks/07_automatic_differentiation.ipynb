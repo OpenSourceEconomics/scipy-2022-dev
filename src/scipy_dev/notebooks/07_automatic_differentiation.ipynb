{
 "cells": [
  {
   "cell_type": "markdown",
   "id": "483a1998",
   "metadata": {},
   "source": [
    "# Automatic differentiation\n",
    "\n",
    "In this exercise you will use automatic differentiation in JAX and estimagic to solve the previous problem.\n",
    "\n",
    "## Resources\n",
    "\n",
    "- https://jax.readthedocs.io/en/latest/jax.numpy.html\n",
    "- https://jax.readthedocs.io/en/latest/notebooks/autodiff_cookbook.html"
   ]
  },
  {
   "cell_type": "code",
   "execution_count": 1,
   "id": "62dc1afa",
   "metadata": {},
   "outputs": [],
   "source": [
    "import jax \n",
    "import jax.numpy as jnp\n",
    "import estimagic as em\n",
    "\n",
    "jax.config.update(\"jax_enable_x64\", True)"
   ]
  },
  {
   "cell_type": "markdown",
   "id": "3395cd5c",
   "metadata": {},
   "source": [
    "## Task 1:  Switch to JAX\n",
    "\n",
    "- Use the code from exercise 2, task 2, and convert the criterion function and the start parameters to JAX. Look at the [`jax.numpy` documentation](https://jax.readthedocs.io/en/latest/jax.numpy.html) and slides if you have any questions."
   ]
  },
  {
   "cell_type": "code",
   "execution_count": null,
   "id": "bde7053b",
   "metadata": {},
   "outputs": [],
   "source": []
  },
  {
   "cell_type": "markdown",
   "id": "bdd454fa",
   "metadata": {},
   "source": [
    "## Task 2: Gradient\n",
    "\n",
    "- Compute the gradient of the criterion (the whole function). Look at the [`autodiff_cookbook` documentation](https://jax.readthedocs.io/en/latest/notebooks/autodiff_cookbook.html) and slides if you have any questions.\n",
    "- Measure the runtime of a jitted and unjitted version of the gradient (using `%timeit`.)"
   ]
  },
  {
   "cell_type": "code",
   "execution_count": null,
   "id": "f29aa744",
   "metadata": {},
   "outputs": [],
   "source": []
  },
  {
   "cell_type": "markdown",
   "id": "85959d9b",
   "metadata": {},
   "source": [
    "## Task 3: Minimize\n",
    "\n",
    "- Use estimagic to minimize the criterion\n",
    "    - pass the gradient function you computed above to the minimize call.\n",
    "    - use the `\"scipy_lbfgsb\"` algorithm or other gradient based optimizers."
   ]
  },
  {
   "cell_type": "code",
   "execution_count": null,
   "id": "e37e2dc2",
   "metadata": {},
   "outputs": [],
   "source": []
  }
 ],
 "metadata": {
  "kernelspec": {
   "display_name": "Python 3 (ipykernel)",
   "language": "python",
   "name": "python3"
  },
  "language_info": {
   "codemirror_mode": {
    "name": "ipython",
    "version": 3
   },
   "file_extension": ".py",
   "mimetype": "text/x-python",
   "name": "python",
   "nbconvert_exporter": "python",
   "pygments_lexer": "ipython3",
   "version": "3.9.0"
  }
 },
 "nbformat": 4,
 "nbformat_minor": 5
}
