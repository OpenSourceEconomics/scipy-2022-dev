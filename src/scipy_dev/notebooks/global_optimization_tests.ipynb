{
 "cells": [
  {
   "cell_type": "markdown",
   "id": "fcdb617e",
   "metadata": {},
   "source": [
    "# Global optimization\n"
   ]
  },
  {
   "cell_type": "code",
   "execution_count": 1,
   "id": "8c7d32a5",
   "metadata": {},
   "outputs": [],
   "source": [
    "import numpy as np\n",
    "import estimagic as em"
   ]
  },
  {
   "cell_type": "code",
   "execution_count": 2,
   "id": "3a915d95",
   "metadata": {},
   "outputs": [],
   "source": [
    "def alpine(x):\n",
    "    return -np.prod(np.sqrt(x) * np.sin(x))\n",
    "\n",
    "\n",
    "def ackley(x):\n",
    "    out = (\n",
    "        -20 * np.exp(-0.2 * np.sqrt(np.mean(x**2)))\n",
    "        - np.exp(np.mean(np.cos(2 * np.pi * x)))\n",
    "        + 20\n",
    "        + np.exp(1)\n",
    "    )\n",
    "    return out\n",
    "\n",
    "dim = 15\n",
    "\n",
    "\n",
    "alpine_kwargs = {\n",
    "    \"criterion\": alpine,\n",
    "    \"params\": np.ones(dim),\n",
    "    \"lower_bounds\": np.zeros(dim),\n",
    "    \"upper_bounds\": np.full(dim, 10),\n",
    "    \"algo_options\": {\"stopping.max_criterion_evaluations\": 1000},\n",
    "    \n",
    "}\n",
    "\n",
    "ackley_kwargs = {\n",
    "        \"criterion\": ackley,\n",
    "        \"params\": np.full(dim, -10),\n",
    "        \"lower_bounds\": np.full(dim, -32),\n",
    "        \"upper_bounds\": np.full(dim, 32),\n",
    "        \"algo_options\": {\"stopping.max_criterion_evaluations\": 1000},\n",
    "    }\n",
    "\n",
    "\n",
    "\n",
    "\n",
    "fixed_kwargs = alpine_kwargs"
   ]
  },
  {
   "cell_type": "code",
   "execution_count": 3,
   "id": "5e607106",
   "metadata": {},
   "outputs": [
    {
     "data": {
      "text/plain": [
       "Minimize with 15 free parameters terminated successfully after 40160 criterion evaluations and 0 derivative evaluations.\n",
       "\n",
       "The value of criterion improved from -0.07509087786985427 to -1154486.3670715701.\n",
       "\n",
       "Independent of the convergence criteria used by pygmo_gaco, the strength of convergence can be assessed by the following criteria:\n",
       "\n",
       "                             one_step     five_steps \n",
       "relative_criterion_change  3.414e-11***  5.881e-09** \n",
       "relative_params_change     2.562e-05     3.829e-05   \n",
       "absolute_criterion_change  3.941e-05      0.006789   \n",
       "absolute_params_change     0.0001286     0.0001868   \n",
       "\n",
       "(***: change <= 1e-10, **: change <= 1e-8, *: change <= 1e-5. Change refers to a change between accepted steps. The first column only considers the last step. The second column considers the last five steps.)"
      ]
     },
     "execution_count": 3,
     "metadata": {},
     "output_type": "execute_result"
    }
   ],
   "source": [
    "res_genetic = em.minimize(\n",
    "    **fixed_kwargs,\n",
    "    algorithm=\"pygmo_gaco\",\n",
    ")\n",
    "res_genetic"
   ]
  },
  {
   "cell_type": "code",
   "execution_count": 4,
   "id": "fa548ea9",
   "metadata": {
    "scrolled": false
   },
   "outputs": [
    {
     "data": {
      "text/plain": [
       "Minimize with 15 free parameters terminated successfully after 301 criterion evaluations, 301 derivative evaluations and 151 iterations.\n",
       "\n",
       "The value of criterion improved from -0.07509087786985427 to -421454.7742676479.\n",
       "\n",
       "The multistart_scipy_lbfgsb algorithm reported: CONVERGENCE: REL_REDUCTION_OF_F_<=_FACTR*EPSMCH\n",
       "\n",
       "Independent of the convergence criteria used by multistart_scipy_lbfgsb, the strength of convergence can be assessed by the following criteria:\n",
       "\n",
       "                             one_step     five_steps \n",
       "relative_criterion_change  7.596e-14***     0.8712   \n",
       "relative_params_change     1.623e-07*        3.785   \n",
       "absolute_criterion_change  3.201e-08*    3.672e+05   \n",
       "absolute_params_change     4.105e-07*         13.6   \n",
       "\n",
       "(***: change <= 1e-10, **: change <= 1e-8, *: change <= 1e-5. Change refers to a change between accepted steps. The first column only considers the last step. The second column considers the last five steps.)"
      ]
     },
     "execution_count": 4,
     "metadata": {},
     "output_type": "execute_result"
    }
   ],
   "source": [
    "res_multistart = em.minimize(\n",
    "    **fixed_kwargs,\n",
    "    algorithm=\"scipy_lbfgsb\",\n",
    "    multistart=True, \n",
    "    multistart_options = {\n",
    "        \"n_samples\": 200,\n",
    "        \"share_optimizations\": 0.1,\n",
    "        \"convergence_max_discoveries\": 10,\n",
    "    },\n",
    ")\n",
    "res_multistart"
   ]
  },
  {
   "cell_type": "code",
   "execution_count": 5,
   "id": "6b970b96",
   "metadata": {},
   "outputs": [],
   "source": [
    "results = {\"genetic\": res_genetic, \"multistart\": res_multistart}\n",
    "\n",
    "fig = em.criterion_plot(results, stack_multistart=True, monotone=True, max_evaluations=10_000)\n"
   ]
  },
  {
   "cell_type": "code",
   "execution_count": 6,
   "id": "58b0036b",
   "metadata": {},
   "outputs": [
    {
     "data": {
      "text/plain": [
       "array([7.91705262, 4.81584229, 1.8365972 , 7.91705269, 7.91705264,\n",
       "       4.81584233, 7.91705263, 1.83659722, 7.91705269, 7.91705263,\n",
       "       7.91705262, 7.91705262, 4.81584236, 7.91705264, 4.81584229])"
      ]
     },
     "execution_count": 6,
     "metadata": {},
     "output_type": "execute_result"
    }
   ],
   "source": [
    "res_multistart.params"
   ]
  },
  {
   "cell_type": "code",
   "execution_count": null,
   "id": "5f920dad",
   "metadata": {},
   "outputs": [],
   "source": []
  },
  {
   "cell_type": "code",
   "execution_count": null,
   "id": "1a2c1788",
   "metadata": {},
   "outputs": [],
   "source": []
  },
  {
   "cell_type": "code",
   "execution_count": null,
   "id": "ba8be083",
   "metadata": {},
   "outputs": [],
   "source": []
  }
 ],
 "metadata": {
  "kernelspec": {
   "display_name": "Python 3 (ipykernel)",
   "language": "python",
   "name": "python3"
  },
  "language_info": {
   "codemirror_mode": {
    "name": "ipython",
    "version": 3
   },
   "file_extension": ".py",
   "mimetype": "text/x-python",
   "name": "python",
   "nbconvert_exporter": "python",
   "pygments_lexer": "ipython3",
   "version": "3.9.0"
  }
 },
 "nbformat": 4,
 "nbformat_minor": 5
}
