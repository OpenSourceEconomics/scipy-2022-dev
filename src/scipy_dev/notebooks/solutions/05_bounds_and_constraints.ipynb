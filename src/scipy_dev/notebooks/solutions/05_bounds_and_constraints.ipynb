{
 "cells": [
  {
   "cell_type": "markdown",
   "id": "f62c4ead",
   "metadata": {},
   "source": [
    "## Bounds and constraints\n",
    "\n",
    "In this exercise you learn how to use bounds and simple constraints. \n",
    "\n",
    "Note that we will just scratch the surface of the topic. Look at the resources for more information. \n",
    "\n",
    "## Resources\n",
    "\n",
    "- [How to specify bounds](https://estimagic.readthedocs.io/en/stable/how_to_guides/optimization/how_to_specify_bounds.html)\n",
    "- [How to use constraints](https://estimagic.readthedocs.io/en/stable/how_to_guides/optimization/how_to_specify_constraints.html)\n",
    "- [Background: How constraints are implemented](https://estimagic.readthedocs.io/en/stable/explanations/optimization/implementation_of_constraints.html)\n",
    "\n",
    "## Example\n",
    "\n",
    "We reproduce the example from previous exercises for convenience"
   ]
  },
  {
   "cell_type": "code",
   "execution_count": 1,
   "id": "5df557e9",
   "metadata": {},
   "outputs": [],
   "source": [
    "import estimagic as em \n",
    "import numpy as np\n",
    "\n",
    "def criterion(x):\n",
    "    first = (x[\"a\"] - np.pi) ** 4 \n",
    "    second =  np.linalg.norm(x[\"b\"] - np.arange(3))\n",
    "    third = np.linalg.norm(x[\"c\"] - np.eye(2))\n",
    "    return first + second + third\n",
    "    \n",
    "    \n",
    "start_params = {\n",
    "    \"a\": 1,\n",
    "    \"b\": np.ones(3),\n",
    "    \"c\": np.ones((2, 2))\n",
    "}"
   ]
  },
  {
   "cell_type": "code",
   "execution_count": 2,
   "id": "87752daa",
   "metadata": {},
   "outputs": [
    {
     "data": {
      "text/plain": [
       "{'a': 2.743115791004308,\n",
       " 'b': array([7.20526405e-06, 1.00000542e+00, 1.99999951e+00]),\n",
       " 'c': array([[ 1.00000752e+00, -1.83976834e-06],\n",
       "        [ 5.75654246e-06,  1.00000339e+00]])}"
      ]
     },
     "execution_count": 2,
     "metadata": {},
     "output_type": "execute_result"
    }
   ],
   "source": [
    "res = em.minimize(\n",
    "    criterion=criterion,\n",
    "    params=start_params,\n",
    "    algorithm=\"nlopt_bobyqa\",\n",
    ")\n",
    "\n",
    "res.params"
   ]
  },
  {
   "cell_type": "markdown",
   "id": "30795e3d",
   "metadata": {},
   "source": [
    "## Task 1: Bounds\n",
    "\n",
    "Repeat the optimization with an upper bounds of 2.0 on `a` and a lower bound of 0.5 for all entries in `b`\n",
    "\n",
    "## Solution 1:"
   ]
  },
  {
   "cell_type": "code",
   "execution_count": 3,
   "id": "765b90dc",
   "metadata": {},
   "outputs": [
    {
     "data": {
      "text/plain": [
       "{'a': 2.0,\n",
       " 'b': array([0.5       , 1.11950355, 1.82926046]),\n",
       " 'c': array([[1.00000104e+00, 1.57485251e-06],\n",
       "        [5.38584210e-06, 1.00000320e+00]])}"
      ]
     },
     "execution_count": 3,
     "metadata": {},
     "output_type": "execute_result"
    }
   ],
   "source": [
    "res = em.minimize(\n",
    "    criterion=criterion,\n",
    "    params=start_params,\n",
    "    algorithm=\"nlopt_bobyqa\",\n",
    "    lower_bounds={\"b\": 0.5 * np.ones_like(start_params[\"b\"])},\n",
    "    upper_bounds={\"a\": 2.0},\n",
    ")\n",
    "\n",
    "res.params"
   ]
  },
  {
   "cell_type": "markdown",
   "id": "3fd70406",
   "metadata": {},
   "source": [
    "## Task 2: Fixing parameters\n",
    "\n",
    "Remove the bounds but now fix the parameter `a` as well as the top right entry in `c` (i.e. `x[\"c\"][0, 1]`) at their start value\n",
    "\n",
    "## Solution 2:"
   ]
  },
  {
   "cell_type": "code",
   "execution_count": 4,
   "id": "5fc56ea0",
   "metadata": {},
   "outputs": [
    {
     "data": {
      "text/plain": [
       "{'a': 1.0,\n",
       " 'b': array([1.30231301e-06, 1.00000089e+00, 2.00000549e+00]),\n",
       " 'c': array([[1.02551721, 1.        ],\n",
       "        [0.05069564, 0.9944641 ]])}"
      ]
     },
     "execution_count": 4,
     "metadata": {},
     "output_type": "execute_result"
    }
   ],
   "source": [
    "res = em.minimize(\n",
    "    criterion=criterion,\n",
    "    params=start_params,\n",
    "    algorithm=\"nlopt_bobyqa\",\n",
    "    constraints=[\n",
    "        {\"type\": \"fixed\", \"selector\": lambda x: x[\"a\"]},\n",
    "        {\"type\": \"fixed\", \"selector\": lambda x: x[\"c\"][0, 1]},\n",
    "    ],\n",
    ")\n",
    "\n",
    "res.params"
   ]
  },
  {
   "cell_type": "markdown",
   "id": "5ed57659",
   "metadata": {},
   "source": [
    "## Optional: Play around with more constraints\n",
    "\n",
    "Look at the [documentation](https://estimagic.readthedocs.io/en/stable/how_to_guides/optimization/how_to_specify_constraints.html) and impose the constraint that the parameters in `\"c\"` sum to 1.\n",
    "\n",
    "## Solution:"
   ]
  },
  {
   "cell_type": "code",
   "execution_count": 5,
   "id": "65ad5886",
   "metadata": {},
   "outputs": [
    {
     "ename": "InvalidParamsError",
     "evalue": "A constraint of type 'linear' is not fulfilled in params. Equality condition of linear constraint violated. The names of the involved parameters are:\n['c_0_0', 'c_0_1', 'c_1_0', 'c_1_1']\nThe relevant constraint is:\n{'type': 'linear', 'selector': <function <lambda> at 0x7f2f50ebf0d0>, 'value': 1, 'weights': 4    1.0\n5    1.0\n6    1.0\n7    1.0\ndtype: float64, 'index': array([4, 5, 6, 7])}.",
     "output_type": "error",
     "traceback": [
      "\u001b[0;31m---------------------------------------------------------------------------\u001b[0m",
      "\u001b[0;31mInvalidParamsError\u001b[0m                        Traceback (most recent call last)",
      "Input \u001b[0;32mIn [5]\u001b[0m, in \u001b[0;36m<cell line: 1>\u001b[0;34m()\u001b[0m\n\u001b[0;32m----> 1\u001b[0m res \u001b[38;5;241m=\u001b[39m \u001b[43mem\u001b[49m\u001b[38;5;241;43m.\u001b[39;49m\u001b[43mminimize\u001b[49m\u001b[43m(\u001b[49m\n\u001b[1;32m      2\u001b[0m \u001b[43m    \u001b[49m\u001b[43mcriterion\u001b[49m\u001b[38;5;241;43m=\u001b[39;49m\u001b[43mcriterion\u001b[49m\u001b[43m,\u001b[49m\n\u001b[1;32m      3\u001b[0m \u001b[43m    \u001b[49m\u001b[43mparams\u001b[49m\u001b[38;5;241;43m=\u001b[39;49m\u001b[43mstart_params\u001b[49m\u001b[43m,\u001b[49m\n\u001b[1;32m      4\u001b[0m \u001b[43m    \u001b[49m\u001b[43malgorithm\u001b[49m\u001b[38;5;241;43m=\u001b[39;49m\u001b[38;5;124;43m\"\u001b[39;49m\u001b[38;5;124;43mnlopt_bobyqa\u001b[39;49m\u001b[38;5;124;43m\"\u001b[39;49m\u001b[43m,\u001b[49m\n\u001b[1;32m      5\u001b[0m \u001b[43m    \u001b[49m\u001b[43mconstraints\u001b[49m\u001b[38;5;241;43m=\u001b[39;49m\u001b[43m[\u001b[49m\n\u001b[1;32m      6\u001b[0m \u001b[43m        \u001b[49m\u001b[43m{\u001b[49m\u001b[38;5;124;43m\"\u001b[39;49m\u001b[38;5;124;43mtype\u001b[39;49m\u001b[38;5;124;43m\"\u001b[39;49m\u001b[43m:\u001b[49m\u001b[43m  \u001b[49m\u001b[38;5;124;43m\"\u001b[39;49m\u001b[38;5;124;43mlinear\u001b[39;49m\u001b[38;5;124;43m\"\u001b[39;49m\u001b[43m,\u001b[49m\u001b[43m \u001b[49m\u001b[38;5;124;43m\"\u001b[39;49m\u001b[38;5;124;43mselector\u001b[39;49m\u001b[38;5;124;43m\"\u001b[39;49m\u001b[43m:\u001b[49m\u001b[43m \u001b[49m\u001b[38;5;28;43;01mlambda\u001b[39;49;00m\u001b[43m \u001b[49m\u001b[43mx\u001b[49m\u001b[43m:\u001b[49m\u001b[43m \u001b[49m\u001b[43mx\u001b[49m\u001b[43m[\u001b[49m\u001b[38;5;124;43m\"\u001b[39;49m\u001b[38;5;124;43mc\u001b[39;49m\u001b[38;5;124;43m\"\u001b[39;49m\u001b[43m]\u001b[49m\u001b[43m,\u001b[49m\u001b[43m \u001b[49m\u001b[38;5;124;43m\"\u001b[39;49m\u001b[38;5;124;43mvalue\u001b[39;49m\u001b[38;5;124;43m\"\u001b[39;49m\u001b[43m:\u001b[49m\u001b[43m \u001b[49m\u001b[38;5;241;43m1\u001b[39;49m\u001b[43m,\u001b[49m\u001b[43m \u001b[49m\u001b[38;5;124;43m\"\u001b[39;49m\u001b[38;5;124;43mweights\u001b[39;49m\u001b[38;5;124;43m\"\u001b[39;49m\u001b[43m:\u001b[49m\u001b[43m \u001b[49m\u001b[38;5;241;43m1.0\u001b[39;49m\u001b[43m}\u001b[49m\n\u001b[1;32m      7\u001b[0m \u001b[43m    \u001b[49m\u001b[43m]\u001b[49m\u001b[43m,\u001b[49m\n\u001b[1;32m      8\u001b[0m \u001b[43m)\u001b[49m\n\u001b[1;32m     10\u001b[0m res\u001b[38;5;241m.\u001b[39mparams\n",
      "File \u001b[0;32m~/sciebo/phd/projects/janos/estimagic/src/estimagic/optimization/optimize.py:397\u001b[0m, in \u001b[0;36mminimize\u001b[0;34m(criterion, params, algorithm, lower_bounds, upper_bounds, soft_lower_bounds, soft_upper_bounds, criterion_kwargs, constraints, algo_options, derivative, derivative_kwargs, criterion_and_derivative, criterion_and_derivative_kwargs, numdiff_options, logging, log_options, error_handling, error_penalty, scaling, scaling_options, multistart, multistart_options, collect_history, skip_checks)\u001b[0m\n\u001b[1;32m    229\u001b[0m \u001b[38;5;28;01mdef\u001b[39;00m \u001b[38;5;21mminimize\u001b[39m(\n\u001b[1;32m    230\u001b[0m     criterion,\n\u001b[1;32m    231\u001b[0m     params,\n\u001b[0;32m   (...)\u001b[0m\n\u001b[1;32m    255\u001b[0m     skip_checks\u001b[38;5;241m=\u001b[39m\u001b[38;5;28;01mFalse\u001b[39;00m,\n\u001b[1;32m    256\u001b[0m ):\n\u001b[1;32m    257\u001b[0m     \u001b[38;5;124;03m\"\"\"Minimize criterion using algorithm subject to constraints.\u001b[39;00m\n\u001b[1;32m    258\u001b[0m \n\u001b[1;32m    259\u001b[0m \u001b[38;5;124;03m    Args:\u001b[39;00m\n\u001b[0;32m   (...)\u001b[0m\n\u001b[1;32m    395\u001b[0m \n\u001b[1;32m    396\u001b[0m \u001b[38;5;124;03m    \"\"\"\u001b[39;00m\n\u001b[0;32m--> 397\u001b[0m     \u001b[38;5;28;01mreturn\u001b[39;00m \u001b[43m_optimize\u001b[49m\u001b[43m(\u001b[49m\n\u001b[1;32m    398\u001b[0m \u001b[43m        \u001b[49m\u001b[43mdirection\u001b[49m\u001b[38;5;241;43m=\u001b[39;49m\u001b[38;5;124;43m\"\u001b[39;49m\u001b[38;5;124;43mminimize\u001b[39;49m\u001b[38;5;124;43m\"\u001b[39;49m\u001b[43m,\u001b[49m\n\u001b[1;32m    399\u001b[0m \u001b[43m        \u001b[49m\u001b[43mcriterion\u001b[49m\u001b[38;5;241;43m=\u001b[39;49m\u001b[43mcriterion\u001b[49m\u001b[43m,\u001b[49m\n\u001b[1;32m    400\u001b[0m \u001b[43m        \u001b[49m\u001b[43mparams\u001b[49m\u001b[38;5;241;43m=\u001b[39;49m\u001b[43mparams\u001b[49m\u001b[43m,\u001b[49m\n\u001b[1;32m    401\u001b[0m \u001b[43m        \u001b[49m\u001b[43malgorithm\u001b[49m\u001b[38;5;241;43m=\u001b[39;49m\u001b[43malgorithm\u001b[49m\u001b[43m,\u001b[49m\n\u001b[1;32m    402\u001b[0m \u001b[43m        \u001b[49m\u001b[43mlower_bounds\u001b[49m\u001b[38;5;241;43m=\u001b[39;49m\u001b[43mlower_bounds\u001b[49m\u001b[43m,\u001b[49m\n\u001b[1;32m    403\u001b[0m \u001b[43m        \u001b[49m\u001b[43mupper_bounds\u001b[49m\u001b[38;5;241;43m=\u001b[39;49m\u001b[43mupper_bounds\u001b[49m\u001b[43m,\u001b[49m\n\u001b[1;32m    404\u001b[0m \u001b[43m        \u001b[49m\u001b[43msoft_lower_bounds\u001b[49m\u001b[38;5;241;43m=\u001b[39;49m\u001b[43msoft_lower_bounds\u001b[49m\u001b[43m,\u001b[49m\n\u001b[1;32m    405\u001b[0m \u001b[43m        \u001b[49m\u001b[43msoft_upper_bounds\u001b[49m\u001b[38;5;241;43m=\u001b[39;49m\u001b[43msoft_upper_bounds\u001b[49m\u001b[43m,\u001b[49m\n\u001b[1;32m    406\u001b[0m \u001b[43m        \u001b[49m\u001b[43mcriterion_kwargs\u001b[49m\u001b[38;5;241;43m=\u001b[39;49m\u001b[43mcriterion_kwargs\u001b[49m\u001b[43m,\u001b[49m\n\u001b[1;32m    407\u001b[0m \u001b[43m        \u001b[49m\u001b[43mconstraints\u001b[49m\u001b[38;5;241;43m=\u001b[39;49m\u001b[43mconstraints\u001b[49m\u001b[43m,\u001b[49m\n\u001b[1;32m    408\u001b[0m \u001b[43m        \u001b[49m\u001b[43malgo_options\u001b[49m\u001b[38;5;241;43m=\u001b[39;49m\u001b[43malgo_options\u001b[49m\u001b[43m,\u001b[49m\n\u001b[1;32m    409\u001b[0m \u001b[43m        \u001b[49m\u001b[43mderivative\u001b[49m\u001b[38;5;241;43m=\u001b[39;49m\u001b[43mderivative\u001b[49m\u001b[43m,\u001b[49m\n\u001b[1;32m    410\u001b[0m \u001b[43m        \u001b[49m\u001b[43mderivative_kwargs\u001b[49m\u001b[38;5;241;43m=\u001b[39;49m\u001b[43mderivative_kwargs\u001b[49m\u001b[43m,\u001b[49m\n\u001b[1;32m    411\u001b[0m \u001b[43m        \u001b[49m\u001b[43mcriterion_and_derivative\u001b[49m\u001b[38;5;241;43m=\u001b[39;49m\u001b[43mcriterion_and_derivative\u001b[49m\u001b[43m,\u001b[49m\n\u001b[1;32m    412\u001b[0m \u001b[43m        \u001b[49m\u001b[43mcriterion_and_derivative_kwargs\u001b[49m\u001b[38;5;241;43m=\u001b[39;49m\u001b[43mcriterion_and_derivative_kwargs\u001b[49m\u001b[43m,\u001b[49m\n\u001b[1;32m    413\u001b[0m \u001b[43m        \u001b[49m\u001b[43mnumdiff_options\u001b[49m\u001b[38;5;241;43m=\u001b[39;49m\u001b[43mnumdiff_options\u001b[49m\u001b[43m,\u001b[49m\n\u001b[1;32m    414\u001b[0m \u001b[43m        \u001b[49m\u001b[43mlogging\u001b[49m\u001b[38;5;241;43m=\u001b[39;49m\u001b[43mlogging\u001b[49m\u001b[43m,\u001b[49m\n\u001b[1;32m    415\u001b[0m \u001b[43m        \u001b[49m\u001b[43mlog_options\u001b[49m\u001b[38;5;241;43m=\u001b[39;49m\u001b[43mlog_options\u001b[49m\u001b[43m,\u001b[49m\n\u001b[1;32m    416\u001b[0m \u001b[43m        \u001b[49m\u001b[43merror_handling\u001b[49m\u001b[38;5;241;43m=\u001b[39;49m\u001b[43merror_handling\u001b[49m\u001b[43m,\u001b[49m\n\u001b[1;32m    417\u001b[0m \u001b[43m        \u001b[49m\u001b[43merror_penalty\u001b[49m\u001b[38;5;241;43m=\u001b[39;49m\u001b[43merror_penalty\u001b[49m\u001b[43m,\u001b[49m\n\u001b[1;32m    418\u001b[0m \u001b[43m        \u001b[49m\u001b[43mscaling\u001b[49m\u001b[38;5;241;43m=\u001b[39;49m\u001b[43mscaling\u001b[49m\u001b[43m,\u001b[49m\n\u001b[1;32m    419\u001b[0m \u001b[43m        \u001b[49m\u001b[43mscaling_options\u001b[49m\u001b[38;5;241;43m=\u001b[39;49m\u001b[43mscaling_options\u001b[49m\u001b[43m,\u001b[49m\n\u001b[1;32m    420\u001b[0m \u001b[43m        \u001b[49m\u001b[43mmultistart\u001b[49m\u001b[38;5;241;43m=\u001b[39;49m\u001b[43mmultistart\u001b[49m\u001b[43m,\u001b[49m\n\u001b[1;32m    421\u001b[0m \u001b[43m        \u001b[49m\u001b[43mmultistart_options\u001b[49m\u001b[38;5;241;43m=\u001b[39;49m\u001b[43mmultistart_options\u001b[49m\u001b[43m,\u001b[49m\n\u001b[1;32m    422\u001b[0m \u001b[43m        \u001b[49m\u001b[43mcollect_history\u001b[49m\u001b[38;5;241;43m=\u001b[39;49m\u001b[43mcollect_history\u001b[49m\u001b[43m,\u001b[49m\n\u001b[1;32m    423\u001b[0m \u001b[43m        \u001b[49m\u001b[43mskip_checks\u001b[49m\u001b[38;5;241;43m=\u001b[39;49m\u001b[43mskip_checks\u001b[49m\u001b[43m,\u001b[49m\n\u001b[1;32m    424\u001b[0m \u001b[43m    \u001b[49m\u001b[43m)\u001b[49m\n",
      "File \u001b[0;32m~/sciebo/phd/projects/janos/estimagic/src/estimagic/optimization/optimize.py:627\u001b[0m, in \u001b[0;36m_optimize\u001b[0;34m(direction, criterion, params, algorithm, lower_bounds, upper_bounds, soft_lower_bounds, soft_upper_bounds, criterion_kwargs, constraints, algo_options, derivative, derivative_kwargs, criterion_and_derivative, criterion_and_derivative_kwargs, numdiff_options, logging, log_options, error_handling, error_penalty, scaling, scaling_options, multistart, multistart_options, collect_history, skip_checks)\u001b[0m\n\u001b[1;32m    622\u001b[0m     used_deriv \u001b[38;5;241m=\u001b[39m \u001b[38;5;28;01mNone\u001b[39;00m\n\u001b[1;32m    624\u001b[0m \u001b[38;5;66;03m# ==================================================================================\u001b[39;00m\n\u001b[1;32m    625\u001b[0m \u001b[38;5;66;03m# Get the converter (for tree flattening, constraints and scaling)\u001b[39;00m\n\u001b[1;32m    626\u001b[0m \u001b[38;5;66;03m# ==================================================================================\u001b[39;00m\n\u001b[0;32m--> 627\u001b[0m converter, internal_params \u001b[38;5;241m=\u001b[39m \u001b[43mget_converter\u001b[49m\u001b[43m(\u001b[49m\n\u001b[1;32m    628\u001b[0m \u001b[43m    \u001b[49m\u001b[43mparams\u001b[49m\u001b[38;5;241;43m=\u001b[39;49m\u001b[43mparams\u001b[49m\u001b[43m,\u001b[49m\n\u001b[1;32m    629\u001b[0m \u001b[43m    \u001b[49m\u001b[43mconstraints\u001b[49m\u001b[38;5;241;43m=\u001b[39;49m\u001b[43mconstraints\u001b[49m\u001b[43m,\u001b[49m\n\u001b[1;32m    630\u001b[0m \u001b[43m    \u001b[49m\u001b[43mlower_bounds\u001b[49m\u001b[38;5;241;43m=\u001b[39;49m\u001b[43mlower_bounds\u001b[49m\u001b[43m,\u001b[49m\n\u001b[1;32m    631\u001b[0m \u001b[43m    \u001b[49m\u001b[43mupper_bounds\u001b[49m\u001b[38;5;241;43m=\u001b[39;49m\u001b[43mupper_bounds\u001b[49m\u001b[43m,\u001b[49m\n\u001b[1;32m    632\u001b[0m \u001b[43m    \u001b[49m\u001b[43mfunc_eval\u001b[49m\u001b[38;5;241;43m=\u001b[39;49m\u001b[43mfirst_crit_eval\u001b[49m\u001b[43m,\u001b[49m\n\u001b[1;32m    633\u001b[0m \u001b[43m    \u001b[49m\u001b[43mprimary_key\u001b[49m\u001b[38;5;241;43m=\u001b[39;49m\u001b[43malgo_info\u001b[49m\u001b[38;5;241;43m.\u001b[39;49m\u001b[43mprimary_criterion_entry\u001b[49m\u001b[43m,\u001b[49m\n\u001b[1;32m    634\u001b[0m \u001b[43m    \u001b[49m\u001b[43mscaling\u001b[49m\u001b[38;5;241;43m=\u001b[39;49m\u001b[43mscaling\u001b[49m\u001b[43m,\u001b[49m\n\u001b[1;32m    635\u001b[0m \u001b[43m    \u001b[49m\u001b[43mscaling_options\u001b[49m\u001b[38;5;241;43m=\u001b[39;49m\u001b[43mscaling_options\u001b[49m\u001b[43m,\u001b[49m\n\u001b[1;32m    636\u001b[0m \u001b[43m    \u001b[49m\u001b[43mderivative_eval\u001b[49m\u001b[38;5;241;43m=\u001b[39;49m\u001b[43mused_deriv\u001b[49m\u001b[43m,\u001b[49m\n\u001b[1;32m    637\u001b[0m \u001b[43m    \u001b[49m\u001b[43msoft_lower_bounds\u001b[49m\u001b[38;5;241;43m=\u001b[39;49m\u001b[43msoft_lower_bounds\u001b[49m\u001b[43m,\u001b[49m\n\u001b[1;32m    638\u001b[0m \u001b[43m    \u001b[49m\u001b[43msoft_upper_bounds\u001b[49m\u001b[38;5;241;43m=\u001b[39;49m\u001b[43msoft_upper_bounds\u001b[49m\u001b[43m,\u001b[49m\n\u001b[1;32m    639\u001b[0m \u001b[43m    \u001b[49m\u001b[43madd_soft_bounds\u001b[49m\u001b[38;5;241;43m=\u001b[39;49m\u001b[43mmultistart\u001b[49m\u001b[43m,\u001b[49m\n\u001b[1;32m    640\u001b[0m \u001b[43m\u001b[49m\u001b[43m)\u001b[49m\n\u001b[1;32m    642\u001b[0m \u001b[38;5;66;03m# ==================================================================================\u001b[39;00m\n\u001b[1;32m    643\u001b[0m \u001b[38;5;66;03m# initialize the log database\u001b[39;00m\n\u001b[1;32m    644\u001b[0m \u001b[38;5;66;03m# ==================================================================================\u001b[39;00m\n\u001b[1;32m    645\u001b[0m \u001b[38;5;28;01mif\u001b[39;00m logging:\n",
      "File \u001b[0;32m~/sciebo/phd/projects/janos/estimagic/src/estimagic/parameters/conversion.py:99\u001b[0m, in \u001b[0;36mget_converter\u001b[0;34m(params, constraints, lower_bounds, upper_bounds, func_eval, primary_key, scaling, scaling_options, derivative_eval, soft_lower_bounds, soft_upper_bounds, add_soft_bounds)\u001b[0m\n\u001b[1;32m     80\u001b[0m tree_converter, flat_params \u001b[38;5;241m=\u001b[39m get_tree_converter(\n\u001b[1;32m     81\u001b[0m     params\u001b[38;5;241m=\u001b[39mparams,\n\u001b[1;32m     82\u001b[0m     lower_bounds\u001b[38;5;241m=\u001b[39mlower_bounds,\n\u001b[0;32m   (...)\u001b[0m\n\u001b[1;32m     89\u001b[0m     add_soft_bounds\u001b[38;5;241m=\u001b[39madd_soft_bounds,\n\u001b[1;32m     90\u001b[0m )\n\u001b[1;32m     92\u001b[0m flat_constraints \u001b[38;5;241m=\u001b[39m process_selectors(\n\u001b[1;32m     93\u001b[0m     constraints\u001b[38;5;241m=\u001b[39mconstraints,\n\u001b[1;32m     94\u001b[0m     params\u001b[38;5;241m=\u001b[39mparams,\n\u001b[1;32m     95\u001b[0m     tree_converter\u001b[38;5;241m=\u001b[39mtree_converter,\n\u001b[1;32m     96\u001b[0m     param_names\u001b[38;5;241m=\u001b[39mflat_params\u001b[38;5;241m.\u001b[39mnames,\n\u001b[1;32m     97\u001b[0m )\n\u001b[0;32m---> 99\u001b[0m space_converter, internal_params \u001b[38;5;241m=\u001b[39m \u001b[43mget_space_converter\u001b[49m\u001b[43m(\u001b[49m\n\u001b[1;32m    100\u001b[0m \u001b[43m    \u001b[49m\u001b[43mflat_params\u001b[49m\u001b[38;5;241;43m=\u001b[39;49m\u001b[43mflat_params\u001b[49m\u001b[43m,\u001b[49m\u001b[43m \u001b[49m\u001b[43mflat_constraints\u001b[49m\u001b[38;5;241;43m=\u001b[39;49m\u001b[43mflat_constraints\u001b[49m\n\u001b[1;32m    101\u001b[0m \u001b[43m\u001b[49m\u001b[43m)\u001b[49m\n\u001b[1;32m    103\u001b[0m scale_converter, scaled_params \u001b[38;5;241m=\u001b[39m get_scale_converter(\n\u001b[1;32m    104\u001b[0m     flat_params\u001b[38;5;241m=\u001b[39minternal_params,\n\u001b[1;32m    105\u001b[0m     scaling\u001b[38;5;241m=\u001b[39mscaling,\n\u001b[1;32m    106\u001b[0m     scaling_options\u001b[38;5;241m=\u001b[39mscaling_options,\n\u001b[1;32m    107\u001b[0m )\n\u001b[1;32m    109\u001b[0m \u001b[38;5;28;01mdef\u001b[39;00m \u001b[38;5;21m_params_to_internal\u001b[39m(params):\n",
      "File \u001b[0;32m~/sciebo/phd/projects/janos/estimagic/src/estimagic/parameters/space_conversion.py:63\u001b[0m, in \u001b[0;36mget_space_converter\u001b[0;34m(flat_params, flat_constraints)\u001b[0m\n\u001b[1;32m     44\u001b[0m \u001b[38;5;28;01mdef\u001b[39;00m \u001b[38;5;21mget_space_converter\u001b[39m(\n\u001b[1;32m     45\u001b[0m     flat_params,\n\u001b[1;32m     46\u001b[0m     flat_constraints,\n\u001b[1;32m     47\u001b[0m ):\n\u001b[1;32m     48\u001b[0m     \u001b[38;5;124;03m\"\"\"Get functions to convert between in-/external space of params and derivatives.\u001b[39;00m\n\u001b[1;32m     49\u001b[0m \n\u001b[1;32m     50\u001b[0m \u001b[38;5;124;03m    In the internal parameter space the optimization problem is unconstrained except\u001b[39;00m\n\u001b[0;32m   (...)\u001b[0m\n\u001b[1;32m     61\u001b[0m \n\u001b[1;32m     62\u001b[0m \u001b[38;5;124;03m    \"\"\"\u001b[39;00m\n\u001b[0;32m---> 63\u001b[0m     transformations, constr_info \u001b[38;5;241m=\u001b[39m \u001b[43mprocess_constraints\u001b[49m\u001b[43m(\u001b[49m\n\u001b[1;32m     64\u001b[0m \u001b[43m        \u001b[49m\u001b[43mconstraints\u001b[49m\u001b[38;5;241;43m=\u001b[39;49m\u001b[43mflat_constraints\u001b[49m\u001b[43m,\u001b[49m\n\u001b[1;32m     65\u001b[0m \u001b[43m        \u001b[49m\u001b[43mparams_vec\u001b[49m\u001b[38;5;241;43m=\u001b[39;49m\u001b[43mflat_params\u001b[49m\u001b[38;5;241;43m.\u001b[39;49m\u001b[43mvalues\u001b[49m\u001b[43m,\u001b[49m\n\u001b[1;32m     66\u001b[0m \u001b[43m        \u001b[49m\u001b[43mlower_bounds\u001b[49m\u001b[38;5;241;43m=\u001b[39;49m\u001b[43mflat_params\u001b[49m\u001b[38;5;241;43m.\u001b[39;49m\u001b[43mlower_bounds\u001b[49m\u001b[43m,\u001b[49m\n\u001b[1;32m     67\u001b[0m \u001b[43m        \u001b[49m\u001b[43mupper_bounds\u001b[49m\u001b[38;5;241;43m=\u001b[39;49m\u001b[43mflat_params\u001b[49m\u001b[38;5;241;43m.\u001b[39;49m\u001b[43mupper_bounds\u001b[49m\u001b[43m,\u001b[49m\n\u001b[1;32m     68\u001b[0m \u001b[43m        \u001b[49m\u001b[43mparam_names\u001b[49m\u001b[38;5;241;43m=\u001b[39;49m\u001b[43mflat_params\u001b[49m\u001b[38;5;241;43m.\u001b[39;49m\u001b[43mnames\u001b[49m\u001b[43m,\u001b[49m\n\u001b[1;32m     69\u001b[0m \u001b[43m    \u001b[49m\u001b[43m)\u001b[49m\n\u001b[1;32m     70\u001b[0m     _params_to_internal \u001b[38;5;241m=\u001b[39m partial(\n\u001b[1;32m     71\u001b[0m         reparametrize_to_internal,\n\u001b[1;32m     72\u001b[0m         internal_free\u001b[38;5;241m=\u001b[39mconstr_info[\u001b[38;5;124m\"\u001b[39m\u001b[38;5;124minternal_free\u001b[39m\u001b[38;5;124m\"\u001b[39m],\n\u001b[1;32m     73\u001b[0m         transformations\u001b[38;5;241m=\u001b[39mtransformations,\n\u001b[1;32m     74\u001b[0m     )\n\u001b[1;32m     76\u001b[0m     _params_from_internal \u001b[38;5;241m=\u001b[39m partial(\n\u001b[1;32m     77\u001b[0m         reparametrize_from_internal,\n\u001b[1;32m     78\u001b[0m         fixed_values\u001b[38;5;241m=\u001b[39mconstr_info[\u001b[38;5;124m\"\u001b[39m\u001b[38;5;124minternal_fixed_values\u001b[39m\u001b[38;5;124m\"\u001b[39m],\n\u001b[0;32m   (...)\u001b[0m\n\u001b[1;32m     81\u001b[0m         post_replacements\u001b[38;5;241m=\u001b[39mconstr_info[\u001b[38;5;124m\"\u001b[39m\u001b[38;5;124mpost_replacements\u001b[39m\u001b[38;5;124m\"\u001b[39m],\n\u001b[1;32m     82\u001b[0m     )\n",
      "File \u001b[0;32m~/sciebo/phd/projects/janos/estimagic/src/estimagic/parameters/process_constraints.py:76\u001b[0m, in \u001b[0;36mprocess_constraints\u001b[0;34m(constraints, params_vec, lower_bounds, upper_bounds, param_names)\u001b[0m\n\u001b[1;32m     74\u001b[0m constraints \u001b[38;5;241m=\u001b[39m _replace_pairwise_equality_by_equality(constraints)\n\u001b[1;32m     75\u001b[0m constraints \u001b[38;5;241m=\u001b[39m _process_linear_weights(constraints)\n\u001b[0;32m---> 76\u001b[0m \u001b[43mcheck_constraints_are_satisfied\u001b[49m\u001b[43m(\u001b[49m\u001b[43mconstraints\u001b[49m\u001b[43m,\u001b[49m\u001b[43m \u001b[49m\u001b[43mparams_vec\u001b[49m\u001b[43m,\u001b[49m\u001b[43m \u001b[49m\u001b[43mparam_names\u001b[49m\u001b[43m)\u001b[49m\n\u001b[1;32m     77\u001b[0m constraints \u001b[38;5;241m=\u001b[39m _replace_increasing_and_decreasing_by_linear(constraints)\n\u001b[1;32m     78\u001b[0m constraints \u001b[38;5;241m=\u001b[39m _process_linear_weights(constraints)\n",
      "File \u001b[0;32m~/sciebo/phd/projects/janos/estimagic/src/estimagic/parameters/check_constraints.py:87\u001b[0m, in \u001b[0;36mcheck_constraints_are_satisfied\u001b[0;34m(flat_constraints, param_values, param_names)\u001b[0m\n\u001b[1;32m     85\u001b[0m     \u001b[38;5;28;01melif\u001b[39;00m \u001b[38;5;124m\"\u001b[39m\u001b[38;5;124mvalue\u001b[39m\u001b[38;5;124m\"\u001b[39m \u001b[38;5;129;01min\u001b[39;00m constr \u001b[38;5;129;01mand\u001b[39;00m \u001b[38;5;129;01mnot\u001b[39;00m np\u001b[38;5;241m.\u001b[39misclose(wsum, constr[\u001b[38;5;124m\"\u001b[39m\u001b[38;5;124mvalue\u001b[39m\u001b[38;5;124m\"\u001b[39m]):\n\u001b[1;32m     86\u001b[0m         explanation \u001b[38;5;241m=\u001b[39m \u001b[38;5;124m\"\u001b[39m\u001b[38;5;124mEquality condition of linear constraint violated\u001b[39m\u001b[38;5;124m\"\u001b[39m\n\u001b[0;32m---> 87\u001b[0m         \u001b[38;5;28;01mraise\u001b[39;00m InvalidParamsError(_msg(explanation))\n\u001b[1;32m     88\u001b[0m \u001b[38;5;28;01melif\u001b[39;00m typ \u001b[38;5;241m==\u001b[39m \u001b[38;5;124m\"\u001b[39m\u001b[38;5;124mequality\u001b[39m\u001b[38;5;124m\"\u001b[39m:\n\u001b[1;32m     89\u001b[0m     \u001b[38;5;28;01mif\u001b[39;00m \u001b[38;5;28mlen\u001b[39m(\u001b[38;5;28mset\u001b[39m(subset\u001b[38;5;241m.\u001b[39mtolist())) \u001b[38;5;241m>\u001b[39m \u001b[38;5;241m1\u001b[39m:\n",
      "\u001b[0;31mInvalidParamsError\u001b[0m: A constraint of type 'linear' is not fulfilled in params. Equality condition of linear constraint violated. The names of the involved parameters are:\n['c_0_0', 'c_0_1', 'c_1_0', 'c_1_1']\nThe relevant constraint is:\n{'type': 'linear', 'selector': <function <lambda> at 0x7f2f50ebf0d0>, 'value': 1, 'weights': 4    1.0\n5    1.0\n6    1.0\n7    1.0\ndtype: float64, 'index': array([4, 5, 6, 7])}."
     ]
    }
   ],
   "source": [
    "res = em.minimize(\n",
    "    criterion=criterion,\n",
    "    params=start_params,\n",
    "    algorithm=\"nlopt_bobyqa\",\n",
    "    constraints=[\n",
    "        {\"type\":  \"linear\", \"selector\": lambda x: x[\"c\"], \"value\": 1, \"weights\": 1.0}\n",
    "    ],\n",
    ")\n",
    "\n",
    "res.params"
   ]
  }
 ],
 "metadata": {
  "kernelspec": {
   "display_name": "Python 3 (ipykernel)",
   "language": "python",
   "name": "python3"
  },
  "language_info": {
   "codemirror_mode": {
    "name": "ipython",
    "version": 3
   },
   "file_extension": ".py",
   "mimetype": "text/x-python",
   "name": "python",
   "nbconvert_exporter": "python",
   "pygments_lexer": "ipython3",
   "version": "3.9.0"
  }
 },
 "nbformat": 4,
 "nbformat_minor": 5
}
