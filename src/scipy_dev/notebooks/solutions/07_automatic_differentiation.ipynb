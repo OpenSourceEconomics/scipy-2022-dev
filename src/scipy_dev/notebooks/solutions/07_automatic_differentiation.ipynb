{
 "cells": [
  {
   "cell_type": "markdown",
   "id": "5b4c54e4",
   "metadata": {},
   "source": [
    "# Automatic differentiation\n",
    "\n",
    "In this exercise you will use automatic differentiation in JAX and estimagic to solve the previous problem.\n",
    "\n",
    "## Resources\n",
    "\n",
    "- https://jax.readthedocs.io/en/latest/jax.numpy.html\n",
    "- https://jax.readthedocs.io/en/latest/notebooks/autodiff_cookbook.html"
   ]
  },
  {
   "cell_type": "code",
   "execution_count": 1,
   "id": "b819cbd7",
   "metadata": {},
   "outputs": [],
   "source": [
    "import jax \n",
    "import jax.numpy as jnp\n",
    "import estimagic as em\n",
    "\n",
    "jax.config.update(\"jax_enable_x64\", True)"
   ]
  },
  {
   "cell_type": "markdown",
   "id": "84a4abd1",
   "metadata": {},
   "source": [
    "## Task 1:  Switch to JAX\n",
    "\n",
    "- Use the code from exercise 2, task 2, and convert the criterion function and the parameters to JAX. Hint: look at the [`jax.numpy` documentation](https://jax.readthedocs.io/en/latest/jax.numpy.html) and slides if you have any questions."
   ]
  },
  {
   "cell_type": "code",
   "execution_count": 2,
   "id": "7fe73bcd",
   "metadata": {},
   "outputs": [],
   "source": [
    "def criterion(x):\n",
    "    first = (x[\"a\"] - jnp.pi) ** 2\n",
    "    second =  jnp.sum((x[\"b\"] - jnp.arange(3)) ** 2)\n",
    "    third = jnp.sum((x[\"c\"] - jnp.eye(2)) ** 2)\n",
    "    return first + second + third\n",
    "    \n",
    "    \n",
    "start_params = {\n",
    "    \"a\": 1.,\n",
    "    \"b\": jnp.ones(3).astype(float),\n",
    "    \"c\": jnp.ones((2, 2)).astype(float)\n",
    "}"
   ]
  },
  {
   "cell_type": "code",
   "execution_count": 3,
   "id": "910b0b5e",
   "metadata": {},
   "outputs": [
    {
     "data": {
      "text/plain": [
       "DeviceArray(8.58641909, dtype=float64)"
      ]
     },
     "execution_count": 3,
     "metadata": {},
     "output_type": "execute_result"
    }
   ],
   "source": [
    "criterion(start_params)"
   ]
  },
  {
   "cell_type": "markdown",
   "id": "c690e3bf",
   "metadata": {},
   "source": [
    "## Solution, Task 1 (Windows):"
   ]
  },
  {
   "cell_type": "code",
   "execution_count": 4,
   "id": "22bfb278",
   "metadata": {},
   "outputs": [],
   "source": [
    "import numpy as np\n",
    "\n",
    "def criterion_windows(x):\n",
    "    first = (x[\"a\"] - jnp.pi) ** 2\n",
    "    second =  np.sum((x[\"b\"] - np.arange(3)) ** 2)\n",
    "    third = np.sum((x[\"c\"] - np.eye(2)) ** 2)\n",
    "    return first + second + third\n",
    "    \n",
    "    \n",
    "start_params_windows = {\n",
    "    \"a\": 1.,\n",
    "    \"b\": np.ones(3).astype(float),\n",
    "    \"c\": np.ones((2, 2)).astype(float)\n",
    "}"
   ]
  },
  {
   "cell_type": "markdown",
   "id": "9c2814c9",
   "metadata": {},
   "source": [
    "## Solution, Task 2: Gradient\n",
    "\n",
    "- Compute the gradient of the criterion (the whole function). Hint: look at the [`autodiff_cookbook` documentation](https://jax.readthedocs.io/en/latest/notebooks/autodiff_cookbook.html) and slides if you have any questions."
   ]
  },
  {
   "cell_type": "code",
   "execution_count": 5,
   "id": "122f2831",
   "metadata": {},
   "outputs": [
    {
     "data": {
      "text/plain": [
       "{'a': DeviceArray(-4.28318531, dtype=float64, weak_type=True),\n",
       " 'b': DeviceArray([ 2.,  0., -2.], dtype=float64),\n",
       " 'c': DeviceArray([[0., 2.],\n",
       "              [2., 0.]], dtype=float64)}"
      ]
     },
     "execution_count": 5,
     "metadata": {},
     "output_type": "execute_result"
    }
   ],
   "source": [
    "gradient = jax.grad(criterion)\n",
    "gradient(start_params)"
   ]
  },
  {
   "cell_type": "code",
   "execution_count": 6,
   "id": "7aefa2e9",
   "metadata": {},
   "outputs": [
    {
     "name": "stdout",
     "output_type": "stream",
     "text": [
      "11.5 ms ± 2.05 ms per loop (mean ± std. dev. of 7 runs, 100 loops each)\n"
     ]
    }
   ],
   "source": [
    "%timeit gradient(start_params)"
   ]
  },
  {
   "cell_type": "code",
   "execution_count": 7,
   "id": "dd8ffcc6",
   "metadata": {},
   "outputs": [
    {
     "name": "stdout",
     "output_type": "stream",
     "text": [
      "17.2 µs ± 7.57 µs per loop (mean ± std. dev. of 7 runs, 100,000 loops each)\n"
     ]
    }
   ],
   "source": [
    "jitted_gradient = jax.jit(gradient)\n",
    "%timeit jitted_gradient(start_params)"
   ]
  },
  {
   "cell_type": "markdown",
   "id": "92f96dcc",
   "metadata": {},
   "source": [
    "## Solution, Task 2 (Windows):\n",
    "\n",
    "The analytical gradient of the function is given by:\n",
    "\n",
    "- $\\partial_a f(a, b, C) = 2 (a - \\pi)$\n",
    "- $\\partial_b f(a, b, C) = 2 (b - \\begin{pmatrix}0,1,2\\end{pmatrix}^\\top)$\n",
    "- $\\partial_C f(a, b, C) = 2 (C - I_2)$\n",
    "\n",
    "---\n",
    "\n",
    "- Implement the analytical gradient\n",
    "    - return the gradient in the form of `{\"a\": ..., \"b\": ..., \"C\": ...}`"
   ]
  },
  {
   "cell_type": "code",
   "execution_count": 8,
   "id": "2201091d",
   "metadata": {},
   "outputs": [],
   "source": [
    "def gradient(params):\n",
    "    return {\n",
    "        \"a\": 2 * (params[\"a\"] - np.pi),\n",
    "        \"b\": 2 * (params[\"b\"] - np.array([0, 1, 2])),\n",
    "        \"c\": 2 * (params[\"c\"] - np.eye(2))\n",
    "    }"
   ]
  },
  {
   "cell_type": "markdown",
   "id": "e9e578b5",
   "metadata": {},
   "source": [
    "## Solution, Task 3: Minimize\n",
    "\n",
    "- Use estimagic to minimize the criterion\n",
    "    - pass the gradient function you computed above to the minimize call.\n",
    "    - use the `\"scipy_lbfgsb\"` algorithm."
   ]
  },
  {
   "cell_type": "code",
   "execution_count": 9,
   "id": "f23ead7a",
   "metadata": {},
   "outputs": [
    {
     "data": {
      "text/plain": [
       "{'a': 3.141592653589793,\n",
       " 'b': DeviceArray([3.33066907e-16, 1.00000000e+00, 2.00000000e+00], dtype=float64),\n",
       " 'c': DeviceArray([[1.00000000e+00, 3.33066907e-16],\n",
       "              [3.33066907e-16, 1.00000000e+00]], dtype=float64)}"
      ]
     },
     "execution_count": 9,
     "metadata": {},
     "output_type": "execute_result"
    }
   ],
   "source": [
    "res = em.minimize(\n",
    "    criterion=criterion,\n",
    "    derivative=jitted_gradient,\n",
    "    params=start_params,\n",
    "    algorithm=\"scipy_lbfgsb\",\n",
    ")\n",
    "\n",
    "res.params"
   ]
  },
  {
   "cell_type": "code",
   "execution_count": 10,
   "id": "1ef9fc6e",
   "metadata": {},
   "outputs": [
    {
     "data": {
      "text/plain": [
       "{'a': 3.141592653589793,\n",
       " 'b': array([3.33066907e-16, 1.00000000e+00, 2.00000000e+00]),\n",
       " 'c': array([[1.00000000e+00, 3.33066907e-16],\n",
       "        [3.33066907e-16, 1.00000000e+00]])}"
      ]
     },
     "execution_count": 10,
     "metadata": {},
     "output_type": "execute_result"
    }
   ],
   "source": [
    "res = em.minimize(\n",
    "    criterion=criterion_windows,\n",
    "    derivative=gradient,\n",
    "    params=start_params_windows,\n",
    "    algorithm=\"scipy_lbfgsb\",\n",
    ")\n",
    "\n",
    "res.params"
   ]
  }
 ],
 "metadata": {
  "kernelspec": {
   "display_name": "Python 3 (ipykernel)",
   "language": "python",
   "name": "python3"
  },
  "language_info": {
   "codemirror_mode": {
    "name": "ipython",
    "version": 3
   },
   "file_extension": ".py",
   "mimetype": "text/x-python",
   "name": "python",
   "nbconvert_exporter": "python",
   "pygments_lexer": "ipython3",
   "version": "3.9.0"
  }
 },
 "nbformat": 4,
 "nbformat_minor": 5
}
